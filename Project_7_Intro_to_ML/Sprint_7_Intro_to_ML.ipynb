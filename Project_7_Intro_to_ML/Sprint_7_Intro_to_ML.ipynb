{
 "cells": [
  {
   "cell_type": "markdown",
   "metadata": {},
   "source": [
    "# Project Overview\n",
    "\n",
    "Develop a model to analyze legacy subscriber behavior from the mobile carrier Megaline to recommend one of Megaline's new plans (Smart or Ultra).\n",
    "\n",
    "Using behavior data about subscribers who have switched to a new plan, develop a model that will pick the right plan for users on a legacy plan. The model requires high accuracy with a threshold of 0.75."
   ]
  },
  {
   "cell_type": "markdown",
   "metadata": {},
   "source": [
    "# Environment Setup and Required Libraries"
   ]
  },
  {
   "cell_type": "markdown",
   "metadata": {},
   "source": [
    "**Plan of Action:**\n",
    "- Load the dataset\n",
    "- Split the source data into 3 sets (training, validation, and test)\n",
    "- Investigate the quality of different models\n",
    "- Check the quality of the models through hyperparameters\n",
    "- Check the model for errors\n",
    "\n",
    "**What is the target?**\n",
    "\n",
    "Finding the right plan for legacy users based on user behavior of current new plan users.\n",
    "- target = is_ultra\n",
    "\n",
    "**What is the feature?**\n",
    "\n",
    "The features are all of the other columns\n"
   ]
  },
  {
   "cell_type": "code",
   "execution_count": 1,
   "metadata": {},
   "outputs": [],
   "source": [
    "#Required Libraries\n",
    "\n",
    "import pandas as pd\n",
    "from sklearn.model_selection import train_test_split\n",
    "from sklearn.metrics import mean_squared_error\n",
    "from sklearn import set_config\n",
    "\n",
    "\n",
    "# Imports for a Decision Tree\n",
    "from sklearn.tree import DecisionTreeClassifier\n",
    "from sklearn.tree import DecisionTreeRegressor\n",
    "from sklearn.metrics import accuracy_score\n",
    "\n",
    "\n",
    "# Imports for Random Forest\n",
    "from sklearn.ensemble import RandomForestClassifier\n",
    "from sklearn.ensemble import RandomForestRegressor\n",
    "\n",
    "\n",
    "# Imports for Logistic Regression\n",
    "from sklearn.linear_model import LogisticRegression\n",
    "\n",
    "\n",
    "# Imports for Linear Regression\n",
    "from sklearn.linear_model import LinearRegression\n"
   ]
  },
  {
   "cell_type": "markdown",
   "metadata": {},
   "source": [
    "# Step 1: Loading and Initial Data Exploration"
   ]
  },
  {
   "cell_type": "code",
   "execution_count": 2,
   "metadata": {},
   "outputs": [
    {
     "data": {
      "text/html": [
       "<div>\n",
       "<style scoped>\n",
       "    .dataframe tbody tr th:only-of-type {\n",
       "        vertical-align: middle;\n",
       "    }\n",
       "\n",
       "    .dataframe tbody tr th {\n",
       "        vertical-align: top;\n",
       "    }\n",
       "\n",
       "    .dataframe thead th {\n",
       "        text-align: right;\n",
       "    }\n",
       "</style>\n",
       "<table border=\"1\" class=\"dataframe\">\n",
       "  <thead>\n",
       "    <tr style=\"text-align: right;\">\n",
       "      <th></th>\n",
       "      <th>calls</th>\n",
       "      <th>minutes</th>\n",
       "      <th>messages</th>\n",
       "      <th>mb_used</th>\n",
       "      <th>is_ultra</th>\n",
       "    </tr>\n",
       "  </thead>\n",
       "  <tbody>\n",
       "    <tr>\n",
       "      <th>0</th>\n",
       "      <td>40.0</td>\n",
       "      <td>311.90</td>\n",
       "      <td>83.0</td>\n",
       "      <td>19915.42</td>\n",
       "      <td>0</td>\n",
       "    </tr>\n",
       "    <tr>\n",
       "      <th>1</th>\n",
       "      <td>85.0</td>\n",
       "      <td>516.75</td>\n",
       "      <td>56.0</td>\n",
       "      <td>22696.96</td>\n",
       "      <td>0</td>\n",
       "    </tr>\n",
       "    <tr>\n",
       "      <th>2</th>\n",
       "      <td>77.0</td>\n",
       "      <td>467.66</td>\n",
       "      <td>86.0</td>\n",
       "      <td>21060.45</td>\n",
       "      <td>0</td>\n",
       "    </tr>\n",
       "    <tr>\n",
       "      <th>3</th>\n",
       "      <td>106.0</td>\n",
       "      <td>745.53</td>\n",
       "      <td>81.0</td>\n",
       "      <td>8437.39</td>\n",
       "      <td>1</td>\n",
       "    </tr>\n",
       "    <tr>\n",
       "      <th>4</th>\n",
       "      <td>66.0</td>\n",
       "      <td>418.74</td>\n",
       "      <td>1.0</td>\n",
       "      <td>14502.75</td>\n",
       "      <td>0</td>\n",
       "    </tr>\n",
       "    <tr>\n",
       "      <th>...</th>\n",
       "      <td>...</td>\n",
       "      <td>...</td>\n",
       "      <td>...</td>\n",
       "      <td>...</td>\n",
       "      <td>...</td>\n",
       "    </tr>\n",
       "    <tr>\n",
       "      <th>3209</th>\n",
       "      <td>122.0</td>\n",
       "      <td>910.98</td>\n",
       "      <td>20.0</td>\n",
       "      <td>35124.90</td>\n",
       "      <td>1</td>\n",
       "    </tr>\n",
       "    <tr>\n",
       "      <th>3210</th>\n",
       "      <td>25.0</td>\n",
       "      <td>190.36</td>\n",
       "      <td>0.0</td>\n",
       "      <td>3275.61</td>\n",
       "      <td>0</td>\n",
       "    </tr>\n",
       "    <tr>\n",
       "      <th>3211</th>\n",
       "      <td>97.0</td>\n",
       "      <td>634.44</td>\n",
       "      <td>70.0</td>\n",
       "      <td>13974.06</td>\n",
       "      <td>0</td>\n",
       "    </tr>\n",
       "    <tr>\n",
       "      <th>3212</th>\n",
       "      <td>64.0</td>\n",
       "      <td>462.32</td>\n",
       "      <td>90.0</td>\n",
       "      <td>31239.78</td>\n",
       "      <td>0</td>\n",
       "    </tr>\n",
       "    <tr>\n",
       "      <th>3213</th>\n",
       "      <td>80.0</td>\n",
       "      <td>566.09</td>\n",
       "      <td>6.0</td>\n",
       "      <td>29480.52</td>\n",
       "      <td>1</td>\n",
       "    </tr>\n",
       "  </tbody>\n",
       "</table>\n",
       "<p>3214 rows × 5 columns</p>\n",
       "</div>"
      ],
      "text/plain": [
       "      calls  minutes  messages   mb_used  is_ultra\n",
       "0      40.0   311.90      83.0  19915.42         0\n",
       "1      85.0   516.75      56.0  22696.96         0\n",
       "2      77.0   467.66      86.0  21060.45         0\n",
       "3     106.0   745.53      81.0   8437.39         1\n",
       "4      66.0   418.74       1.0  14502.75         0\n",
       "...     ...      ...       ...       ...       ...\n",
       "3209  122.0   910.98      20.0  35124.90         1\n",
       "3210   25.0   190.36       0.0   3275.61         0\n",
       "3211   97.0   634.44      70.0  13974.06         0\n",
       "3212   64.0   462.32      90.0  31239.78         0\n",
       "3213   80.0   566.09       6.0  29480.52         1\n",
       "\n",
       "[3214 rows x 5 columns]"
      ]
     },
     "metadata": {},
     "output_type": "display_data"
    }
   ],
   "source": [
    "# Load the dataset\n",
    "user_behavior = pd.read_csv(\"/datasets/users_behavior.csv\")\n",
    "display(user_behavior)\n"
   ]
  },
  {
   "cell_type": "code",
   "execution_count": 3,
   "metadata": {},
   "outputs": [
    {
     "name": "stdout",
     "output_type": "stream",
     "text": [
      "<class 'pandas.core.frame.DataFrame'>\n",
      "RangeIndex: 3214 entries, 0 to 3213\n",
      "Data columns (total 5 columns):\n",
      " #   Column    Non-Null Count  Dtype  \n",
      "---  ------    --------------  -----  \n",
      " 0   calls     3214 non-null   float64\n",
      " 1   minutes   3214 non-null   float64\n",
      " 2   messages  3214 non-null   float64\n",
      " 3   mb_used   3214 non-null   float64\n",
      " 4   is_ultra  3214 non-null   int64  \n",
      "dtypes: float64(4), int64(1)\n",
      "memory usage: 125.7 KB\n"
     ]
    }
   ],
   "source": [
    "# Display information\n",
    "user_behavior.info()\n"
   ]
  },
  {
   "cell_type": "markdown",
   "metadata": {},
   "source": [
    "**Data Information:**\n",
    "- 3,214 rows\n",
    "- 5 columns\n",
    "- No missing data\n",
    "- All data types correctly labeled"
   ]
  },
  {
   "cell_type": "markdown",
   "metadata": {},
   "source": [
    "# Step 2: Split the Data"
   ]
  },
  {
   "cell_type": "markdown",
   "metadata": {},
   "source": [
    "Since a test set does not exist, the standard practice is to separate the datasets in a 3:1:1 ratio or 60:20:20. The validation and test sets are usually equal."
   ]
  },
  {
   "cell_type": "code",
   "execution_count": 4,
   "metadata": {},
   "outputs": [],
   "source": [
    "# Split the source data into a training set, a validation set, and a test set\n",
    "\n",
    "# First, split the training set at 60%\n",
    "df_train, df_temp = train_test_split(user_behavior,test_size=0.4,random_state=12345)\n",
    "\n",
    "# Second, split the validation set and the testing set at 20%\n",
    "df_valid, df_test = train_test_split(df_temp,test_size=0.5,random_state = 12345)"
   ]
  },
  {
   "cell_type": "code",
   "execution_count": 5,
   "metadata": {},
   "outputs": [
    {
     "data": {
      "text/html": [
       "<div>\n",
       "<style scoped>\n",
       "    .dataframe tbody tr th:only-of-type {\n",
       "        vertical-align: middle;\n",
       "    }\n",
       "\n",
       "    .dataframe tbody tr th {\n",
       "        vertical-align: top;\n",
       "    }\n",
       "\n",
       "    .dataframe thead th {\n",
       "        text-align: right;\n",
       "    }\n",
       "</style>\n",
       "<table border=\"1\" class=\"dataframe\">\n",
       "  <thead>\n",
       "    <tr style=\"text-align: right;\">\n",
       "      <th></th>\n",
       "      <th>calls</th>\n",
       "      <th>minutes</th>\n",
       "      <th>messages</th>\n",
       "      <th>mb_used</th>\n",
       "      <th>is_ultra</th>\n",
       "    </tr>\n",
       "  </thead>\n",
       "  <tbody>\n",
       "    <tr>\n",
       "      <th>3027</th>\n",
       "      <td>60.0</td>\n",
       "      <td>431.56</td>\n",
       "      <td>26.0</td>\n",
       "      <td>14751.26</td>\n",
       "      <td>0</td>\n",
       "    </tr>\n",
       "    <tr>\n",
       "      <th>434</th>\n",
       "      <td>33.0</td>\n",
       "      <td>265.17</td>\n",
       "      <td>59.0</td>\n",
       "      <td>17398.02</td>\n",
       "      <td>0</td>\n",
       "    </tr>\n",
       "    <tr>\n",
       "      <th>1226</th>\n",
       "      <td>52.0</td>\n",
       "      <td>341.83</td>\n",
       "      <td>68.0</td>\n",
       "      <td>15462.38</td>\n",
       "      <td>0</td>\n",
       "    </tr>\n",
       "    <tr>\n",
       "      <th>1054</th>\n",
       "      <td>42.0</td>\n",
       "      <td>226.18</td>\n",
       "      <td>21.0</td>\n",
       "      <td>13243.48</td>\n",
       "      <td>0</td>\n",
       "    </tr>\n",
       "    <tr>\n",
       "      <th>1842</th>\n",
       "      <td>30.0</td>\n",
       "      <td>198.42</td>\n",
       "      <td>0.0</td>\n",
       "      <td>8189.53</td>\n",
       "      <td>0</td>\n",
       "    </tr>\n",
       "    <tr>\n",
       "      <th>...</th>\n",
       "      <td>...</td>\n",
       "      <td>...</td>\n",
       "      <td>...</td>\n",
       "      <td>...</td>\n",
       "      <td>...</td>\n",
       "    </tr>\n",
       "    <tr>\n",
       "      <th>2817</th>\n",
       "      <td>12.0</td>\n",
       "      <td>86.62</td>\n",
       "      <td>22.0</td>\n",
       "      <td>36628.85</td>\n",
       "      <td>1</td>\n",
       "    </tr>\n",
       "    <tr>\n",
       "      <th>546</th>\n",
       "      <td>65.0</td>\n",
       "      <td>458.46</td>\n",
       "      <td>0.0</td>\n",
       "      <td>15214.25</td>\n",
       "      <td>1</td>\n",
       "    </tr>\n",
       "    <tr>\n",
       "      <th>382</th>\n",
       "      <td>144.0</td>\n",
       "      <td>906.18</td>\n",
       "      <td>0.0</td>\n",
       "      <td>25002.44</td>\n",
       "      <td>1</td>\n",
       "    </tr>\n",
       "    <tr>\n",
       "      <th>2177</th>\n",
       "      <td>38.0</td>\n",
       "      <td>301.27</td>\n",
       "      <td>37.0</td>\n",
       "      <td>28914.24</td>\n",
       "      <td>1</td>\n",
       "    </tr>\n",
       "    <tr>\n",
       "      <th>482</th>\n",
       "      <td>160.0</td>\n",
       "      <td>1084.05</td>\n",
       "      <td>95.0</td>\n",
       "      <td>36843.92</td>\n",
       "      <td>1</td>\n",
       "    </tr>\n",
       "  </tbody>\n",
       "</table>\n",
       "<p>1928 rows × 5 columns</p>\n",
       "</div>"
      ],
      "text/plain": [
       "      calls  minutes  messages   mb_used  is_ultra\n",
       "3027   60.0   431.56      26.0  14751.26         0\n",
       "434    33.0   265.17      59.0  17398.02         0\n",
       "1226   52.0   341.83      68.0  15462.38         0\n",
       "1054   42.0   226.18      21.0  13243.48         0\n",
       "1842   30.0   198.42       0.0   8189.53         0\n",
       "...     ...      ...       ...       ...       ...\n",
       "2817   12.0    86.62      22.0  36628.85         1\n",
       "546    65.0   458.46       0.0  15214.25         1\n",
       "382   144.0   906.18       0.0  25002.44         1\n",
       "2177   38.0   301.27      37.0  28914.24         1\n",
       "482   160.0  1084.05      95.0  36843.92         1\n",
       "\n",
       "[1928 rows x 5 columns]"
      ]
     },
     "metadata": {},
     "output_type": "display_data"
    },
    {
     "name": "stdout",
     "output_type": "stream",
     "text": [
      "<class 'pandas.core.frame.DataFrame'>\n",
      "Int64Index: 1928 entries, 3027 to 482\n",
      "Data columns (total 5 columns):\n",
      " #   Column    Non-Null Count  Dtype  \n",
      "---  ------    --------------  -----  \n",
      " 0   calls     1928 non-null   float64\n",
      " 1   minutes   1928 non-null   float64\n",
      " 2   messages  1928 non-null   float64\n",
      " 3   mb_used   1928 non-null   float64\n",
      " 4   is_ultra  1928 non-null   int64  \n",
      "dtypes: float64(4), int64(1)\n",
      "memory usage: 90.4 KB\n"
     ]
    }
   ],
   "source": [
    "# Observe the training set\n",
    "display(df_train)\n",
    "\n",
    "df_train.info()"
   ]
  },
  {
   "cell_type": "code",
   "execution_count": 6,
   "metadata": {},
   "outputs": [
    {
     "data": {
      "text/html": [
       "<div>\n",
       "<style scoped>\n",
       "    .dataframe tbody tr th:only-of-type {\n",
       "        vertical-align: middle;\n",
       "    }\n",
       "\n",
       "    .dataframe tbody tr th {\n",
       "        vertical-align: top;\n",
       "    }\n",
       "\n",
       "    .dataframe thead th {\n",
       "        text-align: right;\n",
       "    }\n",
       "</style>\n",
       "<table border=\"1\" class=\"dataframe\">\n",
       "  <thead>\n",
       "    <tr style=\"text-align: right;\">\n",
       "      <th></th>\n",
       "      <th>calls</th>\n",
       "      <th>minutes</th>\n",
       "      <th>messages</th>\n",
       "      <th>mb_used</th>\n",
       "      <th>is_ultra</th>\n",
       "    </tr>\n",
       "  </thead>\n",
       "  <tbody>\n",
       "    <tr>\n",
       "      <th>1386</th>\n",
       "      <td>92.0</td>\n",
       "      <td>536.96</td>\n",
       "      <td>18.0</td>\n",
       "      <td>20193.90</td>\n",
       "      <td>0</td>\n",
       "    </tr>\n",
       "    <tr>\n",
       "      <th>3124</th>\n",
       "      <td>40.0</td>\n",
       "      <td>286.57</td>\n",
       "      <td>17.0</td>\n",
       "      <td>17918.75</td>\n",
       "      <td>0</td>\n",
       "    </tr>\n",
       "    <tr>\n",
       "      <th>1956</th>\n",
       "      <td>81.0</td>\n",
       "      <td>531.22</td>\n",
       "      <td>56.0</td>\n",
       "      <td>17755.06</td>\n",
       "      <td>0</td>\n",
       "    </tr>\n",
       "    <tr>\n",
       "      <th>2286</th>\n",
       "      <td>67.0</td>\n",
       "      <td>460.76</td>\n",
       "      <td>27.0</td>\n",
       "      <td>16626.26</td>\n",
       "      <td>0</td>\n",
       "    </tr>\n",
       "    <tr>\n",
       "      <th>3077</th>\n",
       "      <td>22.0</td>\n",
       "      <td>120.09</td>\n",
       "      <td>16.0</td>\n",
       "      <td>9039.57</td>\n",
       "      <td>0</td>\n",
       "    </tr>\n",
       "    <tr>\n",
       "      <th>...</th>\n",
       "      <td>...</td>\n",
       "      <td>...</td>\n",
       "      <td>...</td>\n",
       "      <td>...</td>\n",
       "      <td>...</td>\n",
       "    </tr>\n",
       "    <tr>\n",
       "      <th>1999</th>\n",
       "      <td>56.0</td>\n",
       "      <td>398.45</td>\n",
       "      <td>4.0</td>\n",
       "      <td>23682.94</td>\n",
       "      <td>0</td>\n",
       "    </tr>\n",
       "    <tr>\n",
       "      <th>1023</th>\n",
       "      <td>76.0</td>\n",
       "      <td>601.10</td>\n",
       "      <td>0.0</td>\n",
       "      <td>17104.36</td>\n",
       "      <td>0</td>\n",
       "    </tr>\n",
       "    <tr>\n",
       "      <th>748</th>\n",
       "      <td>81.0</td>\n",
       "      <td>525.97</td>\n",
       "      <td>15.0</td>\n",
       "      <td>18878.91</td>\n",
       "      <td>0</td>\n",
       "    </tr>\n",
       "    <tr>\n",
       "      <th>1667</th>\n",
       "      <td>10.0</td>\n",
       "      <td>63.03</td>\n",
       "      <td>0.0</td>\n",
       "      <td>2568.00</td>\n",
       "      <td>1</td>\n",
       "    </tr>\n",
       "    <tr>\n",
       "      <th>3197</th>\n",
       "      <td>89.0</td>\n",
       "      <td>660.72</td>\n",
       "      <td>68.0</td>\n",
       "      <td>11711.54</td>\n",
       "      <td>0</td>\n",
       "    </tr>\n",
       "  </tbody>\n",
       "</table>\n",
       "<p>643 rows × 5 columns</p>\n",
       "</div>"
      ],
      "text/plain": [
       "      calls  minutes  messages   mb_used  is_ultra\n",
       "1386   92.0   536.96      18.0  20193.90         0\n",
       "3124   40.0   286.57      17.0  17918.75         0\n",
       "1956   81.0   531.22      56.0  17755.06         0\n",
       "2286   67.0   460.76      27.0  16626.26         0\n",
       "3077   22.0   120.09      16.0   9039.57         0\n",
       "...     ...      ...       ...       ...       ...\n",
       "1999   56.0   398.45       4.0  23682.94         0\n",
       "1023   76.0   601.10       0.0  17104.36         0\n",
       "748    81.0   525.97      15.0  18878.91         0\n",
       "1667   10.0    63.03       0.0   2568.00         1\n",
       "3197   89.0   660.72      68.0  11711.54         0\n",
       "\n",
       "[643 rows x 5 columns]"
      ]
     },
     "metadata": {},
     "output_type": "display_data"
    },
    {
     "name": "stdout",
     "output_type": "stream",
     "text": [
      "<class 'pandas.core.frame.DataFrame'>\n",
      "Int64Index: 643 entries, 1386 to 3197\n",
      "Data columns (total 5 columns):\n",
      " #   Column    Non-Null Count  Dtype  \n",
      "---  ------    --------------  -----  \n",
      " 0   calls     643 non-null    float64\n",
      " 1   minutes   643 non-null    float64\n",
      " 2   messages  643 non-null    float64\n",
      " 3   mb_used   643 non-null    float64\n",
      " 4   is_ultra  643 non-null    int64  \n",
      "dtypes: float64(4), int64(1)\n",
      "memory usage: 30.1 KB\n"
     ]
    }
   ],
   "source": [
    "# Observe the Validation Set\n",
    "display(df_valid)\n",
    "\n",
    "df_valid.info()"
   ]
  },
  {
   "cell_type": "code",
   "execution_count": 7,
   "metadata": {},
   "outputs": [
    {
     "data": {
      "text/html": [
       "<div>\n",
       "<style scoped>\n",
       "    .dataframe tbody tr th:only-of-type {\n",
       "        vertical-align: middle;\n",
       "    }\n",
       "\n",
       "    .dataframe tbody tr th {\n",
       "        vertical-align: top;\n",
       "    }\n",
       "\n",
       "    .dataframe thead th {\n",
       "        text-align: right;\n",
       "    }\n",
       "</style>\n",
       "<table border=\"1\" class=\"dataframe\">\n",
       "  <thead>\n",
       "    <tr style=\"text-align: right;\">\n",
       "      <th></th>\n",
       "      <th>calls</th>\n",
       "      <th>minutes</th>\n",
       "      <th>messages</th>\n",
       "      <th>mb_used</th>\n",
       "      <th>is_ultra</th>\n",
       "    </tr>\n",
       "  </thead>\n",
       "  <tbody>\n",
       "    <tr>\n",
       "      <th>160</th>\n",
       "      <td>61.0</td>\n",
       "      <td>495.11</td>\n",
       "      <td>8.0</td>\n",
       "      <td>10891.23</td>\n",
       "      <td>0</td>\n",
       "    </tr>\n",
       "    <tr>\n",
       "      <th>2498</th>\n",
       "      <td>80.0</td>\n",
       "      <td>555.04</td>\n",
       "      <td>28.0</td>\n",
       "      <td>28083.58</td>\n",
       "      <td>0</td>\n",
       "    </tr>\n",
       "    <tr>\n",
       "      <th>1748</th>\n",
       "      <td>87.0</td>\n",
       "      <td>697.23</td>\n",
       "      <td>0.0</td>\n",
       "      <td>8335.70</td>\n",
       "      <td>0</td>\n",
       "    </tr>\n",
       "    <tr>\n",
       "      <th>1816</th>\n",
       "      <td>41.0</td>\n",
       "      <td>275.80</td>\n",
       "      <td>9.0</td>\n",
       "      <td>10032.39</td>\n",
       "      <td>0</td>\n",
       "    </tr>\n",
       "    <tr>\n",
       "      <th>1077</th>\n",
       "      <td>60.0</td>\n",
       "      <td>428.49</td>\n",
       "      <td>20.0</td>\n",
       "      <td>29389.52</td>\n",
       "      <td>1</td>\n",
       "    </tr>\n",
       "    <tr>\n",
       "      <th>...</th>\n",
       "      <td>...</td>\n",
       "      <td>...</td>\n",
       "      <td>...</td>\n",
       "      <td>...</td>\n",
       "      <td>...</td>\n",
       "    </tr>\n",
       "    <tr>\n",
       "      <th>2401</th>\n",
       "      <td>55.0</td>\n",
       "      <td>446.06</td>\n",
       "      <td>79.0</td>\n",
       "      <td>26526.28</td>\n",
       "      <td>0</td>\n",
       "    </tr>\n",
       "    <tr>\n",
       "      <th>2928</th>\n",
       "      <td>102.0</td>\n",
       "      <td>742.65</td>\n",
       "      <td>58.0</td>\n",
       "      <td>16089.24</td>\n",
       "      <td>1</td>\n",
       "    </tr>\n",
       "    <tr>\n",
       "      <th>1985</th>\n",
       "      <td>52.0</td>\n",
       "      <td>349.94</td>\n",
       "      <td>42.0</td>\n",
       "      <td>12150.72</td>\n",
       "      <td>0</td>\n",
       "    </tr>\n",
       "    <tr>\n",
       "      <th>357</th>\n",
       "      <td>39.0</td>\n",
       "      <td>221.18</td>\n",
       "      <td>59.0</td>\n",
       "      <td>17865.23</td>\n",
       "      <td>0</td>\n",
       "    </tr>\n",
       "    <tr>\n",
       "      <th>2313</th>\n",
       "      <td>40.0</td>\n",
       "      <td>301.03</td>\n",
       "      <td>102.0</td>\n",
       "      <td>6057.63</td>\n",
       "      <td>0</td>\n",
       "    </tr>\n",
       "  </tbody>\n",
       "</table>\n",
       "<p>643 rows × 5 columns</p>\n",
       "</div>"
      ],
      "text/plain": [
       "      calls  minutes  messages   mb_used  is_ultra\n",
       "160    61.0   495.11       8.0  10891.23         0\n",
       "2498   80.0   555.04      28.0  28083.58         0\n",
       "1748   87.0   697.23       0.0   8335.70         0\n",
       "1816   41.0   275.80       9.0  10032.39         0\n",
       "1077   60.0   428.49      20.0  29389.52         1\n",
       "...     ...      ...       ...       ...       ...\n",
       "2401   55.0   446.06      79.0  26526.28         0\n",
       "2928  102.0   742.65      58.0  16089.24         1\n",
       "1985   52.0   349.94      42.0  12150.72         0\n",
       "357    39.0   221.18      59.0  17865.23         0\n",
       "2313   40.0   301.03     102.0   6057.63         0\n",
       "\n",
       "[643 rows x 5 columns]"
      ]
     },
     "metadata": {},
     "output_type": "display_data"
    },
    {
     "name": "stdout",
     "output_type": "stream",
     "text": [
      "<class 'pandas.core.frame.DataFrame'>\n",
      "Int64Index: 643 entries, 160 to 2313\n",
      "Data columns (total 5 columns):\n",
      " #   Column    Non-Null Count  Dtype  \n",
      "---  ------    --------------  -----  \n",
      " 0   calls     643 non-null    float64\n",
      " 1   minutes   643 non-null    float64\n",
      " 2   messages  643 non-null    float64\n",
      " 3   mb_used   643 non-null    float64\n",
      " 4   is_ultra  643 non-null    int64  \n",
      "dtypes: float64(4), int64(1)\n",
      "memory usage: 30.1 KB\n"
     ]
    }
   ],
   "source": [
    "# Observe the testing set\n",
    "display(df_test)\n",
    "\n",
    "df_test.info()\n"
   ]
  },
  {
   "cell_type": "markdown",
   "metadata": {},
   "source": [
    "# Step 3: Investigate the Quality of Varying Models Through Hyperparameters"
   ]
  },
  {
   "cell_type": "code",
   "execution_count": 8,
   "metadata": {},
   "outputs": [
    {
     "data": {
      "text/html": [
       "<div>\n",
       "<style scoped>\n",
       "    .dataframe tbody tr th:only-of-type {\n",
       "        vertical-align: middle;\n",
       "    }\n",
       "\n",
       "    .dataframe tbody tr th {\n",
       "        vertical-align: top;\n",
       "    }\n",
       "\n",
       "    .dataframe thead th {\n",
       "        text-align: right;\n",
       "    }\n",
       "</style>\n",
       "<table border=\"1\" class=\"dataframe\">\n",
       "  <thead>\n",
       "    <tr style=\"text-align: right;\">\n",
       "      <th></th>\n",
       "      <th>calls</th>\n",
       "      <th>minutes</th>\n",
       "      <th>messages</th>\n",
       "      <th>mb_used</th>\n",
       "    </tr>\n",
       "  </thead>\n",
       "  <tbody>\n",
       "    <tr>\n",
       "      <th>3027</th>\n",
       "      <td>60.0</td>\n",
       "      <td>431.56</td>\n",
       "      <td>26.0</td>\n",
       "      <td>14751.26</td>\n",
       "    </tr>\n",
       "    <tr>\n",
       "      <th>434</th>\n",
       "      <td>33.0</td>\n",
       "      <td>265.17</td>\n",
       "      <td>59.0</td>\n",
       "      <td>17398.02</td>\n",
       "    </tr>\n",
       "    <tr>\n",
       "      <th>1226</th>\n",
       "      <td>52.0</td>\n",
       "      <td>341.83</td>\n",
       "      <td>68.0</td>\n",
       "      <td>15462.38</td>\n",
       "    </tr>\n",
       "    <tr>\n",
       "      <th>1054</th>\n",
       "      <td>42.0</td>\n",
       "      <td>226.18</td>\n",
       "      <td>21.0</td>\n",
       "      <td>13243.48</td>\n",
       "    </tr>\n",
       "    <tr>\n",
       "      <th>1842</th>\n",
       "      <td>30.0</td>\n",
       "      <td>198.42</td>\n",
       "      <td>0.0</td>\n",
       "      <td>8189.53</td>\n",
       "    </tr>\n",
       "    <tr>\n",
       "      <th>...</th>\n",
       "      <td>...</td>\n",
       "      <td>...</td>\n",
       "      <td>...</td>\n",
       "      <td>...</td>\n",
       "    </tr>\n",
       "    <tr>\n",
       "      <th>2817</th>\n",
       "      <td>12.0</td>\n",
       "      <td>86.62</td>\n",
       "      <td>22.0</td>\n",
       "      <td>36628.85</td>\n",
       "    </tr>\n",
       "    <tr>\n",
       "      <th>546</th>\n",
       "      <td>65.0</td>\n",
       "      <td>458.46</td>\n",
       "      <td>0.0</td>\n",
       "      <td>15214.25</td>\n",
       "    </tr>\n",
       "    <tr>\n",
       "      <th>382</th>\n",
       "      <td>144.0</td>\n",
       "      <td>906.18</td>\n",
       "      <td>0.0</td>\n",
       "      <td>25002.44</td>\n",
       "    </tr>\n",
       "    <tr>\n",
       "      <th>2177</th>\n",
       "      <td>38.0</td>\n",
       "      <td>301.27</td>\n",
       "      <td>37.0</td>\n",
       "      <td>28914.24</td>\n",
       "    </tr>\n",
       "    <tr>\n",
       "      <th>482</th>\n",
       "      <td>160.0</td>\n",
       "      <td>1084.05</td>\n",
       "      <td>95.0</td>\n",
       "      <td>36843.92</td>\n",
       "    </tr>\n",
       "  </tbody>\n",
       "</table>\n",
       "<p>1928 rows × 4 columns</p>\n",
       "</div>"
      ],
      "text/plain": [
       "      calls  minutes  messages   mb_used\n",
       "3027   60.0   431.56      26.0  14751.26\n",
       "434    33.0   265.17      59.0  17398.02\n",
       "1226   52.0   341.83      68.0  15462.38\n",
       "1054   42.0   226.18      21.0  13243.48\n",
       "1842   30.0   198.42       0.0   8189.53\n",
       "...     ...      ...       ...       ...\n",
       "2817   12.0    86.62      22.0  36628.85\n",
       "546    65.0   458.46       0.0  15214.25\n",
       "382   144.0   906.18       0.0  25002.44\n",
       "2177   38.0   301.27      37.0  28914.24\n",
       "482   160.0  1084.05      95.0  36843.92\n",
       "\n",
       "[1928 rows x 4 columns]"
      ]
     },
     "metadata": {},
     "output_type": "display_data"
    },
    {
     "data": {
      "text/plain": [
       "3027    0\n",
       "434     0\n",
       "1226    0\n",
       "1054    0\n",
       "1842    0\n",
       "       ..\n",
       "2817    1\n",
       "546     1\n",
       "382     1\n",
       "2177    1\n",
       "482     1\n",
       "Name: is_ultra, Length: 1928, dtype: int64"
      ]
     },
     "metadata": {},
     "output_type": "display_data"
    }
   ],
   "source": [
    "# Investigate the quality of different models by testing hyperparameters. \n",
    "\n",
    "# First, put the training features and target features into it's own variable\n",
    "\n",
    "features_train = df_train.drop(['is_ultra'],axis=1)\n",
    "display(features_train)\n",
    "\n",
    "target_train = df_train['is_ultra']\n",
    "display(target_train)\n",
    "\n"
   ]
  },
  {
   "cell_type": "code",
   "execution_count": 9,
   "metadata": {},
   "outputs": [
    {
     "data": {
      "text/html": [
       "<div>\n",
       "<style scoped>\n",
       "    .dataframe tbody tr th:only-of-type {\n",
       "        vertical-align: middle;\n",
       "    }\n",
       "\n",
       "    .dataframe tbody tr th {\n",
       "        vertical-align: top;\n",
       "    }\n",
       "\n",
       "    .dataframe thead th {\n",
       "        text-align: right;\n",
       "    }\n",
       "</style>\n",
       "<table border=\"1\" class=\"dataframe\">\n",
       "  <thead>\n",
       "    <tr style=\"text-align: right;\">\n",
       "      <th></th>\n",
       "      <th>calls</th>\n",
       "      <th>minutes</th>\n",
       "      <th>messages</th>\n",
       "      <th>mb_used</th>\n",
       "    </tr>\n",
       "  </thead>\n",
       "  <tbody>\n",
       "    <tr>\n",
       "      <th>1386</th>\n",
       "      <td>92.0</td>\n",
       "      <td>536.96</td>\n",
       "      <td>18.0</td>\n",
       "      <td>20193.90</td>\n",
       "    </tr>\n",
       "    <tr>\n",
       "      <th>3124</th>\n",
       "      <td>40.0</td>\n",
       "      <td>286.57</td>\n",
       "      <td>17.0</td>\n",
       "      <td>17918.75</td>\n",
       "    </tr>\n",
       "    <tr>\n",
       "      <th>1956</th>\n",
       "      <td>81.0</td>\n",
       "      <td>531.22</td>\n",
       "      <td>56.0</td>\n",
       "      <td>17755.06</td>\n",
       "    </tr>\n",
       "    <tr>\n",
       "      <th>2286</th>\n",
       "      <td>67.0</td>\n",
       "      <td>460.76</td>\n",
       "      <td>27.0</td>\n",
       "      <td>16626.26</td>\n",
       "    </tr>\n",
       "    <tr>\n",
       "      <th>3077</th>\n",
       "      <td>22.0</td>\n",
       "      <td>120.09</td>\n",
       "      <td>16.0</td>\n",
       "      <td>9039.57</td>\n",
       "    </tr>\n",
       "    <tr>\n",
       "      <th>...</th>\n",
       "      <td>...</td>\n",
       "      <td>...</td>\n",
       "      <td>...</td>\n",
       "      <td>...</td>\n",
       "    </tr>\n",
       "    <tr>\n",
       "      <th>1999</th>\n",
       "      <td>56.0</td>\n",
       "      <td>398.45</td>\n",
       "      <td>4.0</td>\n",
       "      <td>23682.94</td>\n",
       "    </tr>\n",
       "    <tr>\n",
       "      <th>1023</th>\n",
       "      <td>76.0</td>\n",
       "      <td>601.10</td>\n",
       "      <td>0.0</td>\n",
       "      <td>17104.36</td>\n",
       "    </tr>\n",
       "    <tr>\n",
       "      <th>748</th>\n",
       "      <td>81.0</td>\n",
       "      <td>525.97</td>\n",
       "      <td>15.0</td>\n",
       "      <td>18878.91</td>\n",
       "    </tr>\n",
       "    <tr>\n",
       "      <th>1667</th>\n",
       "      <td>10.0</td>\n",
       "      <td>63.03</td>\n",
       "      <td>0.0</td>\n",
       "      <td>2568.00</td>\n",
       "    </tr>\n",
       "    <tr>\n",
       "      <th>3197</th>\n",
       "      <td>89.0</td>\n",
       "      <td>660.72</td>\n",
       "      <td>68.0</td>\n",
       "      <td>11711.54</td>\n",
       "    </tr>\n",
       "  </tbody>\n",
       "</table>\n",
       "<p>643 rows × 4 columns</p>\n",
       "</div>"
      ],
      "text/plain": [
       "      calls  minutes  messages   mb_used\n",
       "1386   92.0   536.96      18.0  20193.90\n",
       "3124   40.0   286.57      17.0  17918.75\n",
       "1956   81.0   531.22      56.0  17755.06\n",
       "2286   67.0   460.76      27.0  16626.26\n",
       "3077   22.0   120.09      16.0   9039.57\n",
       "...     ...      ...       ...       ...\n",
       "1999   56.0   398.45       4.0  23682.94\n",
       "1023   76.0   601.10       0.0  17104.36\n",
       "748    81.0   525.97      15.0  18878.91\n",
       "1667   10.0    63.03       0.0   2568.00\n",
       "3197   89.0   660.72      68.0  11711.54\n",
       "\n",
       "[643 rows x 4 columns]"
      ]
     },
     "metadata": {},
     "output_type": "display_data"
    },
    {
     "data": {
      "text/plain": [
       "1386    0\n",
       "3124    0\n",
       "1956    0\n",
       "2286    0\n",
       "3077    0\n",
       "       ..\n",
       "1999    0\n",
       "1023    0\n",
       "748     0\n",
       "1667    1\n",
       "3197    0\n",
       "Name: is_ultra, Length: 643, dtype: int64"
      ]
     },
     "metadata": {},
     "output_type": "display_data"
    }
   ],
   "source": [
    "# Second, put the validation features and target features into it's own variable\n",
    "\n",
    "features_valid = df_valid.drop(['is_ultra'],axis=1)\n",
    "display(features_valid)\n",
    "\n",
    "target_valid = df_valid['is_ultra']\n",
    "display(target_valid)\n"
   ]
  },
  {
   "cell_type": "code",
   "execution_count": 10,
   "metadata": {},
   "outputs": [
    {
     "data": {
      "text/html": [
       "<div>\n",
       "<style scoped>\n",
       "    .dataframe tbody tr th:only-of-type {\n",
       "        vertical-align: middle;\n",
       "    }\n",
       "\n",
       "    .dataframe tbody tr th {\n",
       "        vertical-align: top;\n",
       "    }\n",
       "\n",
       "    .dataframe thead th {\n",
       "        text-align: right;\n",
       "    }\n",
       "</style>\n",
       "<table border=\"1\" class=\"dataframe\">\n",
       "  <thead>\n",
       "    <tr style=\"text-align: right;\">\n",
       "      <th></th>\n",
       "      <th>calls</th>\n",
       "      <th>minutes</th>\n",
       "      <th>messages</th>\n",
       "      <th>mb_used</th>\n",
       "    </tr>\n",
       "  </thead>\n",
       "  <tbody>\n",
       "    <tr>\n",
       "      <th>160</th>\n",
       "      <td>61.0</td>\n",
       "      <td>495.11</td>\n",
       "      <td>8.0</td>\n",
       "      <td>10891.23</td>\n",
       "    </tr>\n",
       "    <tr>\n",
       "      <th>2498</th>\n",
       "      <td>80.0</td>\n",
       "      <td>555.04</td>\n",
       "      <td>28.0</td>\n",
       "      <td>28083.58</td>\n",
       "    </tr>\n",
       "    <tr>\n",
       "      <th>1748</th>\n",
       "      <td>87.0</td>\n",
       "      <td>697.23</td>\n",
       "      <td>0.0</td>\n",
       "      <td>8335.70</td>\n",
       "    </tr>\n",
       "    <tr>\n",
       "      <th>1816</th>\n",
       "      <td>41.0</td>\n",
       "      <td>275.80</td>\n",
       "      <td>9.0</td>\n",
       "      <td>10032.39</td>\n",
       "    </tr>\n",
       "    <tr>\n",
       "      <th>1077</th>\n",
       "      <td>60.0</td>\n",
       "      <td>428.49</td>\n",
       "      <td>20.0</td>\n",
       "      <td>29389.52</td>\n",
       "    </tr>\n",
       "    <tr>\n",
       "      <th>...</th>\n",
       "      <td>...</td>\n",
       "      <td>...</td>\n",
       "      <td>...</td>\n",
       "      <td>...</td>\n",
       "    </tr>\n",
       "    <tr>\n",
       "      <th>2401</th>\n",
       "      <td>55.0</td>\n",
       "      <td>446.06</td>\n",
       "      <td>79.0</td>\n",
       "      <td>26526.28</td>\n",
       "    </tr>\n",
       "    <tr>\n",
       "      <th>2928</th>\n",
       "      <td>102.0</td>\n",
       "      <td>742.65</td>\n",
       "      <td>58.0</td>\n",
       "      <td>16089.24</td>\n",
       "    </tr>\n",
       "    <tr>\n",
       "      <th>1985</th>\n",
       "      <td>52.0</td>\n",
       "      <td>349.94</td>\n",
       "      <td>42.0</td>\n",
       "      <td>12150.72</td>\n",
       "    </tr>\n",
       "    <tr>\n",
       "      <th>357</th>\n",
       "      <td>39.0</td>\n",
       "      <td>221.18</td>\n",
       "      <td>59.0</td>\n",
       "      <td>17865.23</td>\n",
       "    </tr>\n",
       "    <tr>\n",
       "      <th>2313</th>\n",
       "      <td>40.0</td>\n",
       "      <td>301.03</td>\n",
       "      <td>102.0</td>\n",
       "      <td>6057.63</td>\n",
       "    </tr>\n",
       "  </tbody>\n",
       "</table>\n",
       "<p>643 rows × 4 columns</p>\n",
       "</div>"
      ],
      "text/plain": [
       "      calls  minutes  messages   mb_used\n",
       "160    61.0   495.11       8.0  10891.23\n",
       "2498   80.0   555.04      28.0  28083.58\n",
       "1748   87.0   697.23       0.0   8335.70\n",
       "1816   41.0   275.80       9.0  10032.39\n",
       "1077   60.0   428.49      20.0  29389.52\n",
       "...     ...      ...       ...       ...\n",
       "2401   55.0   446.06      79.0  26526.28\n",
       "2928  102.0   742.65      58.0  16089.24\n",
       "1985   52.0   349.94      42.0  12150.72\n",
       "357    39.0   221.18      59.0  17865.23\n",
       "2313   40.0   301.03     102.0   6057.63\n",
       "\n",
       "[643 rows x 4 columns]"
      ]
     },
     "metadata": {},
     "output_type": "display_data"
    },
    {
     "data": {
      "text/plain": [
       "160     0\n",
       "2498    0\n",
       "1748    0\n",
       "1816    0\n",
       "1077    1\n",
       "       ..\n",
       "2401    0\n",
       "2928    1\n",
       "1985    0\n",
       "357     0\n",
       "2313    0\n",
       "Name: is_ultra, Length: 643, dtype: int64"
      ]
     },
     "metadata": {},
     "output_type": "display_data"
    }
   ],
   "source": [
    "# Third, put the testing features and target features into it's own variable\n",
    "\n",
    "features_test = df_test.drop(['is_ultra'],axis=1)\n",
    "display(features_test)\n",
    "\n",
    "target_test = df_test['is_ultra']\n",
    "display(target_test)\n"
   ]
  },
  {
   "cell_type": "code",
   "execution_count": 11,
   "metadata": {},
   "outputs": [
    {
     "name": "stdout",
     "output_type": "stream",
     "text": [
      "Depth: 1 Accuracy: 0.7542768273716952\n",
      "Depth: 2 Accuracy: 0.7822706065318819\n",
      "Depth: 3 Accuracy: 0.7853810264385692\n",
      "Depth: 4 Accuracy: 0.7791601866251944\n",
      "Depth: 5 Accuracy: 0.7791601866251944\n",
      "Depth: 6 Accuracy: 0.7838258164852255\n",
      "Depth: 7 Accuracy: 0.7822706065318819\n",
      "Depth: 8 Accuracy: 0.7791601866251944\n",
      "Depth: 9 Accuracy: 0.7822706065318819\n",
      "Depth: 10 Accuracy: 0.7744945567651633\n",
      "Depth: 11 Accuracy: 0.7620528771384136\n",
      "Depth: 12 Accuracy: 0.7620528771384136\n",
      "Depth: 13 Accuracy: 0.7558320373250389\n",
      "Depth: 14 Accuracy: 0.7589424572317263\n",
      "Depth: 15 Accuracy: 0.7465007776049767\n",
      "Depth: 16 Accuracy: 0.7340590979782271\n",
      "Depth: 17 Accuracy: 0.7356143079315708\n",
      "Depth: 18 Accuracy: 0.7309486780715396\n",
      "Depth: 19 Accuracy: 0.7278382581648523\n",
      "Depth: 20 Accuracy: 0.7216174183514774\n"
     ]
    }
   ],
   "source": [
    "# Test the accuracy_score for the DecisionTree model\n",
    "\n",
    "for depth in range(1,21):\n",
    "    model = DecisionTreeClassifier(random_state = 12345, max_depth= depth)\n",
    "    # Create a model with the given depth\n",
    "    model.fit(features_train,target_train)\n",
    "    predictions = model.predict(features_valid)\n",
    "    result = accuracy_score(target_valid,predictions)\n",
    "    print('Depth:',depth,'Accuracy:',result)\n"
   ]
  },
  {
   "cell_type": "markdown",
   "metadata": {},
   "source": [
    "**Note:** max_depth 3 has the higest accuracy at 0.785381"
   ]
  },
  {
   "cell_type": "code",
   "execution_count": 12,
   "metadata": {},
   "outputs": [
    {
     "name": "stdout",
     "output_type": "stream",
     "text": [
      "Combined best parameters accuracy: 0.7853810264385692\n"
     ]
    }
   ],
   "source": [
    "# Test the DecisionTree best parameters\n",
    "\n",
    "model = DecisionTreeClassifier(random_state=12345, max_depth=3)\n",
    "model.fit(features_train, target_train)\n",
    "score = model.score(features_valid, target_valid)\n",
    "print(f\"Combined best parameters accuracy: {score}\")"
   ]
  },
  {
   "cell_type": "code",
   "execution_count": 13,
   "metadata": {},
   "outputs": [
    {
     "name": "stdout",
     "output_type": "stream",
     "text": [
      "Accuracy of the best model on the validation set (n_estimators = 50): 0.7916018662519441\n"
     ]
    }
   ],
   "source": [
    "# Test the accuracy score for the RandomForest model\n",
    "\n",
    "best_score = 0\n",
    "best_est = 0\n",
    "# Choose the hyperparameter range\n",
    "for est in range(10,51,10):\n",
    "    model = RandomForestClassifier(random_state=12345,n_estimators=est)\n",
    "    # train the model\n",
    "    model.fit(features_train,target_train)\n",
    "    # Calculate the accuracy score on the validation set\n",
    "    score = model.score(features_valid,target_valid)\n",
    "    if score > best_score:\n",
    "        # save the best accuracy score on the validation set\n",
    "        best_score = score\n",
    "        # save the number of estimators corresponding to the best accuracy score\n",
    "        best_est = est\n",
    "\n",
    "print(\"Accuracy of the best model on the validation set (n_estimators = {}): {}\".format(best_est,best_score))\n"
   ]
  },
  {
   "cell_type": "code",
   "execution_count": 14,
   "metadata": {},
   "outputs": [
    {
     "name": "stdout",
     "output_type": "stream",
     "text": [
      "Accuracy of the best model on the validation set (n_estimators = 50: 0.7916018662519441\n"
     ]
    }
   ],
   "source": [
    "# Since 50 has the highest accuracy score, test another range for the RandomForest model\n",
    "\n",
    "best_score = 0\n",
    "best_est = 0\n",
    "for est in range(50,101,10):\n",
    "    model = RandomForestClassifier(random_state=12345,n_estimators=est)\n",
    "    model.fit(features_train,target_train)\n",
    "    score = model.score(features_valid,target_valid)\n",
    "    if score > best_score:\n",
    "        best_score = score\n",
    "        best_est = est\n",
    "\n",
    "print(\"Accuracy of the best model on the validation set (n_estimators = {}: {}\".format(best_est,best_score))"
   ]
  },
  {
   "cell_type": "code",
   "execution_count": 15,
   "metadata": {},
   "outputs": [
    {
     "name": "stdout",
     "output_type": "stream",
     "text": [
      "Accuracy of the best model on the validation set (n_estimators = 48: 0.7916018662519441\n"
     ]
    }
   ],
   "source": [
    "# Since the best estimation score is still 50, test another range from 45 - 55\n",
    "\n",
    "best_score = 0\n",
    "best_est = 0\n",
    "for est in range(45,55):\n",
    "    model = RandomForestClassifier(random_state = 12345,n_estimators=est)\n",
    "    model.fit(features_train,target_train)\n",
    "    score = model.score(features_valid, target_valid)\n",
    "    if score > best_score:\n",
    "        best_score = score\n",
    "        best_est = est\n",
    "\n",
    "print(\"Accuracy of the best model on the validation set (n_estimators = {}: {}\".format(best_est,best_score))"
   ]
  },
  {
   "cell_type": "markdown",
   "metadata": {},
   "source": [
    "**Note:** n_estimators 48 has the highest accuracy at 0.791601866"
   ]
  },
  {
   "cell_type": "code",
   "execution_count": 16,
   "metadata": {},
   "outputs": [
    {
     "name": "stdout",
     "output_type": "stream",
     "text": [
      "Depth: 1 Accuracy: 0.7744945567651633\n",
      "Depth: 2 Accuracy: 0.7838258164852255\n",
      "Depth: 3 Accuracy: 0.7884914463452566\n",
      "Depth: 4 Accuracy: 0.7900466562986003\n",
      "Depth: 5 Accuracy: 0.7947122861586314\n",
      "Depth: 6 Accuracy: 0.8009331259720062\n",
      "Depth: 7 Accuracy: 0.8009331259720062\n",
      "Depth: 8 Accuracy: 0.8009331259720062\n",
      "Depth: 9 Accuracy: 0.7947122861586314\n",
      "Depth: 10 Accuracy: 0.7947122861586314\n",
      "Depth: 11 Accuracy: 0.7916018662519441\n",
      "Depth: 12 Accuracy: 0.7962674961119751\n",
      "Depth: 13 Accuracy: 0.7822706065318819\n",
      "Depth: 14 Accuracy: 0.7869362363919129\n",
      "Depth: 15 Accuracy: 0.7884914463452566\n",
      "Depth: 16 Accuracy: 0.7838258164852255\n",
      "Depth: 17 Accuracy: 0.7916018662519441\n",
      "Depth: 18 Accuracy: 0.7884914463452566\n",
      "Depth: 19 Accuracy: 0.7807153965785381\n",
      "Depth: 20 Accuracy: 0.7884914463452566\n"
     ]
    }
   ],
   "source": [
    "# Test the best max_depth for the RandomForest model\n",
    "\n",
    "for depth in range(1,21):\n",
    "    model = RandomForestClassifier(random_state = 12345, max_depth= depth)\n",
    "    # Create a model with the given depth\n",
    "    model.fit(features_train,target_train)\n",
    "    predictions = model.predict(features_valid)\n",
    "    result = accuracy_score(target_valid,predictions)\n",
    "    print('Depth:',depth,'Accuracy:',result)\n"
   ]
  },
  {
   "cell_type": "markdown",
   "metadata": {},
   "source": [
    "**Note:** best max_depth: 6 Accuracy: 0.8009331259720062"
   ]
  },
  {
   "cell_type": "code",
   "execution_count": 17,
   "metadata": {},
   "outputs": [
    {
     "name": "stdout",
     "output_type": "stream",
     "text": [
      "Combined best parameters accuracy: 0.7978227060653188\n"
     ]
    }
   ],
   "source": [
    "# Test with the specified hyperparameters for the RandomForest model\n",
    "\n",
    "model = RandomForestClassifier(random_state=12345, max_depth=6, n_estimators=48)\n",
    "model.fit(features_train, target_train)\n",
    "score = model.score(features_valid, target_valid)\n",
    "print(f\"Combined best parameters accuracy: {score}\")\n"
   ]
  },
  {
   "cell_type": "code",
   "execution_count": 18,
   "metadata": {},
   "outputs": [
    {
     "name": "stdout",
     "output_type": "stream",
     "text": [
      "Accuracy of the logistic regression model on the training set: 0.7131742738589212\n",
      "Accuracy of the logistic regression model on the validation set: 0.7107309486780715\n"
     ]
    }
   ],
   "source": [
    "# Calculate the accuracy of a logistic regression on the training set and validation set\n",
    "\n",
    "model = LogisticRegression(random_state=12345,solver='lbfgs')\n",
    "model.fit(features_train,target_train)\n",
    "# Training score\n",
    "score_train = model.score(features_train,target_train)\n",
    "# Validation score\n",
    "score_valid = model.score(features_valid,target_valid)\n",
    "\n",
    "# Print Training score\n",
    "print(\"Accuracy of the logistic regression model on the training set:\", score_train)\n",
    "\n",
    "# Print Validation score\n",
    "print(\"Accuracy of the logistic regression model on the validation set:\", score_valid)"
   ]
  },
  {
   "cell_type": "code",
   "execution_count": 19,
   "metadata": {},
   "outputs": [
    {
     "name": "stdout",
     "output_type": "stream",
     "text": [
      "C=0.01: Training Score =0.7531120331950207, Validation Score=0.7558320373250389, Gap=-0.002720004130018161\n",
      "C=0.1: Training Score =0.7131742738589212, Validation Score=0.7107309486780715, Gap=0.0024433251808496648\n",
      "C=1: Training Score =0.7131742738589212, Validation Score=0.7107309486780715, Gap=0.0024433251808496648\n",
      "C=10: Training Score =0.7531120331950207, Validation Score=0.7558320373250389, Gap=-0.002720004130018161\n",
      "C=100: Training Score =0.7531120331950207, Validation Score=0.7558320373250389, Gap=-0.002720004130018161\n",
      "Best C: 0.01 - Validation Accuracy: 0.7558320373250389\n"
     ]
    }
   ],
   "source": [
    "# Find the best C parameter for Logistic Regression\n",
    "\n",
    "best_score = 0 \n",
    "best_c = 0\n",
    "for c_val in [0.01,0.1,1,10,100]:\n",
    "    model = LogisticRegression(random_state=12345,solver='lbfgs',C=c_val,max_iter=1000)\n",
    "    model.fit(features_train,target_train)\n",
    "    score_train = model.score(features_train,target_train)\n",
    "    score_valid = model.score(features_valid,target_valid)\n",
    "    print(f\"C={c_val}: Training Score ={score_train}, Validation Score={score_valid}, Gap={score_train - score_valid}\")\n",
    "    if score_valid > best_score:\n",
    "        best_score = score_valid\n",
    "        best_c = c_val\n",
    "\n",
    "print(f\"Best C: {best_c} - Validation Accuracy: {best_score}\")\n",
    "\n",
    "\n"
   ]
  },
  {
   "cell_type": "code",
   "execution_count": 20,
   "metadata": {},
   "outputs": [
    {
     "name": "stdout",
     "output_type": "stream",
     "text": [
      "Combined best parameters accuracy: 0.7558320373250389\n"
     ]
    }
   ],
   "source": [
    "# Test best parameters for Logistic Regression\n",
    "\n",
    "model = LogisticRegression(random_state=12345, solver='lbfgs',C=0.01,max_iter=1000)\n",
    "model.fit(features_train, target_train)\n",
    "score = model.score(features_valid, target_valid)\n",
    "print(f\"Combined best parameters accuracy: {score}\")"
   ]
  },
  {
   "attachments": {
    "376d9668-3ec2-4ba8-b749-f3e9e1109060.png": {
     "image/png": "[encoded data removed]"
    },
    "98c92bda-d063-42b3-b75f-3a0989dd2318.png": {
     "image/png": "[encoded data removed]"
    },
    "b4303d30-1f26-4561-958a-fd70b4d9ea65.png": {
     "image/png": "[encoded data removed]"
    }
   },
   "cell_type": "markdown",
   "metadata": {},
   "source": [
    "**SUMMARY NOTES:**\n",
    "\n",
    "**Decision Tree Accuracy Score on max_depth:**\n",
    " - max_depth 3 has the higest accuracy at 0.785381\n",
    "\n",
    "![image.png](attachment:b4303d30-1f26-4561-958a-fd70b4d9ea65.png)\n",
    "\n",
    "**Combined best parameters accuracy for DecisionTree:** 0.7853810264385692\n",
    "\n",
    "\n",
    "**Random Forest Accuracy Score for n_estimators:**\n",
    "- n_estimators 48 has the highest accuracy at 0.791601866\n",
    "\n",
    "![image.png](attachment:376d9668-3ec2-4ba8-b749-f3e9e1109060.png)\n",
    "\n",
    "\n",
    "**Random Forest Accuracy Score for max_depth:**\n",
    "- max_depth 6 has the highest accuracy at 0.8009331259720062\n",
    "\n",
    "![image.png](attachment:98c92bda-d063-42b3-b75f-3a0989dd2318.png)\n",
    "\n",
    "**Combined best parameters accuracy for RandomForest:** 0.7978227060653188\n",
    "\n",
    "**Logistic Regression Accuracy Score With lbfgs:**\n",
    "- Logistic Regression Model (Highest Accuracy Score - Training Set): **0.7131742738589212**\n",
    "- Logistic Regression Model (Highest Accuracy Score - Validation Set): **0.7107309486780715**\n",
    "- Gap: 0.2%\n",
    "- lbfgs has the smallest gap showing more generalization and less overfitting than liblinear\n",
    "\n",
    "**Logistic Regression Accuracy Score With Liblinear:**\n",
    "- Logistic Regression Model (Highest Accuracy Score - Training Set): **0.7157676348547718**\n",
    "- Logistic Regression Model (Highest Accuracy Score - Validation Set): **0.7091757387247278**\n",
    "- Gap: 0.7%\n",
    "\n",
    "**Logistic Regression Accuracy Score With Saga:**\n",
    "- Logistic Regression Model (Highest Accuracy Score - Training Set): **0.7085062240663901**\n",
    "- Logistic Regression Model (Highest Accuracy Score - Validation Set): **0.7076205287713841**\n",
    "- Gap: 0.1%\n",
    "- Best generalization (smallest gap), but took 5000 iterations rather than the default 100 for lbfgs and liblinear and had the lowest validation score\n",
    "\n",
    "**Compare lbfgs with and w/o C parameter:**\n",
    "- **No c parameter:** Logistic Regression Model (Highest Accuracy Score - Training Set): **0.7131742738589212**\n",
    "- **No c parameter:** Logistic Regression Model (Highest Accuracy Score - Validation Set): **0.7107309486780715**\n",
    "- **No c parameter:** Gap: 0.2%\n",
    "- Best C: 0.01 - Validation Accuracy: **0.7558320373250389** - Gap: 0.27\n",
    "\n",
    "**Best parameter setting for Logistic Regression:**\n",
    "- (random_state=12345, solver='lbfgs',C=0.01,max_iter=1000)\n",
    "- The c parameter suggests that the model was overfitting; so, setting the parameter lower makes the model simpler.\n",
    "\n",
    "**Combined best parameters for Logistic Regression accuracy:** 0.7558320373250389\n"
   ]
  },
  {
   "cell_type": "markdown",
   "metadata": {},
   "source": [
    "## Summary Notes of Findings:\n",
    "\n",
    "**Decision Tree:**\n",
    "- max_depth = 3 (Accuracy = 0.7853810264385692)\n",
    "- **Best Parameter Setting:** (random_state=12345, max_depth = 3)\n",
    "- **Combined best parameters accuracy for DecisionTree:** 0.7853810264385692\n",
    "\n",
    "**Random Forest:**\n",
    "- max_depth = 6 (Accuracy = 0.8009331259720062)\n",
    "- n_estimators = 48 (Accuracy = 0.7916018662519441)\n",
    "- **Best Parameter Setting:** (random_state=12345, max_depth = 6, n_estimators = 48)\n",
    "- **Combined best parameters accuracy for RandomForest:** 0.7978227060653188\n",
    "\n",
    "**Logistic Regression:**\n",
    "- solver = lbfgs (Accuracy: 0.7107309486780715, Gap: 0.2%)\n",
    "- c = 0.01 (Accuracy: 0.7558320373250389, Gap: 0.27%)\n",
    "- **Best Parameter Setting:** (random_state=12345, solver='lbfgs',C=0.01,max_iter=1000)\n",
    "- **Combined best parameters for accuracy Logistic Regression:** 0.7558320373250389"
   ]
  },
  {
   "cell_type": "markdown",
   "metadata": {},
   "source": [
    "# Step 4: Check the Quality of Varying Models With Test Set"
   ]
  },
  {
   "cell_type": "code",
   "execution_count": 21,
   "metadata": {},
   "outputs": [
    {
     "name": "stdout",
     "output_type": "stream",
     "text": [
      "Accuracy of the test set for DecisionTreeClassifier: 0.7791601866251944\n"
     ]
    }
   ],
   "source": [
    "# Check the quality of the models using the test set\n",
    "\n",
    "# Start with the DecisionTree\n",
    "\n",
    "model = DecisionTreeClassifier(random_state=12345,max_depth=3)\n",
    "model.fit(features_train,target_train)\n",
    "accuracy_test = model.score(features_test,target_test) \n",
    "\n",
    "print(\"Accuracy of the test set for DecisionTreeClassifier:\", accuracy_test)\n"
   ]
  },
  {
   "cell_type": "code",
   "execution_count": 22,
   "metadata": {},
   "outputs": [
    {
     "name": "stdout",
     "output_type": "stream",
     "text": [
      "Accuracy of the test set for RandomForestClassifier: 0.7916018662519441\n"
     ]
    }
   ],
   "source": [
    "# RandomForest Model\n",
    "\n",
    "model = RandomForestClassifier(random_state=12345,max_depth=6,n_estimators=48)\n",
    "model.fit(features_train,target_train)\n",
    "accuracy_test = model.score(features_test,target_test)\n",
    "\n",
    "print(\"Accuracy of the test set for RandomForestClassifier:\", accuracy_test)"
   ]
  },
  {
   "cell_type": "code",
   "execution_count": 23,
   "metadata": {},
   "outputs": [
    {
     "name": "stdout",
     "output_type": "stream",
     "text": [
      "Accuracy of the test set for LogisticRegression: 0.7387247278382582\n"
     ]
    }
   ],
   "source": [
    "\n",
    "# LogisticRegression Model\n",
    "\n",
    "model = LogisticRegression(random_state=12345,solver='lbfgs', C=0.01, max_iter=1000)\n",
    "model.fit(features_train,target_train)\n",
    "accuracy_test = model.score(features_test,target_test)\n",
    "\n",
    "print(\"Accuracy of the test set for LogisticRegression:\", accuracy_test)\n"
   ]
  },
  {
   "cell_type": "markdown",
   "metadata": {},
   "source": [
    "**Comparison of Accuracy Scores Between Models:**\n",
    "\n",
    "**DecisionTreeClassifier:** 0.7791601866251944\n",
    "\n",
    "**RandomForestClassifier:** 0.7916018662519441\n",
    "\n",
    "**LogisticRegression:** 0.7387247278382582"
   ]
  },
  {
   "cell_type": "markdown",
   "metadata": {},
   "source": [
    "**Summary Statement:** Aligning with previous findings, the RandomForestClassifier model appears to be the best model for this dataset."
   ]
  },
  {
   "cell_type": "markdown",
   "metadata": {},
   "source": [
    "# Step 5: Check the Model for Errors"
   ]
  },
  {
   "cell_type": "code",
   "execution_count": 24,
   "metadata": {},
   "outputs": [],
   "source": [
    "# Put the training and test data into a 80:20 ratio\n",
    "features_full_train = pd.concat([features_train,features_valid])\n",
    "target_full_train = pd.concat([target_train,target_valid])\n"
   ]
  },
  {
   "cell_type": "code",
   "execution_count": 25,
   "metadata": {},
   "outputs": [
    {
     "data": {
      "text/plain": [
       "RandomForestClassifier(max_depth=6, n_estimators=48, random_state=12345)"
      ]
     },
     "execution_count": 25,
     "metadata": {},
     "output_type": "execute_result"
    }
   ],
   "source": [
    "# Train the new model\n",
    "\n",
    "final_model = RandomForestClassifier(random_state=12345,max_depth=6,n_estimators=48)\n",
    "final_model.fit(features_full_train,target_full_train)\n"
   ]
  },
  {
   "cell_type": "code",
   "execution_count": 26,
   "metadata": {},
   "outputs": [
    {
     "name": "stdout",
     "output_type": "stream",
     "text": [
      "Training Accuracy: 0.8284714119019837\n",
      "Test Accuracy: 0.7978227060653188\n",
      "Gap 0.030648705836664902\n"
     ]
    }
   ],
   "source": [
    "# Check for errors between the training set and the test set\n",
    "\n",
    "train_accuracy = final_model.score(features_full_train, target_full_train)\n",
    "test_accuracy = final_model.score(features_test,target_test)\n",
    "\n",
    "print('Training Accuracy:', train_accuracy)\n",
    "print('Test Accuracy:', test_accuracy)\n",
    "print('Gap', (train_accuracy - test_accuracy))\n"
   ]
  },
  {
   "cell_type": "markdown",
   "metadata": {},
   "source": [
    "**Summary Notes:**\n",
    "- 3.1% gap is Excellent; this tells us there is only a 3% drop from the model using known data to unknown data\n",
    "- **Training Accuracy:** 0.8284714119019837\n",
    "- **Testing Accuracy:** 0.7978227060653188"
   ]
  },
  {
   "cell_type": "markdown",
   "metadata": {},
   "source": [
    "# General Conclusion"
   ]
  },
  {
   "cell_type": "markdown",
   "metadata": {},
   "source": [
    "We can predict the right plan choice for customers with 79.8% accuracy using this Random Forest model. The small 3.1% gap between training and test performance demonstrates excellent generalization, meaning the model performs nearly as well on new, unseen customer data as it does on the data it learned from."
   ]
  },
  {
   "cell_type": "markdown",
   "metadata": {},
   "source": [
    "## MODEL PERFORMANCE COMPARISON (SUMMARY NOTES)\n",
    "\n",
    "**Random Forest (SELECTED MODEL)**\n",
    "\n",
    "<u>Hyperparameter Testing:</u>\n",
    "- max_depth = 6 (Accuracy = 80.1%)\n",
    "- n_estimators = 48 (Accuracy = 79.2%)\n",
    "\n",
    "<u>Best Parameter Setting:</u>\n",
    "- random_state=12345, max_depth=6, n_estimators=48\n",
    "\n",
    "<u>Final Model Performance (80:20 split):</u>\n",
    "- Training Accuracy: 82.8%\n",
    "- Test Accuracy: 79.8%\n",
    "- Gap: 3.1% (excellent generalization)\n",
    "\n",
    "**Decision Tree:**\n",
    "\n",
    "<u>Hyperparameter Testing:</u>\n",
    "- max_depth = 3 (Accuracy = 78.5%)\n",
    "\n",
    "<u>Best Parameter Setting:</u>\n",
    "- random_state=12345, max_depth=3\n",
    "\n",
    "<u>Final Model Performance:</u>\n",
    "- Test Accuracy: 77.9%\n",
    "\n",
    "**Logistic Regression:**\n",
    "\n",
    "<u>Hyperparameter Testing:</u>\n",
    "- solver = lbfgs (Accuracy: 71.1%, Gap: 0.2%)\n",
    "- C = 0.01 (Accuracy: 75.6%, Gap: 0.27%)\n",
    "\n",
    "<u>Best Parameter Setting:</u>\n",
    "- random_state=12345, solver='lbfgs', C=0.01, max_iter=1000\n",
    "\n",
    "<u>Final Model Performance:</u>\n",
    "- Test Accuracy: 73.9%\n"
   ]
  },
  {
   "cell_type": "markdown",
   "metadata": {},
   "source": [
    "## Final Recommendation\n",
    "\n",
    "Random Forest achieved the highest test accuracy (79.8%) with excellent generalization, making it the optimal choice for predicting customer plan recommendations."
   ]
  }
 ],
 "metadata": {
  "kernelspec": {
   "display_name": "Python 3 (ipykernel)",
   "language": "python",
   "name": "python3"
  },
  "language_info": {
   "codemirror_mode": {
    "name": "ipython",
    "version": 3
   },
   "file_extension": ".py",
   "mimetype": "text/x-python",
   "name": "python",
   "nbconvert_exporter": "python",
   "pygments_lexer": "ipython3",
   "version": "3.9.23"
  }
 },
 "nbformat": 4,
 "nbformat_minor": 4
}
