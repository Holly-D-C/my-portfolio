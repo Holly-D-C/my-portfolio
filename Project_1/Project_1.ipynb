{
 "cells": [
  {
   "cell_type": "markdown",
   "metadata": {
    "id": "JKIIqy01lgHq"
   },
   "source": [
    "# Project: Data Analysis with Pandas\n",
    "\n",
    "Working with a dataset containing information about movies and shows. Use the pandas library to read, clean, and analyze the data. This project includes working with DataFrames, indexing, and data manipulation using pandas.\n",
    "\n",
    "## Dataset Description\n",
    "\n",
    "The dataset `movies_and_shows.csv` contains information about various movies and shows, including:\n",
    "\n",
    "- **name**: The name of the actor or actress.\n",
    "- **Character**: The character they played.\n",
    "- **r0le**: The role type (e.g., ACTOR).\n",
    "- **TITLE**: The title of the movie or show.\n",
    "- **Type**: Whether it's a MOVIE or SHOW.\n",
    "- **release Year**: The year it was released.\n",
    "- **genres**: A list of genres the movie or show belongs to.\n",
    "- **imdb sc0re**: The IMDb score of the movie or show.\n",
    "- **imdb v0tes**: The number of votes on IMDb.\n",
    "\n",
    "Here's a small sample of the dataset:\n",
    "\n",
    "| name              | Character                         | r0le   | TITLE        |  Type | release Year | genres             | imdb sc0re | imdb v0tes |\n",
    "|-------------------|-----------------------------------|--------|--------------|-------|--------------|--------------------|------------|------------|\n",
    "| Robert De Niro    | Travis Bickle                     | ACTOR  | Taxi Driver  | MOVIE | 1976         | ['drama', 'crime'] | 8.2        | 808582     |\n",
    "| Jodie Foster      | Iris Steensma                     | ACTOR  | Taxi Driver  | MOVIE | 1976         | ['drama', 'crime'] | 8.2        | 808582     |\n",
    "| Albert Brooks     | Tom                               | ACTOR  | Taxi Driver  | MOVIE | 1976         | ['drama', 'crime'] | 8.2        | 808582     |\n",
    "| Harvey Keitel     | Matthew 'Sport' Higgins           | ACTOR  | Taxi Driver  | MOVIE | 1976         | ['drama', 'crime'] | 8.2        | 808582     |\n",
    "| Cybill Shepherd   | Betsy                             | ACTOR  | Taxi Driver  | MOVIE | 1976         | ['drama', 'crime'] | 8.2        | 808582     |\n",
    "\n"
   ]
  },
  {
   "cell_type": "markdown",
   "metadata": {
    "id": "csnpkGaRlkVj"
   },
   "source": [
    "## Getting Started\n",
    "\n",
    "Let's begin by setting up our environment.\n",
    "\n",
    "### Importing Libraries\n",
    "\n",
    "First, we need to import the necessary libraries.\n",
    "\n",
    "\n",
    "- Import the `pandas` library, which we will use for data manipulation."
   ]
  },
  {
   "cell_type": "code",
   "execution_count": 1,
   "metadata": {
    "id": "xVSzQhyjlg2F",
    "trusted": true
   },
   "outputs": [],
   "source": [
    "#Import the pandas library as 'pd'\n",
    "import pandas as pd\n"
   ]
  },
  {
   "cell_type": "markdown",
   "metadata": {
    "id": "C2Ks4kU9lsH7"
   },
   "source": [
    "Load the dataset into a pandas DataFrame to begin our analysis.\n",
    "\n",
    "- Read the `movies_and_shows.csv` file into a DataFrame. It is in the /datasets directory so the full path to include in the read_csv method will be \"/datasets/movies_and_shows.csv\"\n",
    "- Display the first few rows of the DataFrame to get an initial look at the data.\n",
    "- Use `pd.read_csv()` to read the CSV file and store it in a variable called \"df\".\n",
    "- Use the `.head()` method to display the first few rows."
   ]
  },
  {
   "cell_type": "code",
   "execution_count": 2,
   "metadata": {
    "id": "afwv-RRIlwcF",
    "trusted": true
   },
   "outputs": [],
   "source": [
    "# Read the dataset into a DataFrame\n",
    "df = pd.read_csv(\"/datasets/movies_and_shows.csv\")\n",
    "\n"
   ]
  },
  {
   "cell_type": "code",
   "execution_count": 3,
   "metadata": {
    "id": "iHI5NhB6mYel",
    "scrolled": true,
    "trusted": true
   },
   "outputs": [
    {
     "data": {
      "text/html": [
       "<div>\n",
       "<style scoped>\n",
       "    .dataframe tbody tr th:only-of-type {\n",
       "        vertical-align: middle;\n",
       "    }\n",
       "\n",
       "    .dataframe tbody tr th {\n",
       "        vertical-align: top;\n",
       "    }\n",
       "\n",
       "    .dataframe thead th {\n",
       "        text-align: right;\n",
       "    }\n",
       "</style>\n",
       "<table border=\"1\" class=\"dataframe\">\n",
       "  <thead>\n",
       "    <tr style=\"text-align: right;\">\n",
       "      <th></th>\n",
       "      <th>name</th>\n",
       "      <th>Character</th>\n",
       "      <th>r0le</th>\n",
       "      <th>TITLE</th>\n",
       "      <th>Type</th>\n",
       "      <th>release Year</th>\n",
       "      <th>genres</th>\n",
       "      <th>imdb sc0re</th>\n",
       "      <th>imdb v0tes</th>\n",
       "    </tr>\n",
       "  </thead>\n",
       "  <tbody>\n",
       "    <tr>\n",
       "      <th>0</th>\n",
       "      <td>Robert De Niro</td>\n",
       "      <td>Travis Bickle</td>\n",
       "      <td>ACTOR</td>\n",
       "      <td>Taxi Driver</td>\n",
       "      <td>MOVIE</td>\n",
       "      <td>1976</td>\n",
       "      <td>['drama', 'crime']</td>\n",
       "      <td>8.2</td>\n",
       "      <td>808582.0</td>\n",
       "    </tr>\n",
       "    <tr>\n",
       "      <th>1</th>\n",
       "      <td>Jodie Foster</td>\n",
       "      <td>Iris Steensma</td>\n",
       "      <td>ACTOR</td>\n",
       "      <td>Taxi Driver</td>\n",
       "      <td>MOVIE</td>\n",
       "      <td>1976</td>\n",
       "      <td>['drama', 'crime']</td>\n",
       "      <td>8.2</td>\n",
       "      <td>808582.0</td>\n",
       "    </tr>\n",
       "    <tr>\n",
       "      <th>2</th>\n",
       "      <td>Albert Brooks</td>\n",
       "      <td>Tom</td>\n",
       "      <td>ACTOR</td>\n",
       "      <td>Taxi Driver</td>\n",
       "      <td>MOVIE</td>\n",
       "      <td>1976</td>\n",
       "      <td>['drama', 'crime']</td>\n",
       "      <td>8.2</td>\n",
       "      <td>808582.0</td>\n",
       "    </tr>\n",
       "    <tr>\n",
       "      <th>3</th>\n",
       "      <td>Harvey Keitel</td>\n",
       "      <td>Matthew 'Sport' Higgins</td>\n",
       "      <td>ACTOR</td>\n",
       "      <td>Taxi Driver</td>\n",
       "      <td>MOVIE</td>\n",
       "      <td>1976</td>\n",
       "      <td>['drama', 'crime']</td>\n",
       "      <td>8.2</td>\n",
       "      <td>808582.0</td>\n",
       "    </tr>\n",
       "    <tr>\n",
       "      <th>4</th>\n",
       "      <td>Cybill Shepherd</td>\n",
       "      <td>Betsy</td>\n",
       "      <td>ACTOR</td>\n",
       "      <td>Taxi Driver</td>\n",
       "      <td>MOVIE</td>\n",
       "      <td>1976</td>\n",
       "      <td>['drama', 'crime']</td>\n",
       "      <td>8.2</td>\n",
       "      <td>808582.0</td>\n",
       "    </tr>\n",
       "  </tbody>\n",
       "</table>\n",
       "</div>"
      ],
      "text/plain": [
       "              name                Character   r0le        TITLE   Type  \\\n",
       "0   Robert De Niro            Travis Bickle  ACTOR  Taxi Driver  MOVIE   \n",
       "1     Jodie Foster            Iris Steensma  ACTOR  Taxi Driver  MOVIE   \n",
       "2    Albert Brooks                      Tom  ACTOR  Taxi Driver  MOVIE   \n",
       "3    Harvey Keitel  Matthew 'Sport' Higgins  ACTOR  Taxi Driver  MOVIE   \n",
       "4  Cybill Shepherd                    Betsy  ACTOR  Taxi Driver  MOVIE   \n",
       "\n",
       "   release Year              genres  imdb sc0re  imdb v0tes  \n",
       "0          1976  ['drama', 'crime']         8.2    808582.0  \n",
       "1          1976  ['drama', 'crime']         8.2    808582.0  \n",
       "2          1976  ['drama', 'crime']         8.2    808582.0  \n",
       "3          1976  ['drama', 'crime']         8.2    808582.0  \n",
       "4          1976  ['drama', 'crime']         8.2    808582.0  "
      ]
     },
     "execution_count": 3,
     "metadata": {},
     "output_type": "execute_result"
    }
   ],
   "source": [
    "# Display the first few rows of the DataFrame\n",
    "df.head()\n"
   ]
  },
  {
   "cell_type": "markdown",
   "metadata": {
    "id": "otEIbWKZmmaT"
   },
   "source": [
    "Understanding the structure and content of your data is crucial before performing any analysis.\n",
    "\n",
    "\n",
    "- Use the `.info()` method to get information about the DataFrame.\n",
    "- Identify any issues with the Column names."
   ]
  },
  {
   "cell_type": "code",
   "execution_count": 4,
   "metadata": {
    "id": "v7Oa8Zuzmjo1",
    "trusted": true
   },
   "outputs": [
    {
     "name": "stdout",
     "output_type": "stream",
     "text": [
      "<class 'pandas.core.frame.DataFrame'>\n",
      "RangeIndex: 85579 entries, 0 to 85578\n",
      "Data columns (total 9 columns):\n",
      " #   Column        Non-Null Count  Dtype  \n",
      "---  ------        --------------  -----  \n",
      " 0      name       85579 non-null  object \n",
      " 1   Character     85579 non-null  object \n",
      " 2   r0le          85579 non-null  object \n",
      " 3   TITLE         85578 non-null  object \n",
      " 4     Type        85579 non-null  object \n",
      " 5   release Year  85579 non-null  int64  \n",
      " 6   genres        85579 non-null  object \n",
      " 7   imdb sc0re    80970 non-null  float64\n",
      " 8   imdb v0tes    80853 non-null  float64\n",
      "dtypes: float64(2), int64(1), object(6)\n",
      "memory usage: 5.9+ MB\n"
     ]
    }
   ],
   "source": [
    "# Get information about the DataFrame and print the column names\n",
    "df.info()\n"
   ]
  },
  {
   "cell_type": "markdown",
   "metadata": {
    "id": "_rsPAidUm3lS"
   },
   "source": [
    "## Task 1: Data Cleaning\n",
    "\n",
    "Clean the data to fix issues with the column names\n",
    "\n",
    "- Rename the columns to correct any errors and make them consistent.\n",
    "- Use the `.rename()` method to rename columns.\n",
    "- Pass a dictionary to the `columns` parameter of `.rename()`, where the keys are the old column names and the values are the new names.\n",
    "- Remove unnecessary whitespace from the column names."
   ]
  },
  {
   "cell_type": "code",
   "execution_count": 5,
   "metadata": {
    "id": "FkIUzgKPm4Rz",
    "trusted": true
   },
   "outputs": [],
   "source": [
    "# Rename columns to make them consistent and correct errors\n",
    "df = df.rename(\n",
    "    columns={\n",
    "            '   name': 'name',\n",
    "            'Character': 'character',\n",
    "            'r0le': 'role', \n",
    "            'TITLE': 'title', \n",
    "            '  Type': 'type', \n",
    "            'release Year': 'release_year',\n",
    "            'imdb sc0re': 'imdb_score', \n",
    "            'imdb v0tes': 'imdb_votes',\n",
    "    }\n",
    ")\n"
   ]
  },
  {
   "cell_type": "code",
   "execution_count": 6,
   "metadata": {
    "id": "cHi0aQgunByj",
    "scrolled": true,
    "trusted": true
   },
   "outputs": [
    {
     "data": {
      "text/html": [
       "<div>\n",
       "<style scoped>\n",
       "    .dataframe tbody tr th:only-of-type {\n",
       "        vertical-align: middle;\n",
       "    }\n",
       "\n",
       "    .dataframe tbody tr th {\n",
       "        vertical-align: top;\n",
       "    }\n",
       "\n",
       "    .dataframe thead th {\n",
       "        text-align: right;\n",
       "    }\n",
       "</style>\n",
       "<table border=\"1\" class=\"dataframe\">\n",
       "  <thead>\n",
       "    <tr style=\"text-align: right;\">\n",
       "      <th></th>\n",
       "      <th>name</th>\n",
       "      <th>character</th>\n",
       "      <th>role</th>\n",
       "      <th>title</th>\n",
       "      <th>type</th>\n",
       "      <th>release_year</th>\n",
       "      <th>genres</th>\n",
       "      <th>imdb_score</th>\n",
       "      <th>imdb_votes</th>\n",
       "    </tr>\n",
       "  </thead>\n",
       "  <tbody>\n",
       "    <tr>\n",
       "      <th>0</th>\n",
       "      <td>Robert De Niro</td>\n",
       "      <td>Travis Bickle</td>\n",
       "      <td>ACTOR</td>\n",
       "      <td>Taxi Driver</td>\n",
       "      <td>MOVIE</td>\n",
       "      <td>1976</td>\n",
       "      <td>['drama', 'crime']</td>\n",
       "      <td>8.2</td>\n",
       "      <td>808582.0</td>\n",
       "    </tr>\n",
       "    <tr>\n",
       "      <th>1</th>\n",
       "      <td>Jodie Foster</td>\n",
       "      <td>Iris Steensma</td>\n",
       "      <td>ACTOR</td>\n",
       "      <td>Taxi Driver</td>\n",
       "      <td>MOVIE</td>\n",
       "      <td>1976</td>\n",
       "      <td>['drama', 'crime']</td>\n",
       "      <td>8.2</td>\n",
       "      <td>808582.0</td>\n",
       "    </tr>\n",
       "    <tr>\n",
       "      <th>2</th>\n",
       "      <td>Albert Brooks</td>\n",
       "      <td>Tom</td>\n",
       "      <td>ACTOR</td>\n",
       "      <td>Taxi Driver</td>\n",
       "      <td>MOVIE</td>\n",
       "      <td>1976</td>\n",
       "      <td>['drama', 'crime']</td>\n",
       "      <td>8.2</td>\n",
       "      <td>808582.0</td>\n",
       "    </tr>\n",
       "    <tr>\n",
       "      <th>3</th>\n",
       "      <td>Harvey Keitel</td>\n",
       "      <td>Matthew 'Sport' Higgins</td>\n",
       "      <td>ACTOR</td>\n",
       "      <td>Taxi Driver</td>\n",
       "      <td>MOVIE</td>\n",
       "      <td>1976</td>\n",
       "      <td>['drama', 'crime']</td>\n",
       "      <td>8.2</td>\n",
       "      <td>808582.0</td>\n",
       "    </tr>\n",
       "    <tr>\n",
       "      <th>4</th>\n",
       "      <td>Cybill Shepherd</td>\n",
       "      <td>Betsy</td>\n",
       "      <td>ACTOR</td>\n",
       "      <td>Taxi Driver</td>\n",
       "      <td>MOVIE</td>\n",
       "      <td>1976</td>\n",
       "      <td>['drama', 'crime']</td>\n",
       "      <td>8.2</td>\n",
       "      <td>808582.0</td>\n",
       "    </tr>\n",
       "    <tr>\n",
       "      <th>...</th>\n",
       "      <td>...</td>\n",
       "      <td>...</td>\n",
       "      <td>...</td>\n",
       "      <td>...</td>\n",
       "      <td>...</td>\n",
       "      <td>...</td>\n",
       "      <td>...</td>\n",
       "      <td>...</td>\n",
       "      <td>...</td>\n",
       "    </tr>\n",
       "    <tr>\n",
       "      <th>85574</th>\n",
       "      <td>Adelaida Buscato</td>\n",
       "      <td>Mar??a Paz</td>\n",
       "      <td>ACTOR</td>\n",
       "      <td>Lokillo</td>\n",
       "      <td>the movie</td>\n",
       "      <td>2021</td>\n",
       "      <td>['comedy']</td>\n",
       "      <td>3.8</td>\n",
       "      <td>68.0</td>\n",
       "    </tr>\n",
       "    <tr>\n",
       "      <th>85575</th>\n",
       "      <td>Luz Stella Luengas</td>\n",
       "      <td>Karen Bayona</td>\n",
       "      <td>ACTOR</td>\n",
       "      <td>Lokillo</td>\n",
       "      <td>the movie</td>\n",
       "      <td>2021</td>\n",
       "      <td>['comedy']</td>\n",
       "      <td>3.8</td>\n",
       "      <td>68.0</td>\n",
       "    </tr>\n",
       "    <tr>\n",
       "      <th>85576</th>\n",
       "      <td>In??s Prieto</td>\n",
       "      <td>Fanny</td>\n",
       "      <td>ACTOR</td>\n",
       "      <td>Lokillo</td>\n",
       "      <td>the movie</td>\n",
       "      <td>2021</td>\n",
       "      <td>['comedy']</td>\n",
       "      <td>3.8</td>\n",
       "      <td>68.0</td>\n",
       "    </tr>\n",
       "    <tr>\n",
       "      <th>85577</th>\n",
       "      <td>Isabel Gaona</td>\n",
       "      <td>Cacica</td>\n",
       "      <td>ACTOR</td>\n",
       "      <td>Lokillo</td>\n",
       "      <td>MOVIE</td>\n",
       "      <td>2021</td>\n",
       "      <td>['comedy']</td>\n",
       "      <td>3.8</td>\n",
       "      <td>68.0</td>\n",
       "    </tr>\n",
       "    <tr>\n",
       "      <th>85578</th>\n",
       "      <td>Julian Gaviria</td>\n",
       "      <td>unknown</td>\n",
       "      <td>DIRECTOR</td>\n",
       "      <td>Lokillo</td>\n",
       "      <td>the movie</td>\n",
       "      <td>2021</td>\n",
       "      <td>['comedy']</td>\n",
       "      <td>3.8</td>\n",
       "      <td>68.0</td>\n",
       "    </tr>\n",
       "  </tbody>\n",
       "</table>\n",
       "<p>85579 rows × 9 columns</p>\n",
       "</div>"
      ],
      "text/plain": [
       "                     name                character      role        title  \\\n",
       "0          Robert De Niro            Travis Bickle     ACTOR  Taxi Driver   \n",
       "1            Jodie Foster            Iris Steensma     ACTOR  Taxi Driver   \n",
       "2           Albert Brooks                      Tom     ACTOR  Taxi Driver   \n",
       "3           Harvey Keitel  Matthew 'Sport' Higgins     ACTOR  Taxi Driver   \n",
       "4         Cybill Shepherd                    Betsy     ACTOR  Taxi Driver   \n",
       "...                   ...                      ...       ...          ...   \n",
       "85574    Adelaida Buscato               Mar??a Paz     ACTOR      Lokillo   \n",
       "85575  Luz Stella Luengas             Karen Bayona     ACTOR      Lokillo   \n",
       "85576        In??s Prieto                    Fanny     ACTOR      Lokillo   \n",
       "85577        Isabel Gaona                   Cacica     ACTOR      Lokillo   \n",
       "85578      Julian Gaviria                  unknown  DIRECTOR      Lokillo   \n",
       "\n",
       "            type  release_year              genres  imdb_score  imdb_votes  \n",
       "0          MOVIE          1976  ['drama', 'crime']         8.2    808582.0  \n",
       "1          MOVIE          1976  ['drama', 'crime']         8.2    808582.0  \n",
       "2          MOVIE          1976  ['drama', 'crime']         8.2    808582.0  \n",
       "3          MOVIE          1976  ['drama', 'crime']         8.2    808582.0  \n",
       "4          MOVIE          1976  ['drama', 'crime']         8.2    808582.0  \n",
       "...          ...           ...                 ...         ...         ...  \n",
       "85574  the movie          2021          ['comedy']         3.8        68.0  \n",
       "85575  the movie          2021          ['comedy']         3.8        68.0  \n",
       "85576  the movie          2021          ['comedy']         3.8        68.0  \n",
       "85577      MOVIE          2021          ['comedy']         3.8        68.0  \n",
       "85578  the movie          2021          ['comedy']         3.8        68.0  \n",
       "\n",
       "[85579 rows x 9 columns]"
      ]
     },
     "metadata": {},
     "output_type": "display_data"
    },
    {
     "name": "stdout",
     "output_type": "stream",
     "text": [
      "<class 'pandas.core.frame.DataFrame'>\n",
      "RangeIndex: 85579 entries, 0 to 85578\n",
      "Data columns (total 9 columns):\n",
      " #   Column        Non-Null Count  Dtype  \n",
      "---  ------        --------------  -----  \n",
      " 0   name          85579 non-null  object \n",
      " 1   character     85579 non-null  object \n",
      " 2   role          85579 non-null  object \n",
      " 3   title         85578 non-null  object \n",
      " 4   type          85579 non-null  object \n",
      " 5   release_year  85579 non-null  int64  \n",
      " 6   genres        85579 non-null  object \n",
      " 7   imdb_score    80970 non-null  float64\n",
      " 8   imdb_votes    80853 non-null  float64\n",
      "dtypes: float64(2), int64(1), object(6)\n",
      "memory usage: 5.9+ MB\n"
     ]
    },
    {
     "data": {
      "text/html": [
       "<div>\n",
       "<style scoped>\n",
       "    .dataframe tbody tr th:only-of-type {\n",
       "        vertical-align: middle;\n",
       "    }\n",
       "\n",
       "    .dataframe tbody tr th {\n",
       "        vertical-align: top;\n",
       "    }\n",
       "\n",
       "    .dataframe thead th {\n",
       "        text-align: right;\n",
       "    }\n",
       "</style>\n",
       "<table border=\"1\" class=\"dataframe\">\n",
       "  <thead>\n",
       "    <tr style=\"text-align: right;\">\n",
       "      <th></th>\n",
       "      <th>name</th>\n",
       "      <th>character</th>\n",
       "      <th>role</th>\n",
       "      <th>title</th>\n",
       "      <th>type</th>\n",
       "      <th>release_year</th>\n",
       "      <th>genres</th>\n",
       "      <th>imdb_score</th>\n",
       "      <th>imdb_votes</th>\n",
       "    </tr>\n",
       "  </thead>\n",
       "  <tbody>\n",
       "    <tr>\n",
       "      <th>0</th>\n",
       "      <td>Robert De Niro</td>\n",
       "      <td>Travis Bickle</td>\n",
       "      <td>ACTOR</td>\n",
       "      <td>Taxi Driver</td>\n",
       "      <td>MOVIE</td>\n",
       "      <td>1976</td>\n",
       "      <td>['drama', 'crime']</td>\n",
       "      <td>8.2</td>\n",
       "      <td>808582.0</td>\n",
       "    </tr>\n",
       "    <tr>\n",
       "      <th>1</th>\n",
       "      <td>Jodie Foster</td>\n",
       "      <td>Iris Steensma</td>\n",
       "      <td>ACTOR</td>\n",
       "      <td>Taxi Driver</td>\n",
       "      <td>MOVIE</td>\n",
       "      <td>1976</td>\n",
       "      <td>['drama', 'crime']</td>\n",
       "      <td>8.2</td>\n",
       "      <td>808582.0</td>\n",
       "    </tr>\n",
       "    <tr>\n",
       "      <th>2</th>\n",
       "      <td>Albert Brooks</td>\n",
       "      <td>Tom</td>\n",
       "      <td>ACTOR</td>\n",
       "      <td>Taxi Driver</td>\n",
       "      <td>MOVIE</td>\n",
       "      <td>1976</td>\n",
       "      <td>['drama', 'crime']</td>\n",
       "      <td>8.2</td>\n",
       "      <td>808582.0</td>\n",
       "    </tr>\n",
       "    <tr>\n",
       "      <th>3</th>\n",
       "      <td>Harvey Keitel</td>\n",
       "      <td>Matthew 'Sport' Higgins</td>\n",
       "      <td>ACTOR</td>\n",
       "      <td>Taxi Driver</td>\n",
       "      <td>MOVIE</td>\n",
       "      <td>1976</td>\n",
       "      <td>['drama', 'crime']</td>\n",
       "      <td>8.2</td>\n",
       "      <td>808582.0</td>\n",
       "    </tr>\n",
       "    <tr>\n",
       "      <th>4</th>\n",
       "      <td>Cybill Shepherd</td>\n",
       "      <td>Betsy</td>\n",
       "      <td>ACTOR</td>\n",
       "      <td>Taxi Driver</td>\n",
       "      <td>MOVIE</td>\n",
       "      <td>1976</td>\n",
       "      <td>['drama', 'crime']</td>\n",
       "      <td>8.2</td>\n",
       "      <td>808582.0</td>\n",
       "    </tr>\n",
       "  </tbody>\n",
       "</table>\n",
       "</div>"
      ],
      "text/plain": [
       "              name                character   role        title   type  \\\n",
       "0   Robert De Niro            Travis Bickle  ACTOR  Taxi Driver  MOVIE   \n",
       "1     Jodie Foster            Iris Steensma  ACTOR  Taxi Driver  MOVIE   \n",
       "2    Albert Brooks                      Tom  ACTOR  Taxi Driver  MOVIE   \n",
       "3    Harvey Keitel  Matthew 'Sport' Higgins  ACTOR  Taxi Driver  MOVIE   \n",
       "4  Cybill Shepherd                    Betsy  ACTOR  Taxi Driver  MOVIE   \n",
       "\n",
       "   release_year              genres  imdb_score  imdb_votes  \n",
       "0          1976  ['drama', 'crime']         8.2    808582.0  \n",
       "1          1976  ['drama', 'crime']         8.2    808582.0  \n",
       "2          1976  ['drama', 'crime']         8.2    808582.0  \n",
       "3          1976  ['drama', 'crime']         8.2    808582.0  \n",
       "4          1976  ['drama', 'crime']         8.2    808582.0  "
      ]
     },
     "execution_count": 6,
     "metadata": {},
     "output_type": "execute_result"
    }
   ],
   "source": [
    "# Print the updated column names to confirm correction\n",
    "display(df)\n",
    "df.info()\n",
    "df.head()\n"
   ]
  },
  {
   "cell_type": "markdown",
   "metadata": {
    "id": "z6ShKY5boqj1"
   },
   "source": [
    "## Task 2: Correcting a Misspelled Name in the Data\n",
    "\n",
    "While analyzing the dataset, you notice that some names are misspelled or contain special characters due to encoding issues. Accurate data is essential for reporting and recommendations, so let’s correct one of these entries.\n",
    "\n",
    "\n",
    "1. **Locate the Row with the Incorrect Name**:\n",
    "   - Use `.loc[]` to retrieve the row where `name` is `\"In??s Prieto\"`.\n",
    "   - You can locate a row based on the index (85576) and column name called \"name\".\n",
    "   - Print the row to verify that you have the correct one.\n",
    "\n",
    "\n",
    "2. **Correct the Name**:\n",
    "   - Using `.loc[]`, update the `name` column for this row to \"Ines Prieto.\"\n",
    "   \n",
    "3. **Verify the Correction**:\n",
    "   - Print the row again to ensure that the name has been corrected."
   ]
  },
  {
   "cell_type": "code",
   "execution_count": 7,
   "metadata": {
    "id": "JeEDNCYsoo0z",
    "trusted": true
   },
   "outputs": [
    {
     "data": {
      "text/plain": [
       "'In??s Prieto'"
      ]
     },
     "execution_count": 7,
     "metadata": {},
     "output_type": "execute_result"
    }
   ],
   "source": [
    "# Locate the row with the incorrect name\n",
    "df.loc[85576,'name']\n"
   ]
  },
  {
   "cell_type": "code",
   "execution_count": 8,
   "metadata": {
    "id": "US2yweQ3RFTE",
    "trusted": true
   },
   "outputs": [],
   "source": [
    "# Correct the name\n",
    "df.loc[85576,'name'] = 'Ines Prieto'"
   ]
  },
  {
   "cell_type": "code",
   "execution_count": 9,
   "metadata": {
    "id": "IgEGbcNVqLnU",
    "trusted": true
   },
   "outputs": [
    {
     "data": {
      "text/plain": [
       "'Ines Prieto'"
      ]
     },
     "metadata": {},
     "output_type": "display_data"
    }
   ],
   "source": [
    "# Verify the correction\n",
    "display(df.loc[85576,'name'])"
   ]
  },
  {
   "cell_type": "markdown",
   "metadata": {
    "id": "vLIvSF0hsYpE"
   },
   "source": [
    "## Task 3: Finding All Movies and Shows Featuring Ines Prieto\n",
    "\n",
    "Now that we've corrected the spelling of \"Ines Prieto\" in the dataset, let's find all the TV shows and movies she has acted in. This type of filtering is helpful for generating actor-specific profiles or building a list of their works.\n",
    "\n",
    "\n",
    "1. **Filter by Actor’s Name**:\n",
    "   - Use a filtering condition to select rows where the `name` column is equal to `\"Ines Prieto\"`.\n",
    "   \n",
    "2. **Display Relevant Columns**:\n",
    "   - From each matching row, retrieve only the `title`, `release_year`, `imdb_score`, and `genres` columns for a clear, concise output.\n",
    "\n",
    "\n",
    "To filter rows based on a specific value in a column, use a condition inside df[ ... ]. In this case, check if the name column equals \"Ines Prieto\". Then, select only the columns you need (like title, release_year, imdb_score, and genres) by specifying them in double brackets [ [ ... ] ].\n"
   ]
  },
  {
   "cell_type": "code",
   "execution_count": 10,
   "metadata": {
    "id": "eksJ9sXXr1UU",
    "trusted": true
   },
   "outputs": [],
   "source": [
    "# Filter rows where the actor's name is \"Ines Prieto\" and display the title, release_year, genres, and imdb_score\n",
    "df['name'] == 'Ines Prieto'\n",
    "df[df['name'] == 'Ines Prieto']\n",
    "part_df = df[['name', 'title', 'release_year', 'genres', 'imdb_score']]\n",
    "ines_prieto_part = part_df[df['name']=='Ines Prieto']"
   ]
  },
  {
   "cell_type": "code",
   "execution_count": 11,
   "metadata": {
    "id": "vYrm6MhERlZc",
    "trusted": true
   },
   "outputs": [
    {
     "data": {
      "text/html": [
       "<div>\n",
       "<style scoped>\n",
       "    .dataframe tbody tr th:only-of-type {\n",
       "        vertical-align: middle;\n",
       "    }\n",
       "\n",
       "    .dataframe tbody tr th {\n",
       "        vertical-align: top;\n",
       "    }\n",
       "\n",
       "    .dataframe thead th {\n",
       "        text-align: right;\n",
       "    }\n",
       "</style>\n",
       "<table border=\"1\" class=\"dataframe\">\n",
       "  <thead>\n",
       "    <tr style=\"text-align: right;\">\n",
       "      <th></th>\n",
       "      <th>name</th>\n",
       "      <th>title</th>\n",
       "      <th>release_year</th>\n",
       "      <th>genres</th>\n",
       "      <th>imdb_score</th>\n",
       "    </tr>\n",
       "  </thead>\n",
       "  <tbody>\n",
       "    <tr>\n",
       "      <th>85576</th>\n",
       "      <td>Ines Prieto</td>\n",
       "      <td>Lokillo</td>\n",
       "      <td>2021</td>\n",
       "      <td>['comedy']</td>\n",
       "      <td>3.8</td>\n",
       "    </tr>\n",
       "  </tbody>\n",
       "</table>\n",
       "</div>"
      ],
      "text/plain": [
       "              name    title  release_year      genres  imdb_score\n",
       "85576  Ines Prieto  Lokillo          2021  ['comedy']         3.8"
      ]
     },
     "metadata": {},
     "output_type": "display_data"
    }
   ],
   "source": [
    "# Display the result\n",
    "display(ines_prieto_part)"
   ]
  },
  {
   "cell_type": "markdown",
   "metadata": {
    "id": "HtmXfQHHutNk"
   },
   "source": [
    "## Task 4: Finding Highly Rated Movies\n",
    "\n",
    "We want to identify movies with an IMDb rating of at least **9.0**. This list could be helpful for curating a \"Top Movies\" section based on high ratings.\n",
    "\n",
    "### Instructions\n",
    "\n",
    "1. **Filter for High IMDb Scores**:\n",
    "   - First, filter the DataFrame to include only rows where the `imdb_score` is greater than 9.0.\n",
    "\n",
    "2. **Extract the Titles**:\n",
    "   - From this filtered DataFrame, select only the `title` column, which contains the names of the movies.\n",
    "\n",
    "3. **Get Unique Titles**:\n",
    "   - Convert the resulting list of titles to a set to remove any duplicate titles. Using `set()` will keep only unique movie names.\n",
    "\n",
    "   - *Example*: `unique_titles = set(high_score_titles)`\n",
    "\n",
    "4. **Print the Unique Titles**:\n",
    "   - Display the final set of unique movie titles to see the list of top-rated movies.\n"
   ]
  },
  {
   "cell_type": "code",
   "execution_count": 12,
   "metadata": {
    "id": "B_smQ3cAtAXk",
    "trusted": true
   },
   "outputs": [
    {
     "data": {
      "text/html": [
       "<div>\n",
       "<style scoped>\n",
       "    .dataframe tbody tr th:only-of-type {\n",
       "        vertical-align: middle;\n",
       "    }\n",
       "\n",
       "    .dataframe tbody tr th {\n",
       "        vertical-align: top;\n",
       "    }\n",
       "\n",
       "    .dataframe thead th {\n",
       "        text-align: right;\n",
       "    }\n",
       "</style>\n",
       "<table border=\"1\" class=\"dataframe\">\n",
       "  <thead>\n",
       "    <tr style=\"text-align: right;\">\n",
       "      <th></th>\n",
       "      <th>name</th>\n",
       "      <th>character</th>\n",
       "      <th>role</th>\n",
       "      <th>title</th>\n",
       "      <th>type</th>\n",
       "      <th>release_year</th>\n",
       "      <th>genres</th>\n",
       "      <th>imdb_score</th>\n",
       "      <th>imdb_votes</th>\n",
       "    </tr>\n",
       "  </thead>\n",
       "  <tbody>\n",
       "    <tr>\n",
       "      <th>4456</th>\n",
       "      <td>Bryan Cranston</td>\n",
       "      <td>Walter White</td>\n",
       "      <td>ACTOR</td>\n",
       "      <td>Breaking Bad</td>\n",
       "      <td>SHOW</td>\n",
       "      <td>2008</td>\n",
       "      <td>['drama', 'crime', 'thriller']</td>\n",
       "      <td>9.5</td>\n",
       "      <td>1775990.0</td>\n",
       "    </tr>\n",
       "    <tr>\n",
       "      <th>4457</th>\n",
       "      <td>Aaron Paul</td>\n",
       "      <td>Jesse Pinkman</td>\n",
       "      <td>ACTOR</td>\n",
       "      <td>Breaking Bad</td>\n",
       "      <td>SHOW</td>\n",
       "      <td>2008</td>\n",
       "      <td>['drama', 'crime', 'thriller']</td>\n",
       "      <td>9.5</td>\n",
       "      <td>1775990.0</td>\n",
       "    </tr>\n",
       "    <tr>\n",
       "      <th>4458</th>\n",
       "      <td>Anna Gunn</td>\n",
       "      <td>Skyler White</td>\n",
       "      <td>ACTOR</td>\n",
       "      <td>Breaking Bad</td>\n",
       "      <td>SHOW</td>\n",
       "      <td>2008</td>\n",
       "      <td>['drama', 'crime', 'thriller']</td>\n",
       "      <td>9.5</td>\n",
       "      <td>1775990.0</td>\n",
       "    </tr>\n",
       "    <tr>\n",
       "      <th>4459</th>\n",
       "      <td>Dean Norris</td>\n",
       "      <td>Hank Schrader</td>\n",
       "      <td>ACTOR</td>\n",
       "      <td>Breaking Bad</td>\n",
       "      <td>SHOW</td>\n",
       "      <td>2008</td>\n",
       "      <td>['drama', 'crime', 'thriller']</td>\n",
       "      <td>9.5</td>\n",
       "      <td>1775990.0</td>\n",
       "    </tr>\n",
       "    <tr>\n",
       "      <th>4460</th>\n",
       "      <td>Jonathan Banks</td>\n",
       "      <td>Mike Ehrmantraut</td>\n",
       "      <td>ACTOR</td>\n",
       "      <td>Breaking Bad</td>\n",
       "      <td>SHOW</td>\n",
       "      <td>2008</td>\n",
       "      <td>['drama', 'crime', 'thriller']</td>\n",
       "      <td>9.5</td>\n",
       "      <td>1775990.0</td>\n",
       "    </tr>\n",
       "    <tr>\n",
       "      <th>4461</th>\n",
       "      <td>Bob Odenkirk</td>\n",
       "      <td>Saul Goodman</td>\n",
       "      <td>ACTOR</td>\n",
       "      <td>Breaking Bad</td>\n",
       "      <td>SHOW</td>\n",
       "      <td>2008</td>\n",
       "      <td>['drama', 'crime', 'thriller']</td>\n",
       "      <td>9.5</td>\n",
       "      <td>1775990.0</td>\n",
       "    </tr>\n",
       "    <tr>\n",
       "      <th>4462</th>\n",
       "      <td>Betsy Brandt</td>\n",
       "      <td>Marie Schrader</td>\n",
       "      <td>ACTOR</td>\n",
       "      <td>Breaking Bad</td>\n",
       "      <td>SHOW</td>\n",
       "      <td>2008</td>\n",
       "      <td>['drama', 'crime', 'thriller']</td>\n",
       "      <td>9.5</td>\n",
       "      <td>1775990.0</td>\n",
       "    </tr>\n",
       "    <tr>\n",
       "      <th>4463</th>\n",
       "      <td>RJ Mitte</td>\n",
       "      <td>Walter White Jr.</td>\n",
       "      <td>ACTOR</td>\n",
       "      <td>Breaking Bad</td>\n",
       "      <td>SHOW</td>\n",
       "      <td>2008</td>\n",
       "      <td>['drama', 'crime', 'thriller']</td>\n",
       "      <td>9.5</td>\n",
       "      <td>1775990.0</td>\n",
       "    </tr>\n",
       "    <tr>\n",
       "      <th>4872</th>\n",
       "      <td>Zach Tyler</td>\n",
       "      <td>Aang (voice)</td>\n",
       "      <td>ACTOR</td>\n",
       "      <td>Avatar: The Last Airbender</td>\n",
       "      <td>SHOW</td>\n",
       "      <td>2005</td>\n",
       "      <td>['scifi', 'animation', 'action', 'family', 'fa...</td>\n",
       "      <td>9.3</td>\n",
       "      <td>303666.0</td>\n",
       "    </tr>\n",
       "    <tr>\n",
       "      <th>4873</th>\n",
       "      <td>Mae Whitman</td>\n",
       "      <td>Katara (voice)</td>\n",
       "      <td>ACTOR</td>\n",
       "      <td>Avatar: The Last Airbender</td>\n",
       "      <td>SHOW</td>\n",
       "      <td>2005</td>\n",
       "      <td>['scifi', 'animation', 'action', 'family', 'fa...</td>\n",
       "      <td>9.3</td>\n",
       "      <td>303666.0</td>\n",
       "    </tr>\n",
       "    <tr>\n",
       "      <th>4874</th>\n",
       "      <td>Jack De Sena</td>\n",
       "      <td>Sokka (voice)</td>\n",
       "      <td>ACTOR</td>\n",
       "      <td>Avatar: The Last Airbender</td>\n",
       "      <td>SHOW</td>\n",
       "      <td>2005</td>\n",
       "      <td>['scifi', 'animation', 'action', 'family', 'fa...</td>\n",
       "      <td>9.3</td>\n",
       "      <td>303666.0</td>\n",
       "    </tr>\n",
       "    <tr>\n",
       "      <th>4875</th>\n",
       "      <td>Dante Basco</td>\n",
       "      <td>Zuko (voice)</td>\n",
       "      <td>ACTOR</td>\n",
       "      <td>Avatar: The Last Airbender</td>\n",
       "      <td>SHOW</td>\n",
       "      <td>2005</td>\n",
       "      <td>['scifi', 'animation', 'action', 'family', 'fa...</td>\n",
       "      <td>9.3</td>\n",
       "      <td>303666.0</td>\n",
       "    </tr>\n",
       "    <tr>\n",
       "      <th>4876</th>\n",
       "      <td>Jessie Flower</td>\n",
       "      <td>Toph Beifong (voice)</td>\n",
       "      <td>ACTOR</td>\n",
       "      <td>Avatar: The Last Airbender</td>\n",
       "      <td>SHOW</td>\n",
       "      <td>2005</td>\n",
       "      <td>['scifi', 'animation', 'action', 'family', 'fa...</td>\n",
       "      <td>9.3</td>\n",
       "      <td>303666.0</td>\n",
       "    </tr>\n",
       "    <tr>\n",
       "      <th>4877</th>\n",
       "      <td>Greg Baldwin</td>\n",
       "      <td>Uncle Iroh (voice)</td>\n",
       "      <td>ACTOR</td>\n",
       "      <td>Avatar: The Last Airbender</td>\n",
       "      <td>SHOW</td>\n",
       "      <td>2005</td>\n",
       "      <td>['scifi', 'animation', 'action', 'family', 'fa...</td>\n",
       "      <td>9.3</td>\n",
       "      <td>303666.0</td>\n",
       "    </tr>\n",
       "    <tr>\n",
       "      <th>4878</th>\n",
       "      <td>Dee Bradley Baker</td>\n",
       "      <td>Appa (voice)</td>\n",
       "      <td>ACTOR</td>\n",
       "      <td>Avatar: The Last Airbender</td>\n",
       "      <td>SHOW</td>\n",
       "      <td>2005</td>\n",
       "      <td>['scifi', 'animation', 'action', 'family', 'fa...</td>\n",
       "      <td>9.3</td>\n",
       "      <td>303666.0</td>\n",
       "    </tr>\n",
       "    <tr>\n",
       "      <th>4879</th>\n",
       "      <td>Grey DeLisle</td>\n",
       "      <td>Azula (voice)</td>\n",
       "      <td>ACTOR</td>\n",
       "      <td>Avatar: The Last Airbender</td>\n",
       "      <td>SHOW</td>\n",
       "      <td>2005</td>\n",
       "      <td>['scifi', 'animation', 'action', 'family', 'fa...</td>\n",
       "      <td>9.3</td>\n",
       "      <td>303666.0</td>\n",
       "    </tr>\n",
       "    <tr>\n",
       "      <th>4880</th>\n",
       "      <td>Cricket Leigh</td>\n",
       "      <td>Mai (voice)</td>\n",
       "      <td>ACTOR</td>\n",
       "      <td>Avatar: The Last Airbender</td>\n",
       "      <td>SHOW</td>\n",
       "      <td>2005</td>\n",
       "      <td>['scifi', 'animation', 'action', 'family', 'fa...</td>\n",
       "      <td>9.3</td>\n",
       "      <td>303666.0</td>\n",
       "    </tr>\n",
       "    <tr>\n",
       "      <th>4881</th>\n",
       "      <td>Olivia Hack</td>\n",
       "      <td>Ty Lee (voice)</td>\n",
       "      <td>ACTOR</td>\n",
       "      <td>Avatar: The Last Airbender</td>\n",
       "      <td>SHOW</td>\n",
       "      <td>2005</td>\n",
       "      <td>['scifi', 'animation', 'action', 'family', 'fa...</td>\n",
       "      <td>9.3</td>\n",
       "      <td>303666.0</td>\n",
       "    </tr>\n",
       "    <tr>\n",
       "      <th>4882</th>\n",
       "      <td>Andr?? Sogliuzzo</td>\n",
       "      <td>Hakoda (voice)</td>\n",
       "      <td>ACTOR</td>\n",
       "      <td>Avatar: The Last Airbender</td>\n",
       "      <td>SHOW</td>\n",
       "      <td>2005</td>\n",
       "      <td>['scifi', 'animation', 'action', 'family', 'fa...</td>\n",
       "      <td>9.3</td>\n",
       "      <td>303666.0</td>\n",
       "    </tr>\n",
       "    <tr>\n",
       "      <th>22523</th>\n",
       "      <td>Lee Hye-ri</td>\n",
       "      <td>Sung Deok-sun</td>\n",
       "      <td>ACTOR</td>\n",
       "      <td>Reply 1988</td>\n",
       "      <td>SHOW</td>\n",
       "      <td>2015</td>\n",
       "      <td>['comedy', 'drama', 'family', 'romance']</td>\n",
       "      <td>9.2</td>\n",
       "      <td>6718.0</td>\n",
       "    </tr>\n",
       "    <tr>\n",
       "      <th>22524</th>\n",
       "      <td>Ryu Jun-yeol</td>\n",
       "      <td>Kim Jung-hwan</td>\n",
       "      <td>ACTOR</td>\n",
       "      <td>Reply 1988</td>\n",
       "      <td>SHOW</td>\n",
       "      <td>2015</td>\n",
       "      <td>['comedy', 'drama', 'family', 'romance']</td>\n",
       "      <td>9.2</td>\n",
       "      <td>6718.0</td>\n",
       "    </tr>\n",
       "    <tr>\n",
       "      <th>22525</th>\n",
       "      <td>Park Bo-gum</td>\n",
       "      <td>Choi Taek</td>\n",
       "      <td>ACTOR</td>\n",
       "      <td>Reply 1988</td>\n",
       "      <td>SHOW</td>\n",
       "      <td>2015</td>\n",
       "      <td>['comedy', 'drama', 'family', 'romance']</td>\n",
       "      <td>9.2</td>\n",
       "      <td>6718.0</td>\n",
       "    </tr>\n",
       "    <tr>\n",
       "      <th>22526</th>\n",
       "      <td>Go Kyung-pyo</td>\n",
       "      <td>Sung Sun-woo</td>\n",
       "      <td>ACTOR</td>\n",
       "      <td>Reply 1988</td>\n",
       "      <td>SHOW</td>\n",
       "      <td>2015</td>\n",
       "      <td>['comedy', 'drama', 'family', 'romance']</td>\n",
       "      <td>9.2</td>\n",
       "      <td>6718.0</td>\n",
       "    </tr>\n",
       "    <tr>\n",
       "      <th>22527</th>\n",
       "      <td>Lee Dong-hwi</td>\n",
       "      <td>Ryu Dong-ryong</td>\n",
       "      <td>ACTOR</td>\n",
       "      <td>Reply 1988</td>\n",
       "      <td>SHOW</td>\n",
       "      <td>2015</td>\n",
       "      <td>['comedy', 'drama', 'family', 'romance']</td>\n",
       "      <td>9.2</td>\n",
       "      <td>6718.0</td>\n",
       "    </tr>\n",
       "    <tr>\n",
       "      <th>22528</th>\n",
       "      <td>Ryu Hye-young</td>\n",
       "      <td>Sung Bo-ra</td>\n",
       "      <td>ACTOR</td>\n",
       "      <td>Reply 1988</td>\n",
       "      <td>SHOW</td>\n",
       "      <td>2015</td>\n",
       "      <td>['comedy', 'drama', 'family', 'romance']</td>\n",
       "      <td>9.2</td>\n",
       "      <td>6718.0</td>\n",
       "    </tr>\n",
       "    <tr>\n",
       "      <th>22529</th>\n",
       "      <td>Choi Sung-won</td>\n",
       "      <td>Sung No-eul</td>\n",
       "      <td>ACTOR</td>\n",
       "      <td>Reply 1988</td>\n",
       "      <td>SHOW</td>\n",
       "      <td>2015</td>\n",
       "      <td>['comedy', 'drama', 'family', 'romance']</td>\n",
       "      <td>9.2</td>\n",
       "      <td>6718.0</td>\n",
       "    </tr>\n",
       "    <tr>\n",
       "      <th>22530</th>\n",
       "      <td>Ahn Jae-hong</td>\n",
       "      <td>Kim Jung-bong</td>\n",
       "      <td>ACTOR</td>\n",
       "      <td>Reply 1988</td>\n",
       "      <td>SHOW</td>\n",
       "      <td>2015</td>\n",
       "      <td>['comedy', 'drama', 'family', 'romance']</td>\n",
       "      <td>9.2</td>\n",
       "      <td>6718.0</td>\n",
       "    </tr>\n",
       "    <tr>\n",
       "      <th>22531</th>\n",
       "      <td>Kim Seol</td>\n",
       "      <td>Sung Jin-ju</td>\n",
       "      <td>ACTOR</td>\n",
       "      <td>Reply 1988</td>\n",
       "      <td>SHOW</td>\n",
       "      <td>2015</td>\n",
       "      <td>['comedy', 'drama', 'family', 'romance']</td>\n",
       "      <td>9.2</td>\n",
       "      <td>6718.0</td>\n",
       "    </tr>\n",
       "    <tr>\n",
       "      <th>22532</th>\n",
       "      <td>Sung Dong-il</td>\n",
       "      <td>Sung Dong-il</td>\n",
       "      <td>ACTOR</td>\n",
       "      <td>Reply 1988</td>\n",
       "      <td>SHOW</td>\n",
       "      <td>2015</td>\n",
       "      <td>['comedy', 'drama', 'family', 'romance']</td>\n",
       "      <td>9.2</td>\n",
       "      <td>6718.0</td>\n",
       "    </tr>\n",
       "    <tr>\n",
       "      <th>22533</th>\n",
       "      <td>Lee Il-hwa</td>\n",
       "      <td>Lee Il-hwa</td>\n",
       "      <td>ACTOR</td>\n",
       "      <td>Reply 1988</td>\n",
       "      <td>SHOW</td>\n",
       "      <td>2015</td>\n",
       "      <td>['comedy', 'drama', 'family', 'romance']</td>\n",
       "      <td>9.2</td>\n",
       "      <td>6718.0</td>\n",
       "    </tr>\n",
       "    <tr>\n",
       "      <th>22534</th>\n",
       "      <td>Kim Sung-kyun</td>\n",
       "      <td>Kim Sung-kyun</td>\n",
       "      <td>ACTOR</td>\n",
       "      <td>Reply 1988</td>\n",
       "      <td>SHOW</td>\n",
       "      <td>2015</td>\n",
       "      <td>['comedy', 'drama', 'family', 'romance']</td>\n",
       "      <td>9.2</td>\n",
       "      <td>6718.0</td>\n",
       "    </tr>\n",
       "    <tr>\n",
       "      <th>22535</th>\n",
       "      <td>Ra Mi-ran</td>\n",
       "      <td>Ra Mi-ran</td>\n",
       "      <td>ACTOR</td>\n",
       "      <td>Reply 1988</td>\n",
       "      <td>SHOW</td>\n",
       "      <td>2015</td>\n",
       "      <td>['comedy', 'drama', 'family', 'romance']</td>\n",
       "      <td>9.2</td>\n",
       "      <td>6718.0</td>\n",
       "    </tr>\n",
       "    <tr>\n",
       "      <th>22536</th>\n",
       "      <td>Choi Moo-sung</td>\n",
       "      <td>Choi Moo-seong</td>\n",
       "      <td>ACTOR</td>\n",
       "      <td>Reply 1988</td>\n",
       "      <td>SHOW</td>\n",
       "      <td>2015</td>\n",
       "      <td>['comedy', 'drama', 'family', 'romance']</td>\n",
       "      <td>9.2</td>\n",
       "      <td>6718.0</td>\n",
       "    </tr>\n",
       "    <tr>\n",
       "      <th>22537</th>\n",
       "      <td>Kim Sun-young</td>\n",
       "      <td>Kim Sun-young</td>\n",
       "      <td>ACTOR</td>\n",
       "      <td>Reply 1988</td>\n",
       "      <td>SHOW</td>\n",
       "      <td>2015</td>\n",
       "      <td>['comedy', 'drama', 'family', 'romance']</td>\n",
       "      <td>9.2</td>\n",
       "      <td>6718.0</td>\n",
       "    </tr>\n",
       "    <tr>\n",
       "      <th>22538</th>\n",
       "      <td>You Chea-myung</td>\n",
       "      <td>Ryu Jae-myung</td>\n",
       "      <td>ACTOR</td>\n",
       "      <td>Reply 1988</td>\n",
       "      <td>SHOW</td>\n",
       "      <td>2015</td>\n",
       "      <td>['comedy', 'drama', 'family', 'romance']</td>\n",
       "      <td>9.2</td>\n",
       "      <td>6718.0</td>\n",
       "    </tr>\n",
       "    <tr>\n",
       "      <th>22539</th>\n",
       "      <td>Lee Min-ji</td>\n",
       "      <td>Jang Mi-ok</td>\n",
       "      <td>ACTOR</td>\n",
       "      <td>Reply 1988</td>\n",
       "      <td>SHOW</td>\n",
       "      <td>2015</td>\n",
       "      <td>['comedy', 'drama', 'family', 'romance']</td>\n",
       "      <td>9.2</td>\n",
       "      <td>6718.0</td>\n",
       "    </tr>\n",
       "    <tr>\n",
       "      <th>22540</th>\n",
       "      <td>Lee Se-young</td>\n",
       "      <td>Wang Ja-hyun</td>\n",
       "      <td>ACTOR</td>\n",
       "      <td>Reply 1988</td>\n",
       "      <td>SHOW</td>\n",
       "      <td>2015</td>\n",
       "      <td>['comedy', 'drama', 'family', 'romance']</td>\n",
       "      <td>9.2</td>\n",
       "      <td>6718.0</td>\n",
       "    </tr>\n",
       "    <tr>\n",
       "      <th>22541</th>\n",
       "      <td>Shin Won-ho</td>\n",
       "      <td>unknown</td>\n",
       "      <td>DIRECTOR</td>\n",
       "      <td>Reply 1988</td>\n",
       "      <td>SHOW</td>\n",
       "      <td>2015</td>\n",
       "      <td>['comedy', 'drama', 'family', 'romance']</td>\n",
       "      <td>9.2</td>\n",
       "      <td>6718.0</td>\n",
       "    </tr>\n",
       "    <tr>\n",
       "      <th>30885</th>\n",
       "      <td>Yui Okada</td>\n",
       "      <td>„???Ÿ?‡?ª ?ý?????</td>\n",
       "      <td>ACTOR</td>\n",
       "      <td>My Mister</td>\n",
       "      <td>SHOW</td>\n",
       "      <td>2018</td>\n",
       "      <td>['drama', 'family']</td>\n",
       "      <td>9.1</td>\n",
       "      <td>6043.0</td>\n",
       "    </tr>\n",
       "    <tr>\n",
       "      <th>44207</th>\n",
       "      <td>Michael Jordan</td>\n",
       "      <td>Self</td>\n",
       "      <td>ACTOR</td>\n",
       "      <td>The Last Dance</td>\n",
       "      <td>SHOW</td>\n",
       "      <td>2020</td>\n",
       "      <td>['documentation', 'history', 'sport']</td>\n",
       "      <td>9.1</td>\n",
       "      <td>115915.0</td>\n",
       "    </tr>\n",
       "    <tr>\n",
       "      <th>44208</th>\n",
       "      <td>Scottie Pippen</td>\n",
       "      <td>Self - Bulls Forward 1987 - 1998</td>\n",
       "      <td>ACTOR</td>\n",
       "      <td>The Last Dance</td>\n",
       "      <td>SHOW</td>\n",
       "      <td>2020</td>\n",
       "      <td>['documentation', 'history', 'sport']</td>\n",
       "      <td>9.1</td>\n",
       "      <td>115915.0</td>\n",
       "    </tr>\n",
       "    <tr>\n",
       "      <th>44209</th>\n",
       "      <td>Dennis Rodman</td>\n",
       "      <td>Self</td>\n",
       "      <td>ACTOR</td>\n",
       "      <td>The Last Dance</td>\n",
       "      <td>SHOW</td>\n",
       "      <td>2020</td>\n",
       "      <td>['documentation', 'history', 'sport']</td>\n",
       "      <td>9.1</td>\n",
       "      <td>115915.0</td>\n",
       "    </tr>\n",
       "    <tr>\n",
       "      <th>44210</th>\n",
       "      <td>Steve Kerr</td>\n",
       "      <td>Self - Bulls Guard 1992 - 1998</td>\n",
       "      <td>ACTOR</td>\n",
       "      <td>The Last Dance</td>\n",
       "      <td>SHOW</td>\n",
       "      <td>2020</td>\n",
       "      <td>['documentation', 'history', 'sport']</td>\n",
       "      <td>9.1</td>\n",
       "      <td>115915.0</td>\n",
       "    </tr>\n",
       "    <tr>\n",
       "      <th>44211</th>\n",
       "      <td>Phil Jackson</td>\n",
       "      <td>Self</td>\n",
       "      <td>ACTOR</td>\n",
       "      <td>The Last Dance</td>\n",
       "      <td>SHOW</td>\n",
       "      <td>2020</td>\n",
       "      <td>['documentation', 'history', 'sport']</td>\n",
       "      <td>9.1</td>\n",
       "      <td>115915.0</td>\n",
       "    </tr>\n",
       "    <tr>\n",
       "      <th>44212</th>\n",
       "      <td>Jason Hehir</td>\n",
       "      <td>unknown</td>\n",
       "      <td>DIRECTOR</td>\n",
       "      <td>The Last Dance</td>\n",
       "      <td>SHOW</td>\n",
       "      <td>2020</td>\n",
       "      <td>['documentation', 'history', 'sport']</td>\n",
       "      <td>9.1</td>\n",
       "      <td>115915.0</td>\n",
       "    </tr>\n",
       "    <tr>\n",
       "      <th>46185</th>\n",
       "      <td>David Attenborough</td>\n",
       "      <td>Self - Narrator</td>\n",
       "      <td>ACTOR</td>\n",
       "      <td>Our Planet</td>\n",
       "      <td>SHOW</td>\n",
       "      <td>2019</td>\n",
       "      <td>['documentation']</td>\n",
       "      <td>9.3</td>\n",
       "      <td>42259.0</td>\n",
       "    </tr>\n",
       "    <tr>\n",
       "      <th>51965</th>\n",
       "      <td>Mayur More</td>\n",
       "      <td>Vaibhav Pandey</td>\n",
       "      <td>ACTOR</td>\n",
       "      <td>Kota Factory</td>\n",
       "      <td>SHOW</td>\n",
       "      <td>2019</td>\n",
       "      <td>['drama', 'comedy']</td>\n",
       "      <td>9.1</td>\n",
       "      <td>69316.0</td>\n",
       "    </tr>\n",
       "    <tr>\n",
       "      <th>65401</th>\n",
       "      <td>Adivi Sesh</td>\n",
       "      <td>Sandeep Unnikrishnan</td>\n",
       "      <td>ACTOR</td>\n",
       "      <td>Major</td>\n",
       "      <td>MOVIE</td>\n",
       "      <td>2022</td>\n",
       "      <td>['action', 'drama']</td>\n",
       "      <td>9.1</td>\n",
       "      <td>7576.0</td>\n",
       "    </tr>\n",
       "    <tr>\n",
       "      <th>65402</th>\n",
       "      <td>Sobhita Dhulipala</td>\n",
       "      <td>Pramoda Reddy</td>\n",
       "      <td>ACTOR</td>\n",
       "      <td>Major</td>\n",
       "      <td>MOVIE</td>\n",
       "      <td>2022</td>\n",
       "      <td>['action', 'drama']</td>\n",
       "      <td>9.1</td>\n",
       "      <td>7576.0</td>\n",
       "    </tr>\n",
       "    <tr>\n",
       "      <th>65403</th>\n",
       "      <td>Saiee Manjrekar</td>\n",
       "      <td>Isha Agarwal</td>\n",
       "      <td>ACTOR</td>\n",
       "      <td>Major</td>\n",
       "      <td>MOVIE</td>\n",
       "      <td>2022</td>\n",
       "      <td>['action', 'drama']</td>\n",
       "      <td>9.1</td>\n",
       "      <td>7576.0</td>\n",
       "    </tr>\n",
       "    <tr>\n",
       "      <th>65404</th>\n",
       "      <td>Prakash Raj</td>\n",
       "      <td>Sandeep's Father /Unnikrishnan</td>\n",
       "      <td>ACTOR</td>\n",
       "      <td>Major</td>\n",
       "      <td>MOVIE</td>\n",
       "      <td>2022</td>\n",
       "      <td>['action', 'drama']</td>\n",
       "      <td>9.1</td>\n",
       "      <td>7576.0</td>\n",
       "    </tr>\n",
       "    <tr>\n",
       "      <th>65405</th>\n",
       "      <td>Murali Sharma</td>\n",
       "      <td>Colonel Shera</td>\n",
       "      <td>ACTOR</td>\n",
       "      <td>Major</td>\n",
       "      <td>MOVIE</td>\n",
       "      <td>2022</td>\n",
       "      <td>['action', 'drama']</td>\n",
       "      <td>9.1</td>\n",
       "      <td>7576.0</td>\n",
       "    </tr>\n",
       "    <tr>\n",
       "      <th>65406</th>\n",
       "      <td>Revathi</td>\n",
       "      <td>Sandeep's Mother /Dhanalakshmi</td>\n",
       "      <td>ACTOR</td>\n",
       "      <td>Major</td>\n",
       "      <td>MOVIE</td>\n",
       "      <td>2022</td>\n",
       "      <td>['action', 'drama']</td>\n",
       "      <td>9.1</td>\n",
       "      <td>7576.0</td>\n",
       "    </tr>\n",
       "    <tr>\n",
       "      <th>65407</th>\n",
       "      <td>Vinay Nallakadi</td>\n",
       "      <td>Jail Inmate</td>\n",
       "      <td>ACTOR</td>\n",
       "      <td>Major</td>\n",
       "      <td>MOVIE</td>\n",
       "      <td>2022</td>\n",
       "      <td>['action', 'drama']</td>\n",
       "      <td>9.1</td>\n",
       "      <td>7576.0</td>\n",
       "    </tr>\n",
       "    <tr>\n",
       "      <th>65408</th>\n",
       "      <td>Anish Kuruvilla</td>\n",
       "      <td>Rodriguez</td>\n",
       "      <td>ACTOR</td>\n",
       "      <td>Major</td>\n",
       "      <td>MOVIE</td>\n",
       "      <td>2022</td>\n",
       "      <td>['action', 'drama']</td>\n",
       "      <td>9.1</td>\n",
       "      <td>7576.0</td>\n",
       "    </tr>\n",
       "    <tr>\n",
       "      <th>65409</th>\n",
       "      <td>Sashi Kiran Tikka</td>\n",
       "      <td>unknown</td>\n",
       "      <td>DIRECTOR</td>\n",
       "      <td>Major</td>\n",
       "      <td>MOVIE</td>\n",
       "      <td>2022</td>\n",
       "      <td>['action', 'drama']</td>\n",
       "      <td>9.1</td>\n",
       "      <td>7576.0</td>\n",
       "    </tr>\n",
       "  </tbody>\n",
       "</table>\n",
       "</div>"
      ],
      "text/plain": [
       "                     name                         character      role  \\\n",
       "4456       Bryan Cranston                      Walter White     ACTOR   \n",
       "4457           Aaron Paul                     Jesse Pinkman     ACTOR   \n",
       "4458            Anna Gunn                      Skyler White     ACTOR   \n",
       "4459          Dean Norris                     Hank Schrader     ACTOR   \n",
       "4460       Jonathan Banks                  Mike Ehrmantraut     ACTOR   \n",
       "4461         Bob Odenkirk                      Saul Goodman     ACTOR   \n",
       "4462         Betsy Brandt                    Marie Schrader     ACTOR   \n",
       "4463             RJ Mitte                  Walter White Jr.     ACTOR   \n",
       "4872           Zach Tyler                      Aang (voice)     ACTOR   \n",
       "4873          Mae Whitman                    Katara (voice)     ACTOR   \n",
       "4874         Jack De Sena                     Sokka (voice)     ACTOR   \n",
       "4875          Dante Basco                      Zuko (voice)     ACTOR   \n",
       "4876        Jessie Flower              Toph Beifong (voice)     ACTOR   \n",
       "4877         Greg Baldwin                Uncle Iroh (voice)     ACTOR   \n",
       "4878    Dee Bradley Baker                      Appa (voice)     ACTOR   \n",
       "4879         Grey DeLisle                     Azula (voice)     ACTOR   \n",
       "4880        Cricket Leigh                       Mai (voice)     ACTOR   \n",
       "4881          Olivia Hack                    Ty Lee (voice)     ACTOR   \n",
       "4882     Andr?? Sogliuzzo                    Hakoda (voice)     ACTOR   \n",
       "22523          Lee Hye-ri                     Sung Deok-sun     ACTOR   \n",
       "22524        Ryu Jun-yeol                     Kim Jung-hwan     ACTOR   \n",
       "22525         Park Bo-gum                         Choi Taek     ACTOR   \n",
       "22526        Go Kyung-pyo                      Sung Sun-woo     ACTOR   \n",
       "22527        Lee Dong-hwi                    Ryu Dong-ryong     ACTOR   \n",
       "22528       Ryu Hye-young                        Sung Bo-ra     ACTOR   \n",
       "22529       Choi Sung-won                       Sung No-eul     ACTOR   \n",
       "22530        Ahn Jae-hong                     Kim Jung-bong     ACTOR   \n",
       "22531            Kim Seol                       Sung Jin-ju     ACTOR   \n",
       "22532        Sung Dong-il                      Sung Dong-il     ACTOR   \n",
       "22533          Lee Il-hwa                        Lee Il-hwa     ACTOR   \n",
       "22534       Kim Sung-kyun                     Kim Sung-kyun     ACTOR   \n",
       "22535           Ra Mi-ran                         Ra Mi-ran     ACTOR   \n",
       "22536       Choi Moo-sung                    Choi Moo-seong     ACTOR   \n",
       "22537       Kim Sun-young                     Kim Sun-young     ACTOR   \n",
       "22538      You Chea-myung                     Ryu Jae-myung     ACTOR   \n",
       "22539          Lee Min-ji                        Jang Mi-ok     ACTOR   \n",
       "22540        Lee Se-young                      Wang Ja-hyun     ACTOR   \n",
       "22541         Shin Won-ho                           unknown  DIRECTOR   \n",
       "30885           Yui Okada               „???Ÿ?‡?ª ?ý?????     ACTOR   \n",
       "44207      Michael Jordan                              Self     ACTOR   \n",
       "44208      Scottie Pippen  Self - Bulls Forward 1987 - 1998     ACTOR   \n",
       "44209       Dennis Rodman                              Self     ACTOR   \n",
       "44210          Steve Kerr    Self - Bulls Guard 1992 - 1998     ACTOR   \n",
       "44211        Phil Jackson                              Self     ACTOR   \n",
       "44212         Jason Hehir                           unknown  DIRECTOR   \n",
       "46185  David Attenborough                   Self - Narrator     ACTOR   \n",
       "51965          Mayur More                    Vaibhav Pandey     ACTOR   \n",
       "65401          Adivi Sesh              Sandeep Unnikrishnan     ACTOR   \n",
       "65402   Sobhita Dhulipala                     Pramoda Reddy     ACTOR   \n",
       "65403     Saiee Manjrekar                      Isha Agarwal     ACTOR   \n",
       "65404         Prakash Raj    Sandeep's Father /Unnikrishnan     ACTOR   \n",
       "65405       Murali Sharma                     Colonel Shera     ACTOR   \n",
       "65406             Revathi    Sandeep's Mother /Dhanalakshmi     ACTOR   \n",
       "65407     Vinay Nallakadi                       Jail Inmate     ACTOR   \n",
       "65408     Anish Kuruvilla                         Rodriguez     ACTOR   \n",
       "65409   Sashi Kiran Tikka                           unknown  DIRECTOR   \n",
       "\n",
       "                            title   type  release_year  \\\n",
       "4456                 Breaking Bad   SHOW          2008   \n",
       "4457                 Breaking Bad   SHOW          2008   \n",
       "4458                 Breaking Bad   SHOW          2008   \n",
       "4459                 Breaking Bad   SHOW          2008   \n",
       "4460                 Breaking Bad   SHOW          2008   \n",
       "4461                 Breaking Bad   SHOW          2008   \n",
       "4462                 Breaking Bad   SHOW          2008   \n",
       "4463                 Breaking Bad   SHOW          2008   \n",
       "4872   Avatar: The Last Airbender   SHOW          2005   \n",
       "4873   Avatar: The Last Airbender   SHOW          2005   \n",
       "4874   Avatar: The Last Airbender   SHOW          2005   \n",
       "4875   Avatar: The Last Airbender   SHOW          2005   \n",
       "4876   Avatar: The Last Airbender   SHOW          2005   \n",
       "4877   Avatar: The Last Airbender   SHOW          2005   \n",
       "4878   Avatar: The Last Airbender   SHOW          2005   \n",
       "4879   Avatar: The Last Airbender   SHOW          2005   \n",
       "4880   Avatar: The Last Airbender   SHOW          2005   \n",
       "4881   Avatar: The Last Airbender   SHOW          2005   \n",
       "4882   Avatar: The Last Airbender   SHOW          2005   \n",
       "22523                  Reply 1988   SHOW          2015   \n",
       "22524                  Reply 1988   SHOW          2015   \n",
       "22525                  Reply 1988   SHOW          2015   \n",
       "22526                  Reply 1988   SHOW          2015   \n",
       "22527                  Reply 1988   SHOW          2015   \n",
       "22528                  Reply 1988   SHOW          2015   \n",
       "22529                  Reply 1988   SHOW          2015   \n",
       "22530                  Reply 1988   SHOW          2015   \n",
       "22531                  Reply 1988   SHOW          2015   \n",
       "22532                  Reply 1988   SHOW          2015   \n",
       "22533                  Reply 1988   SHOW          2015   \n",
       "22534                  Reply 1988   SHOW          2015   \n",
       "22535                  Reply 1988   SHOW          2015   \n",
       "22536                  Reply 1988   SHOW          2015   \n",
       "22537                  Reply 1988   SHOW          2015   \n",
       "22538                  Reply 1988   SHOW          2015   \n",
       "22539                  Reply 1988   SHOW          2015   \n",
       "22540                  Reply 1988   SHOW          2015   \n",
       "22541                  Reply 1988   SHOW          2015   \n",
       "30885                   My Mister   SHOW          2018   \n",
       "44207              The Last Dance   SHOW          2020   \n",
       "44208              The Last Dance   SHOW          2020   \n",
       "44209              The Last Dance   SHOW          2020   \n",
       "44210              The Last Dance   SHOW          2020   \n",
       "44211              The Last Dance   SHOW          2020   \n",
       "44212              The Last Dance   SHOW          2020   \n",
       "46185                  Our Planet   SHOW          2019   \n",
       "51965                Kota Factory   SHOW          2019   \n",
       "65401                       Major  MOVIE          2022   \n",
       "65402                       Major  MOVIE          2022   \n",
       "65403                       Major  MOVIE          2022   \n",
       "65404                       Major  MOVIE          2022   \n",
       "65405                       Major  MOVIE          2022   \n",
       "65406                       Major  MOVIE          2022   \n",
       "65407                       Major  MOVIE          2022   \n",
       "65408                       Major  MOVIE          2022   \n",
       "65409                       Major  MOVIE          2022   \n",
       "\n",
       "                                                  genres  imdb_score  \\\n",
       "4456                      ['drama', 'crime', 'thriller']         9.5   \n",
       "4457                      ['drama', 'crime', 'thriller']         9.5   \n",
       "4458                      ['drama', 'crime', 'thriller']         9.5   \n",
       "4459                      ['drama', 'crime', 'thriller']         9.5   \n",
       "4460                      ['drama', 'crime', 'thriller']         9.5   \n",
       "4461                      ['drama', 'crime', 'thriller']         9.5   \n",
       "4462                      ['drama', 'crime', 'thriller']         9.5   \n",
       "4463                      ['drama', 'crime', 'thriller']         9.5   \n",
       "4872   ['scifi', 'animation', 'action', 'family', 'fa...         9.3   \n",
       "4873   ['scifi', 'animation', 'action', 'family', 'fa...         9.3   \n",
       "4874   ['scifi', 'animation', 'action', 'family', 'fa...         9.3   \n",
       "4875   ['scifi', 'animation', 'action', 'family', 'fa...         9.3   \n",
       "4876   ['scifi', 'animation', 'action', 'family', 'fa...         9.3   \n",
       "4877   ['scifi', 'animation', 'action', 'family', 'fa...         9.3   \n",
       "4878   ['scifi', 'animation', 'action', 'family', 'fa...         9.3   \n",
       "4879   ['scifi', 'animation', 'action', 'family', 'fa...         9.3   \n",
       "4880   ['scifi', 'animation', 'action', 'family', 'fa...         9.3   \n",
       "4881   ['scifi', 'animation', 'action', 'family', 'fa...         9.3   \n",
       "4882   ['scifi', 'animation', 'action', 'family', 'fa...         9.3   \n",
       "22523           ['comedy', 'drama', 'family', 'romance']         9.2   \n",
       "22524           ['comedy', 'drama', 'family', 'romance']         9.2   \n",
       "22525           ['comedy', 'drama', 'family', 'romance']         9.2   \n",
       "22526           ['comedy', 'drama', 'family', 'romance']         9.2   \n",
       "22527           ['comedy', 'drama', 'family', 'romance']         9.2   \n",
       "22528           ['comedy', 'drama', 'family', 'romance']         9.2   \n",
       "22529           ['comedy', 'drama', 'family', 'romance']         9.2   \n",
       "22530           ['comedy', 'drama', 'family', 'romance']         9.2   \n",
       "22531           ['comedy', 'drama', 'family', 'romance']         9.2   \n",
       "22532           ['comedy', 'drama', 'family', 'romance']         9.2   \n",
       "22533           ['comedy', 'drama', 'family', 'romance']         9.2   \n",
       "22534           ['comedy', 'drama', 'family', 'romance']         9.2   \n",
       "22535           ['comedy', 'drama', 'family', 'romance']         9.2   \n",
       "22536           ['comedy', 'drama', 'family', 'romance']         9.2   \n",
       "22537           ['comedy', 'drama', 'family', 'romance']         9.2   \n",
       "22538           ['comedy', 'drama', 'family', 'romance']         9.2   \n",
       "22539           ['comedy', 'drama', 'family', 'romance']         9.2   \n",
       "22540           ['comedy', 'drama', 'family', 'romance']         9.2   \n",
       "22541           ['comedy', 'drama', 'family', 'romance']         9.2   \n",
       "30885                                ['drama', 'family']         9.1   \n",
       "44207              ['documentation', 'history', 'sport']         9.1   \n",
       "44208              ['documentation', 'history', 'sport']         9.1   \n",
       "44209              ['documentation', 'history', 'sport']         9.1   \n",
       "44210              ['documentation', 'history', 'sport']         9.1   \n",
       "44211              ['documentation', 'history', 'sport']         9.1   \n",
       "44212              ['documentation', 'history', 'sport']         9.1   \n",
       "46185                                  ['documentation']         9.3   \n",
       "51965                                ['drama', 'comedy']         9.1   \n",
       "65401                                ['action', 'drama']         9.1   \n",
       "65402                                ['action', 'drama']         9.1   \n",
       "65403                                ['action', 'drama']         9.1   \n",
       "65404                                ['action', 'drama']         9.1   \n",
       "65405                                ['action', 'drama']         9.1   \n",
       "65406                                ['action', 'drama']         9.1   \n",
       "65407                                ['action', 'drama']         9.1   \n",
       "65408                                ['action', 'drama']         9.1   \n",
       "65409                                ['action', 'drama']         9.1   \n",
       "\n",
       "       imdb_votes  \n",
       "4456    1775990.0  \n",
       "4457    1775990.0  \n",
       "4458    1775990.0  \n",
       "4459    1775990.0  \n",
       "4460    1775990.0  \n",
       "4461    1775990.0  \n",
       "4462    1775990.0  \n",
       "4463    1775990.0  \n",
       "4872     303666.0  \n",
       "4873     303666.0  \n",
       "4874     303666.0  \n",
       "4875     303666.0  \n",
       "4876     303666.0  \n",
       "4877     303666.0  \n",
       "4878     303666.0  \n",
       "4879     303666.0  \n",
       "4880     303666.0  \n",
       "4881     303666.0  \n",
       "4882     303666.0  \n",
       "22523      6718.0  \n",
       "22524      6718.0  \n",
       "22525      6718.0  \n",
       "22526      6718.0  \n",
       "22527      6718.0  \n",
       "22528      6718.0  \n",
       "22529      6718.0  \n",
       "22530      6718.0  \n",
       "22531      6718.0  \n",
       "22532      6718.0  \n",
       "22533      6718.0  \n",
       "22534      6718.0  \n",
       "22535      6718.0  \n",
       "22536      6718.0  \n",
       "22537      6718.0  \n",
       "22538      6718.0  \n",
       "22539      6718.0  \n",
       "22540      6718.0  \n",
       "22541      6718.0  \n",
       "30885      6043.0  \n",
       "44207    115915.0  \n",
       "44208    115915.0  \n",
       "44209    115915.0  \n",
       "44210    115915.0  \n",
       "44211    115915.0  \n",
       "44212    115915.0  \n",
       "46185     42259.0  \n",
       "51965     69316.0  \n",
       "65401      7576.0  \n",
       "65402      7576.0  \n",
       "65403      7576.0  \n",
       "65404      7576.0  \n",
       "65405      7576.0  \n",
       "65406      7576.0  \n",
       "65407      7576.0  \n",
       "65408      7576.0  \n",
       "65409      7576.0  "
      ]
     },
     "metadata": {},
     "output_type": "display_data"
    },
    {
     "data": {
      "text/plain": [
       "{'Avatar: The Last Airbender',\n",
       " 'Breaking Bad',\n",
       " 'Kota Factory',\n",
       " 'Major',\n",
       " 'My Mister',\n",
       " 'Our Planet',\n",
       " 'Reply 1988',\n",
       " 'The Last Dance'}"
      ]
     },
     "metadata": {},
     "output_type": "display_data"
    }
   ],
   "source": [
    "# Filter for movies with an IMDb score above 9.0\n",
    "df['imdb_score'] > 9.0\n",
    "high_imdb = df[df['imdb_score']> 9.0]\n",
    "display(high_imdb)\n",
    "# Extract the 'title' column from the filtered DataFrame\n",
    "high_imdb_titles = high_imdb['title']\n",
    "\n",
    "# Get a unique set of titles\n",
    "unique_titles = set(high_imdb_titles)\n",
    "\n",
    "# Print the unique titles\n",
    "display(unique_titles)\n",
    "\n"
   ]
  },
  {
   "cell_type": "markdown",
   "metadata": {
    "id": "PrlORh6mwoZs"
   },
   "source": [
    "## Task 5: Creating a Function to Find Unique Top-Rated Movies\n",
    "\n",
    "Create a function to find unique movies with an IMDb score above a certain threshold that the user provides.\n",
    "\n",
    "\n",
    "1. **Define the Function**:\n",
    "   - Start by creating a function called `get_unique_top_movies` that takes one parameter, `min_score`.\n",
    "\n",
    "2. **Filter the Data**:\n",
    "   - Inside the function, create a new variable (e.g., `high_score_df`) that stores rows where the `imdb_score` is greater than or equal to `min_score`.\n",
    "\n",
    "3. **Extract Movie Titles**:\n",
    "   - In a new variable (e.g., `high_score_titles`), select the `title` column from the filtered DataFrame.\n",
    "\n",
    "4. **Remove Duplicate Titles**:\n",
    "   - Convert `high_score_titles` to a set using `set(high_score_titles)` to automatically remove duplicates, ensuring each title appears only once.\n",
    "\n",
    "5. **Return the Unique Titles**:\n",
    "   - Make sure the function returns the `unique_titles` set.\n"
   ]
  },
  {
   "cell_type": "code",
   "execution_count": 13,
   "metadata": {
    "id": "pamLDfY9vErT",
    "trusted": true
   },
   "outputs": [],
   "source": [
    "# Define the function\n",
    "def get_unique_top_movies(min_score):\n",
    "    # Filter for movies with IMDb score above min_score\n",
    "    high_score_df = df[df['imdb_score'] > min_score]\n",
    "\n",
    "    # Extract the 'title' column\n",
    "    high_score_titles = high_score_df['title']\n",
    "\n",
    "    # Remove duplicate titles\n",
    "    unique_titles = set(high_score_titles)\n",
    "    \n",
    "    #Return unique titles\n",
    "    return unique_titles\n",
    "\n",
    "    \n",
    "    \n",
    "    "
   ]
  },
  {
   "cell_type": "code",
   "execution_count": 14,
   "metadata": {
    "id": "kUUJMTWgww1E",
    "trusted": true
   },
   "outputs": [
    {
     "name": "stdout",
     "output_type": "stream",
     "text": [
      "{'Our Planet', 'Major', 'Reply 1988', 'Breaking Bad', 'Kota Factory', 'The Last Dance', 'My Mister', 'Avatar: The Last Airbender'}\n"
     ]
    }
   ],
   "source": [
    "# Test the function\n",
    "print(get_unique_top_movies(9.0))\n",
    "\n",
    "\n"
   ]
  },
  {
   "cell_type": "markdown",
   "metadata": {
    "id": "YvWTywMQxynt"
   },
   "source": [
    "## Task 6: Creating a Function to Find Top Movies from a Specific Decade\n",
    "\n",
    "Create a function to retrieve movies from a particular decade with high IMDb ratings. This function can be useful for generating lists of top-rated movies from different time periods.\n",
    "\n",
    "\n",
    "1. **Define the Function**:\n",
    "   - Create a function called `get_top_movies_from_decade` that accepts `decade_start` and `min_score` as parameters.\n",
    "\n",
    "2. **Filter by Decade**:\n",
    "   - Inside the function, filter the DataFrame to include only movies where `release_year` is within the specified decade.\n",
    "   - You can achieve this by checking that `release_year` is between `decade_start` and `decade_start + 9`\n",
    "\n",
    "3. **Filter by IMDb Score**:\n",
    "   - Further filter this subset to include only movies where `imdb_score` is greater than or equal to `min_score`.\n",
    "\n",
    "4. **Extract Movie Titles**:\n",
    "   - From the resulting DataFrame, select the `title` column and remove duplicates using set().\n",
    "\n",
    "5. **Return the List of Titles**:\n",
    "   - Return the set of the best movies from that decade.\n",
    "\n"
   ]
  },
  {
   "cell_type": "code",
   "execution_count": 15,
   "metadata": {
    "id": "H6pJpElgxxtT",
    "trusted": true
   },
   "outputs": [],
   "source": [
    "# Define the function\n",
    "def get_top_movies_from_decade(decade_start, min_score):\n",
    "    # Filter for movies released within the decade\n",
    "    filtered_df = df[(df['release_year'] >= decade_start) & (df['release_year'] <= decade_start + 9) &\n",
    "   \n",
    "    # Further filter by IMDb score \n",
    "    (df['imdb_score'] >= min_score)]\n",
    "\n",
    "    # Extract and remove duplicate titles\n",
    "    unique_titles = set(filtered_df['title'])\n",
    "\n",
    "    # Return unique titles\n",
    "    return unique_titles\n",
    "   "
   ]
  },
  {
   "cell_type": "code",
   "execution_count": 16,
   "metadata": {
    "id": "r_q7imodyIbz",
    "trusted": true
   },
   "outputs": [
    {
     "name": "stdout",
     "output_type": "stream",
     "text": [
      "{'Se7en', 'GoodFellas', 'Cowboy Bebop', 'Neon Genesis Evangelion', 'Forrest Gump', 'Bill Hicks: Revelations', 'L??on: The Professional', 'One Piece'}\n"
     ]
    }
   ],
   "source": [
    "# Test the function\n",
    "print(get_top_movies_from_decade(1990, 8.5))"
   ]
  },
  {
   "cell_type": "markdown",
   "metadata": {
    "id": "5olBh5JRzYgN"
   },
   "source": [
    "\n",
    "## Task 7: Creating a Function to List All Actors in a Given Title\n",
    "\n",
    "Create a function that takes a `title` as input and returns the names of all actors in that title, combined into a single string.\n",
    "\n",
    "\n",
    "\n",
    "1. **Define the Function**:\n",
    "   - Create a function called `get_actors_for_title` that accepts one parameter, `title`.\n",
    "   \n",
    "2. **Filter by Title and Role**:\n",
    "   - Inside the function, filter the DataFrame to select rows where the `title` column matches the provided `title` parameter and the `role` column is `\"ACTOR\"` (to ensure you only retrieve actors).\n",
    "\n",
    "3. **Extract Actor Names**:\n",
    "   - From this filtered DataFrame, select only the `name` column to get the actor names.\n",
    "\n",
    "4. **Combine Names into a Single String**:\n",
    "   - Use `', '.join()` to combine the list of actor names into a single string, with each name separated by a comma.\n",
    "\n",
    "5. **Return the Result**:\n",
    "   - Return the resulting string of actor names.\n",
    "\n",
    "\n",
    "This function will allow you to retrieve and format a list of actors for any movie or show title, which is useful for creating cast lists or displaying actors for specific titles."
   ]
  },
  {
   "cell_type": "code",
   "execution_count": 17,
   "metadata": {
    "trusted": true
   },
   "outputs": [],
   "source": [
    "#Define the function\n",
    "def get_actors_for_title(title):\n",
    "    #Filter for rows with the specified title and role as 'Actor'\n",
    "    actors_df = df[(df[\"title\"] == title) & (df[\"role\"] == \"ACTOR\")]\n",
    "    print(actors_df)\n",
    "    \n",
    "    #Extract the 'name' column for actor names\n",
    "    actors = actors_df[\"name\"]\n",
    "    \n",
    "    #Combine names into a single string\n",
    "    actor_join = \", \".join(actors)\n",
    "    \n",
    "    #Return the result\n",
    "    return actor_join"
   ]
  },
  {
   "cell_type": "code",
   "execution_count": 18,
   "metadata": {
    "id": "BCnnBFUdzj20",
    "scrolled": true,
    "trusted": true
   },
   "outputs": [
    {
     "name": "stdout",
     "output_type": "stream",
     "text": [
      "                     name                                      character  \\\n",
      "0          Robert De Niro                                  Travis Bickle   \n",
      "1            Jodie Foster                                  Iris Steensma   \n",
      "2           Albert Brooks                                            Tom   \n",
      "3           Harvey Keitel                        Matthew 'Sport' Higgins   \n",
      "4         Cybill Shepherd                                          Betsy   \n",
      "5             Peter Boyle                                         Wizard   \n",
      "6          Leonard Harris                      Senator Charles Palantine   \n",
      "7          Diahnne Abbott                                Concession Girl   \n",
      "8             Gino Ardito                             Policeman at Rally   \n",
      "9         Martin Scorsese                  Passenger Watching Silhouette   \n",
      "10          Murray Moston                              Iris' Time Keeper   \n",
      "11          Richard Higgs                           Secret Service Agent   \n",
      "12            Bill Minkin                   Tom's Assistant (uncredited)   \n",
      "13             Bob Maroff                           Mafioso (uncredited)   \n",
      "14            Victor Argo                      Melio, Delicatessen Owner   \n",
      "15            Joe Spinell                              Personell Officer   \n",
      "16     Robinson Frank Adu                   Angry Black Man (uncredited)   \n",
      "17         Brenda Dickson                  Soap Opera Woman (uncredited)   \n",
      "18         Norman Matlock                                      Charlie T   \n",
      "19          Harry Northup                                       Doughboy   \n",
      "20        Harlan Cary Poe                   Campaign Worker (uncredited)   \n",
      "21          Steven Prince                            Andy - Gun Salesman   \n",
      "22           Peter Savage                                       The John   \n",
      "23       Nicholas Shields                  Palantine's Aide (uncredited)   \n",
      "24     Ralph S. Singleton                  T.V. Interviewer (uncredited)   \n",
      "25            Annie Gagen                   Campaign Worker (uncredited)   \n",
      "26           Carson Grant                 Political rallier (uncredited)   \n",
      "27         Mary-Pat Green                     Campaign Aide (uncredited)   \n",
      "28           Debbi Morgan           Girl at Columbus Circle (uncredited)   \n",
      "29             Don Stroud                         Policeman (uncredited)   \n",
      "30      Copper Cunningham                                  Hooker in Cab   \n",
      "31            Garth Avery                                   Iris' friend   \n",
      "32              Nat Grant                                  Stick-aup Man   \n",
      "33         Billie Perkins                      Iris' Friend (uncredited)   \n",
      "34     Catherine Scorsese  Iris' Mother (newspaper article) (uncredited)   \n",
      "35       Charles Scorsese  Iris' Father (newspaper article) (uncredited)   \n",
      "24203    Odunlade Adekola                                        unknown   \n",
      "24204    Ijeoma Grace Agu                                        unknown   \n",
      "\n",
      "        role        title       type  release_year  \\\n",
      "0      ACTOR  Taxi Driver      MOVIE          1976   \n",
      "1      ACTOR  Taxi Driver      MOVIE          1976   \n",
      "2      ACTOR  Taxi Driver      MOVIE          1976   \n",
      "3      ACTOR  Taxi Driver      MOVIE          1976   \n",
      "4      ACTOR  Taxi Driver      MOVIE          1976   \n",
      "5      ACTOR  Taxi Driver      MOVIE          1976   \n",
      "6      ACTOR  Taxi Driver      MOVIE          1976   \n",
      "7      ACTOR  Taxi Driver      MOVIE          1976   \n",
      "8      ACTOR  Taxi Driver      MOVIE          1976   \n",
      "9      ACTOR  Taxi Driver      MOVIE          1976   \n",
      "10     ACTOR  Taxi Driver      MOVIE          1976   \n",
      "11     ACTOR  Taxi Driver      MOVIE          1976   \n",
      "12     ACTOR  Taxi Driver      MOVIE          1976   \n",
      "13     ACTOR  Taxi Driver  the movie          1976   \n",
      "14     ACTOR  Taxi Driver      MOVIE          1976   \n",
      "15     ACTOR  Taxi Driver      MOVIE          1976   \n",
      "16     ACTOR  Taxi Driver  the movie          1976   \n",
      "17     ACTOR  Taxi Driver  the movie          1976   \n",
      "18     ACTOR  Taxi Driver  the movie          1976   \n",
      "19     ACTOR  Taxi Driver  the movie          1976   \n",
      "20     ACTOR  Taxi Driver  the movie          1976   \n",
      "21     ACTOR  Taxi Driver  the movie          1976   \n",
      "22     ACTOR  Taxi Driver      MOVIE          1976   \n",
      "23     ACTOR  Taxi Driver      MOVIE          1976   \n",
      "24     ACTOR  Taxi Driver      MOVIE          1976   \n",
      "25     ACTOR  Taxi Driver      MOVIE          1976   \n",
      "26     ACTOR  Taxi Driver      MOVIE          1976   \n",
      "27     ACTOR  Taxi Driver      MOVIE          1976   \n",
      "28     ACTOR  Taxi Driver      MOVIE          1976   \n",
      "29     ACTOR  Taxi Driver      MOVIE          1976   \n",
      "30     ACTOR  Taxi Driver      MOVIE          1976   \n",
      "31     ACTOR  Taxi Driver      MOVIE          1976   \n",
      "32     ACTOR  Taxi Driver      MOVIE          1976   \n",
      "33     ACTOR  Taxi Driver      MOVIE          1976   \n",
      "34     ACTOR  Taxi Driver      MOVIE          1976   \n",
      "35     ACTOR  Taxi Driver      MOVIE          1976   \n",
      "24203  ACTOR  Taxi Driver      MOVIE          2015   \n",
      "24204  ACTOR  Taxi Driver      MOVIE          2015   \n",
      "\n",
      "                             genres  imdb_score  imdb_votes  \n",
      "0                ['drama', 'crime']         8.2    808582.0  \n",
      "1                ['drama', 'crime']         8.2    808582.0  \n",
      "2                ['drama', 'crime']         8.2    808582.0  \n",
      "3                ['drama', 'crime']         8.2    808582.0  \n",
      "4                ['drama', 'crime']         8.2    808582.0  \n",
      "5                ['drama', 'crime']         8.2    808582.0  \n",
      "6                ['drama', 'crime']         8.2    808582.0  \n",
      "7                ['drama', 'crime']         8.2    808582.0  \n",
      "8                ['drama', 'crime']         8.2    808582.0  \n",
      "9                ['drama', 'crime']         8.2    808582.0  \n",
      "10               ['drama', 'crime']         8.2    808582.0  \n",
      "11               ['drama', 'crime']         8.2    808582.0  \n",
      "12               ['drama', 'crime']         8.2    808582.0  \n",
      "13               ['drama', 'crime']         8.2    808582.0  \n",
      "14               ['drama', 'crime']         8.2    808582.0  \n",
      "15               ['drama', 'crime']         8.2    808582.0  \n",
      "16               ['drama', 'crime']         8.2    808582.0  \n",
      "17               ['drama', 'crime']         8.2    808582.0  \n",
      "18               ['drama', 'crime']         8.2    808582.0  \n",
      "19               ['drama', 'crime']         8.2    808582.0  \n",
      "20               ['drama', 'crime']         8.2    808582.0  \n",
      "21               ['drama', 'crime']         8.2    808582.0  \n",
      "22               ['drama', 'crime']         8.2    808582.0  \n",
      "23               ['drama', 'crime']         8.2    808582.0  \n",
      "24               ['drama', 'crime']         8.2    808582.0  \n",
      "25               ['drama', 'crime']         8.2    808582.0  \n",
      "26               ['drama', 'crime']         8.2    808582.0  \n",
      "27               ['drama', 'crime']         8.2    808582.0  \n",
      "28               ['drama', 'crime']         8.2    808582.0  \n",
      "29               ['drama', 'crime']         8.2    808582.0  \n",
      "30               ['drama', 'crime']         8.2    808582.0  \n",
      "31               ['drama', 'crime']         8.2    808582.0  \n",
      "32               ['drama', 'crime']         8.2    808582.0  \n",
      "33               ['drama', 'crime']         8.2    808582.0  \n",
      "34               ['drama', 'crime']         8.2    808582.0  \n",
      "35               ['drama', 'crime']         8.2    808582.0  \n",
      "24203  ['comedy', 'crime', 'drama']         6.0        69.0  \n",
      "24204  ['comedy', 'crime', 'drama']         6.0        69.0  \n",
      "Robert De Niro, Jodie Foster, Albert Brooks, Harvey Keitel, Cybill Shepherd, Peter Boyle, Leonard Harris, Diahnne Abbott, Gino Ardito, Martin Scorsese, Murray Moston, Richard Higgs, Bill Minkin, Bob Maroff, Victor Argo, Joe Spinell, Robinson Frank Adu, Brenda Dickson, Norman Matlock, Harry Northup, Harlan Cary Poe, Steven Prince, Peter Savage, Nicholas Shields, Ralph S. Singleton, Annie Gagen, Carson Grant, Mary-Pat Green, Debbi Morgan, Don Stroud, Copper Cunningham, Garth Avery, Nat Grant, Billie Perkins, Catherine Scorsese, Charles Scorsese, Odunlade Adekola, Ijeoma Grace Agu\n"
     ]
    }
   ],
   "source": [
    "# Test the function\n",
    "print(get_actors_for_title(\"Taxi Driver\"))"
   ]
  },
  {
   "cell_type": "markdown",
   "metadata": {
    "id": "Iu7Zzk7M0o_9"
   },
   "source": [
    "## Task 8: Creating a Function to Categorize Movies by IMDb Score\n",
    "\n",
    "Let’s categorize movies and shows based on their IMDb scores to provide a quick evaluation of their popularity or quality. We’ll create a function that takes in a `title` and returns a rating category based on the movie or show’s IMDb score.\n",
    "\n",
    "### Rating Categories\n",
    "\n",
    "- **Excellent**: IMDb score of 9.0 or higher\n",
    "- **Good**: IMDb score between 7.0 and 8.9\n",
    "- **Average**: IMDb score between 5.0 and 6.9\n",
    "- **Low**: IMDb score below 5.0\n",
    "\n",
    "\n",
    "1. **Define the Function**:\n",
    "   - Create a function called `categorize_imdb_score` that accepts one parameter, `title`.\n",
    "\n",
    "2. **Filter by Title**:\n",
    "   - Inside the function, filter the DataFrame to find the row where `title` matches the given title.\n",
    "\n",
    "3. **Retrieve IMDb Score**:\n",
    "   - If the title exists, retrieve the `imdb_score` for that movie or show.\n",
    "   - If the title is not found, return `\"Title not found\"`.\n",
    "\n",
    "4. **Categorize Score with `if-else`**:\n",
    "   - Use `if-elif-else` statements to evaluate the `imdb_score` and return one of the rating categories based on the ranges provided.\n",
    "\n",
    "5. **Return the Category**:\n",
    "   - Return the appropriate category based on the score.\n",
    "\n",
    "This function allows you to quickly categorize movies or shows by their IMDb score, which could be helpful for creating rating tags or recommending top-rated content."
   ]
  },
  {
   "cell_type": "code",
   "execution_count": 19,
   "metadata": {
    "trusted": true
   },
   "outputs": [],
   "source": [
    "#Define the Function\n",
    "def categorize_imdb_score(title):\n",
    "    #Filter for the row with the specified title\n",
    "    title_df = df[df['title'] == title]\n",
    "    \n",
    "    #Check if the title exists\n",
    "    if title_df.empty:\n",
    "        return (f\"{title}: Title not found\")\n",
    "    \n",
    "    #Retrieve the imdb score for the movie\n",
    "    imdb_score_df = title_df['imdb_score'].values[0]\n",
    "    \n",
    "    \n",
    "    #Categorize score using if-else and return the ranking accordingly\n",
    "    if imdb_score_df >= 9.0:\n",
    "        return (f\"{title}: Excellent\")\n",
    "    \n",
    "    elif imdb_score_df >= 7.0:\n",
    "        return (f\"{title}: Good\")\n",
    "    \n",
    "    elif imdb_score_df >= 5.0:\n",
    "        return (f\"{title}: Average\")\n",
    "    \n",
    "    else:\n",
    "        return (f\"{title}: Low\")"
   ]
  },
  {
   "cell_type": "code",
   "execution_count": 20,
   "metadata": {
    "id": "4wqHjcFZ01Qk",
    "scrolled": true,
    "trusted": true
   },
   "outputs": [
    {
     "name": "stdout",
     "output_type": "stream",
     "text": [
      "Taxi Driver: Good\n"
     ]
    }
   ],
   "source": [
    "# Test the function\n",
    "print(categorize_imdb_score(\"Taxi Driver\"))\n"
   ]
  }
 ],
 "metadata": {
  "ExecuteTimeLog": [
   {
    "duration": 333,
    "start_time": "2025-05-05T23:37:36.790Z"
   },
   {
    "duration": 8,
    "start_time": "2025-05-05T23:42:43.337Z"
   },
   {
    "duration": 151,
    "start_time": "2025-05-05T23:43:19.690Z"
   },
   {
    "duration": 123,
    "start_time": "2025-05-05T23:43:23.860Z"
   },
   {
    "duration": 152,
    "start_time": "2025-05-05T23:43:36.128Z"
   },
   {
    "duration": 150,
    "start_time": "2025-05-05T23:43:51.922Z"
   },
   {
    "duration": 175,
    "start_time": "2025-05-05T23:44:47.773Z"
   },
   {
    "duration": 5,
    "start_time": "2025-05-05T23:45:06.126Z"
   },
   {
    "duration": 13,
    "start_time": "2025-05-05T23:45:26.651Z"
   },
   {
    "duration": 12,
    "start_time": "2025-05-05T23:45:44.119Z"
   },
   {
    "duration": 23,
    "start_time": "2025-05-06T00:02:52.728Z"
   },
   {
    "duration": 19,
    "start_time": "2025-05-06T00:04:02.053Z"
   },
   {
    "duration": 6,
    "start_time": "2025-05-06T00:12:33.631Z"
   },
   {
    "duration": 12,
    "start_time": "2025-05-06T00:12:50.341Z"
   },
   {
    "duration": 14,
    "start_time": "2025-05-06T00:13:32.438Z"
   },
   {
    "duration": 32,
    "start_time": "2025-05-06T00:14:28.660Z"
   },
   {
    "duration": 8,
    "start_time": "2025-05-06T00:14:53.094Z"
   },
   {
    "duration": 7,
    "start_time": "2025-05-06T00:15:32.619Z"
   },
   {
    "duration": 7,
    "start_time": "2025-05-06T00:16:24.772Z"
   },
   {
    "duration": 12,
    "start_time": "2025-05-06T00:16:31.988Z"
   },
   {
    "duration": 30,
    "start_time": "2025-05-06T00:16:55.953Z"
   },
   {
    "duration": 12,
    "start_time": "2025-05-06T00:17:29.761Z"
   },
   {
    "duration": 33,
    "start_time": "2025-05-06T00:21:29.070Z"
   },
   {
    "duration": 38,
    "start_time": "2025-05-06T00:21:48.798Z"
   },
   {
    "duration": 4,
    "start_time": "2025-05-06T00:41:32.914Z"
   },
   {
    "duration": 3,
    "start_time": "2025-05-06T00:41:55.489Z"
   },
   {
    "duration": 5,
    "start_time": "2025-05-06T00:47:31.818Z"
   },
   {
    "duration": 12,
    "start_time": "2025-05-06T00:47:50.033Z"
   },
   {
    "duration": 4,
    "start_time": "2025-05-06T00:48:13.034Z"
   },
   {
    "duration": 431,
    "start_time": "2025-05-06T00:48:54.362Z"
   },
   {
    "duration": 3,
    "start_time": "2025-05-06T00:49:18.871Z"
   },
   {
    "duration": 4,
    "start_time": "2025-05-06T00:52:05.049Z"
   },
   {
    "duration": 614,
    "start_time": "2025-05-06T00:52:17.305Z"
   },
   {
    "duration": 4,
    "start_time": "2025-05-06T01:05:24.303Z"
   },
   {
    "duration": 3,
    "start_time": "2025-05-06T01:06:33.790Z"
   },
   {
    "duration": 2,
    "start_time": "2025-05-06T01:09:19.767Z"
   },
   {
    "duration": 3,
    "start_time": "2025-05-06T01:09:26.088Z"
   },
   {
    "duration": 61,
    "start_time": "2025-05-06T01:10:10.083Z"
   },
   {
    "duration": 5,
    "start_time": "2025-05-06T01:10:40.551Z"
   },
   {
    "duration": 37,
    "start_time": "2025-05-06T01:10:52.760Z"
   },
   {
    "duration": 4,
    "start_time": "2025-05-06T01:12:16.772Z"
   },
   {
    "duration": 5,
    "start_time": "2025-05-06T01:14:08.419Z"
   },
   {
    "duration": 4,
    "start_time": "2025-05-06T01:14:44.736Z"
   },
   {
    "duration": 62,
    "start_time": "2025-05-06T01:27:22.614Z"
   },
   {
    "duration": 6,
    "start_time": "2025-05-06T01:28:02.938Z"
   },
   {
    "duration": 9,
    "start_time": "2025-05-06T01:28:52.827Z"
   },
   {
    "duration": 19,
    "start_time": "2025-05-06T01:33:13.829Z"
   },
   {
    "duration": 6,
    "start_time": "2025-05-06T01:35:29.069Z"
   },
   {
    "duration": 102,
    "start_time": "2025-05-06T01:35:39.423Z"
   },
   {
    "duration": 17,
    "start_time": "2025-05-06T01:36:12.189Z"
   },
   {
    "duration": 24,
    "start_time": "2025-05-06T01:38:43.291Z"
   },
   {
    "duration": 80,
    "start_time": "2025-05-06T01:38:58.398Z"
   },
   {
    "duration": 14,
    "start_time": "2025-05-06T01:39:37.835Z"
   },
   {
    "duration": 22,
    "start_time": "2025-05-06T01:41:16.755Z"
   },
   {
    "duration": 20,
    "start_time": "2025-05-06T01:42:38.174Z"
   },
   {
    "duration": 17,
    "start_time": "2025-05-06T01:43:00.683Z"
   },
   {
    "duration": 7,
    "start_time": "2025-05-06T01:43:13.009Z"
   },
   {
    "duration": 18,
    "start_time": "2025-05-06T01:49:13.232Z"
   },
   {
    "duration": 17,
    "start_time": "2025-05-06T01:49:19.133Z"
   },
   {
    "duration": 7,
    "start_time": "2025-05-06T02:07:54.505Z"
   },
   {
    "duration": 21,
    "start_time": "2025-05-06T02:08:35.351Z"
   },
   {
    "duration": 6,
    "start_time": "2025-05-06T02:09:19.141Z"
   },
   {
    "duration": 4,
    "start_time": "2025-05-06T02:10:19.436Z"
   },
   {
    "duration": 6,
    "start_time": "2025-05-06T02:10:29.547Z"
   },
   {
    "duration": 20,
    "start_time": "2025-05-06T02:11:20.070Z"
   },
   {
    "duration": 3,
    "start_time": "2025-05-06T02:12:36.254Z"
   },
   {
    "duration": 19,
    "start_time": "2025-05-06T02:12:51.714Z"
   },
   {
    "duration": 22,
    "start_time": "2025-05-06T02:13:50.283Z"
   },
   {
    "duration": 23,
    "start_time": "2025-05-06T02:14:06.039Z"
   },
   {
    "duration": 22,
    "start_time": "2025-05-06T02:14:25.759Z"
   },
   {
    "duration": 21,
    "start_time": "2025-05-06T02:15:18.333Z"
   },
   {
    "duration": 19,
    "start_time": "2025-05-06T02:17:14.421Z"
   },
   {
    "duration": 20,
    "start_time": "2025-05-06T02:18:21.486Z"
   },
   {
    "duration": 54,
    "start_time": "2025-05-06T02:25:30.110Z"
   },
   {
    "duration": 29,
    "start_time": "2025-05-06T02:39:15.102Z"
   },
   {
    "duration": 3,
    "start_time": "2025-05-06T02:47:33.204Z"
   },
   {
    "duration": 24,
    "start_time": "2025-05-06T02:47:41.541Z"
   },
   {
    "duration": 3,
    "start_time": "2025-05-06T02:48:03.497Z"
   },
   {
    "duration": 34,
    "start_time": "2025-05-06T02:48:05.425Z"
   },
   {
    "duration": 2,
    "start_time": "2025-05-06T02:49:55.883Z"
   },
   {
    "duration": 267,
    "start_time": "2025-05-06T02:49:58.814Z"
   },
   {
    "duration": 3,
    "start_time": "2025-05-06T02:53:24.893Z"
   },
   {
    "duration": 3,
    "start_time": "2025-05-06T02:53:38.853Z"
   },
   {
    "duration": 3,
    "start_time": "2025-05-06T02:54:00.306Z"
   },
   {
    "duration": 11,
    "start_time": "2025-05-06T02:54:10.528Z"
   },
   {
    "duration": 3,
    "start_time": "2025-05-06T02:55:00.896Z"
   },
   {
    "duration": 5,
    "start_time": "2025-05-06T02:55:03.114Z"
   },
   {
    "duration": 4,
    "start_time": "2025-05-06T02:55:14.761Z"
   },
   {
    "duration": 3,
    "start_time": "2025-05-06T02:55:48.695Z"
   },
   {
    "duration": 15,
    "start_time": "2025-05-06T02:55:50.928Z"
   },
   {
    "duration": 4,
    "start_time": "2025-05-06T02:55:55.677Z"
   },
   {
    "duration": 7,
    "start_time": "2025-05-06T02:56:41.129Z"
   },
   {
    "duration": 4,
    "start_time": "2025-05-06T02:56:58.270Z"
   },
   {
    "duration": 3,
    "start_time": "2025-05-06T02:57:48.752Z"
   },
   {
    "duration": 4,
    "start_time": "2025-05-06T02:57:52.061Z"
   },
   {
    "duration": 5,
    "start_time": "2025-05-06T02:58:27.896Z"
   },
   {
    "duration": 6,
    "start_time": "2025-05-06T02:58:42.395Z"
   },
   {
    "duration": 4,
    "start_time": "2025-05-06T03:01:39.661Z"
   },
   {
    "duration": 4,
    "start_time": "2025-05-06T03:01:44.101Z"
   },
   {
    "duration": 4,
    "start_time": "2025-05-06T03:02:11.009Z"
   },
   {
    "duration": 4,
    "start_time": "2025-05-06T03:02:31.273Z"
   },
   {
    "duration": 11,
    "start_time": "2025-05-06T03:02:50.739Z"
   },
   {
    "duration": 7,
    "start_time": "2025-05-06T03:05:04.626Z"
   },
   {
    "duration": 9,
    "start_time": "2025-05-06T03:05:15.938Z"
   },
   {
    "duration": 33,
    "start_time": "2025-05-06T03:05:20.730Z"
   },
   {
    "duration": 9,
    "start_time": "2025-05-06T03:06:55.027Z"
   },
   {
    "duration": 24,
    "start_time": "2025-05-06T03:06:58.545Z"
   },
   {
    "duration": 4,
    "start_time": "2025-05-06T03:07:08.365Z"
   },
   {
    "duration": 26,
    "start_time": "2025-05-06T03:07:14.436Z"
   },
   {
    "duration": 4,
    "start_time": "2025-05-06T03:07:30.836Z"
   },
   {
    "duration": 32,
    "start_time": "2025-05-06T03:07:32.591Z"
   },
   {
    "duration": 4,
    "start_time": "2025-05-06T03:11:39.154Z"
   },
   {
    "duration": 20,
    "start_time": "2025-05-06T03:11:44.848Z"
   },
   {
    "duration": 19,
    "start_time": "2025-05-06T03:11:52.947Z"
   },
   {
    "duration": 6,
    "start_time": "2025-05-06T03:11:57.329Z"
   },
   {
    "duration": 20,
    "start_time": "2025-05-06T03:12:00.700Z"
   },
   {
    "duration": 11,
    "start_time": "2025-05-06T03:12:06.822Z"
   },
   {
    "duration": 34,
    "start_time": "2025-05-06T03:12:09.827Z"
   },
   {
    "duration": 7,
    "start_time": "2025-05-06T03:12:37.761Z"
   },
   {
    "duration": 4,
    "start_time": "2025-05-06T03:12:52.279Z"
   },
   {
    "duration": 4,
    "start_time": "2025-05-06T03:13:31.409Z"
   },
   {
    "duration": 27,
    "start_time": "2025-05-06T03:13:34.836Z"
   },
   {
    "duration": 2,
    "start_time": "2025-05-06T03:14:36.417Z"
   },
   {
    "duration": 4,
    "start_time": "2025-05-06T03:14:40.013Z"
   },
   {
    "duration": 6,
    "start_time": "2025-05-06T22:31:58.679Z"
   },
   {
    "duration": 159,
    "start_time": "2025-05-06T22:32:00.860Z"
   },
   {
    "duration": 16,
    "start_time": "2025-05-06T22:32:23.172Z"
   },
   {
    "duration": 3,
    "start_time": "2025-05-06T22:32:39.140Z"
   },
   {
    "duration": 3,
    "start_time": "2025-05-06T22:33:09.496Z"
   },
   {
    "duration": 16,
    "start_time": "2025-05-06T22:33:20.834Z"
   },
   {
    "duration": 335,
    "start_time": "2025-05-06T22:33:49.188Z"
   },
   {
    "duration": 137,
    "start_time": "2025-05-06T22:33:51.358Z"
   },
   {
    "duration": 13,
    "start_time": "2025-05-06T22:33:51.666Z"
   },
   {
    "duration": 23,
    "start_time": "2025-05-06T22:33:53.103Z"
   },
   {
    "duration": 5,
    "start_time": "2025-05-06T22:33:54.031Z"
   },
   {
    "duration": 45,
    "start_time": "2025-05-06T22:33:54.625Z"
   },
   {
    "duration": 5,
    "start_time": "2025-05-06T22:33:55.461Z"
   },
   {
    "duration": 4,
    "start_time": "2025-05-06T22:33:55.805Z"
   },
   {
    "duration": 4,
    "start_time": "2025-05-06T22:33:56.302Z"
   },
   {
    "duration": 17,
    "start_time": "2025-05-06T22:33:57.797Z"
   },
   {
    "duration": 6,
    "start_time": "2025-05-06T22:33:59.151Z"
   },
   {
    "duration": 21,
    "start_time": "2025-05-06T22:34:31.253Z"
   },
   {
    "duration": 4,
    "start_time": "2025-05-06T22:34:34.031Z"
   },
   {
    "duration": 13,
    "start_time": "2025-05-06T22:35:50.041Z"
   },
   {
    "duration": 4,
    "start_time": "2025-05-06T22:36:18.436Z"
   },
   {
    "duration": 4,
    "start_time": "2025-05-06T22:36:19.675Z"
   },
   {
    "duration": 6,
    "start_time": "2025-05-06T22:51:02.553Z"
   },
   {
    "duration": 4,
    "start_time": "2025-05-06T22:51:42.814Z"
   },
   {
    "duration": 4,
    "start_time": "2025-05-06T23:02:21.646Z"
   },
   {
    "duration": 3,
    "start_time": "2025-05-06T23:38:57.929Z"
   },
   {
    "duration": 38,
    "start_time": "2025-05-06T23:39:02.104Z"
   },
   {
    "duration": 3,
    "start_time": "2025-05-06T23:41:09.411Z"
   },
   {
    "duration": 18,
    "start_time": "2025-05-06T23:41:13.998Z"
   },
   {
    "duration": 2,
    "start_time": "2025-05-06T23:43:07.819Z"
   },
   {
    "duration": 306,
    "start_time": "2025-05-06T23:43:10.190Z"
   },
   {
    "duration": 5,
    "start_time": "2025-05-06T23:51:43.541Z"
   },
   {
    "duration": 4,
    "start_time": "2025-05-06T23:53:57.927Z"
   },
   {
    "duration": 3,
    "start_time": "2025-05-06T23:54:20.845Z"
   },
   {
    "duration": 15,
    "start_time": "2025-05-06T23:54:26.933Z"
   },
   {
    "duration": 3,
    "start_time": "2025-05-06T23:55:51.802Z"
   },
   {
    "duration": 14,
    "start_time": "2025-05-06T23:55:56.875Z"
   },
   {
    "duration": 3,
    "start_time": "2025-05-07T00:03:27.344Z"
   },
   {
    "duration": 13,
    "start_time": "2025-05-07T00:03:31.482Z"
   },
   {
    "duration": 3,
    "start_time": "2025-05-07T00:03:52.025Z"
   },
   {
    "duration": 14,
    "start_time": "2025-05-07T00:03:53.946Z"
   },
   {
    "duration": 3,
    "start_time": "2025-05-07T00:04:30.273Z"
   },
   {
    "duration": 225,
    "start_time": "2025-05-07T00:04:32.099Z"
   },
   {
    "duration": 3,
    "start_time": "2025-05-07T00:05:20.207Z"
   },
   {
    "duration": 79,
    "start_time": "2025-05-07T00:05:21.582Z"
   },
   {
    "duration": 4,
    "start_time": "2025-05-07T00:42:01.250Z"
   },
   {
    "duration": 33,
    "start_time": "2025-05-07T00:42:05.431Z"
   },
   {
    "duration": 5,
    "start_time": "2025-05-07T00:42:34.261Z"
   },
   {
    "duration": 4,
    "start_time": "2025-05-07T00:42:58.075Z"
   },
   {
    "duration": 4,
    "start_time": "2025-05-07T00:43:09.576Z"
   },
   {
    "duration": 6,
    "start_time": "2025-05-07T00:43:22.449Z"
   },
   {
    "duration": 4,
    "start_time": "2025-05-07T00:43:40.063Z"
   },
   {
    "duration": 6,
    "start_time": "2025-05-07T00:44:39.240Z"
   },
   {
    "duration": 4,
    "start_time": "2025-05-07T00:44:53.018Z"
   },
   {
    "duration": 4,
    "start_time": "2025-05-07T00:45:19.505Z"
   },
   {
    "duration": 4,
    "start_time": "2025-05-07T00:45:33.191Z"
   },
   {
    "duration": 4,
    "start_time": "2025-05-07T00:45:42.963Z"
   },
   {
    "duration": 4,
    "start_time": "2025-05-07T00:45:58.401Z"
   },
   {
    "duration": 3,
    "start_time": "2025-05-07T00:50:10.901Z"
   },
   {
    "duration": 19,
    "start_time": "2025-05-07T00:50:16.409Z"
   },
   {
    "duration": 3,
    "start_time": "2025-05-07T00:55:27.604Z"
   },
   {
    "duration": 3,
    "start_time": "2025-05-07T00:55:33.052Z"
   },
   {
    "duration": 16,
    "start_time": "2025-05-07T00:55:38.489Z"
   },
   {
    "duration": 3,
    "start_time": "2025-05-07T01:00:44.235Z"
   },
   {
    "duration": 145,
    "start_time": "2025-05-07T01:00:47.742Z"
   },
   {
    "duration": 3,
    "start_time": "2025-05-07T01:10:24.662Z"
   },
   {
    "duration": 6,
    "start_time": "2025-05-07T01:10:48.455Z"
   },
   {
    "duration": 4,
    "start_time": "2025-05-07T01:11:50.239Z"
   },
   {
    "duration": 5,
    "start_time": "2025-05-07T01:21:22.620Z"
   },
   {
    "duration": 51,
    "start_time": "2025-05-07T01:21:28.967Z"
   },
   {
    "duration": 5,
    "start_time": "2025-05-07T01:21:51.135Z"
   },
   {
    "duration": 5,
    "start_time": "2025-05-07T01:22:37.985Z"
   },
   {
    "duration": 4,
    "start_time": "2025-05-07T01:22:46.230Z"
   },
   {
    "duration": 4,
    "start_time": "2025-05-07T01:22:57.684Z"
   },
   {
    "duration": 4,
    "start_time": "2025-05-07T01:23:48.557Z"
   },
   {
    "duration": 3,
    "start_time": "2025-05-07T01:41:03.257Z"
   },
   {
    "duration": 5,
    "start_time": "2025-05-07T01:41:23.266Z"
   },
   {
    "duration": 4,
    "start_time": "2025-05-07T01:41:38.644Z"
   },
   {
    "duration": 3,
    "start_time": "2025-05-07T02:19:53.516Z"
   },
   {
    "duration": 17,
    "start_time": "2025-05-07T02:19:58.675Z"
   },
   {
    "duration": 20,
    "start_time": "2025-05-07T02:20:14.995Z"
   },
   {
    "duration": 18,
    "start_time": "2025-05-07T02:20:21.461Z"
   },
   {
    "duration": 17,
    "start_time": "2025-05-07T02:20:32.060Z"
   },
   {
    "duration": 5,
    "start_time": "2025-05-10T01:42:10.044Z"
   },
   {
    "duration": 160,
    "start_time": "2025-05-10T01:42:12.707Z"
   },
   {
    "duration": 320,
    "start_time": "2025-05-10T01:43:05.930Z"
   },
   {
    "duration": 138,
    "start_time": "2025-05-10T01:43:06.866Z"
   },
   {
    "duration": 13,
    "start_time": "2025-05-10T01:43:07.213Z"
   },
   {
    "duration": 33,
    "start_time": "2025-05-10T01:43:07.936Z"
   },
   {
    "duration": 6,
    "start_time": "2025-05-10T01:43:09.915Z"
   },
   {
    "duration": 39,
    "start_time": "2025-05-10T01:43:09.924Z"
   },
   {
    "duration": 5,
    "start_time": "2025-05-10T01:43:10.317Z"
   },
   {
    "duration": 5,
    "start_time": "2025-05-10T01:43:11.142Z"
   },
   {
    "duration": 3,
    "start_time": "2025-05-10T01:43:11.151Z"
   },
   {
    "duration": 16,
    "start_time": "2025-05-10T01:43:11.157Z"
   },
   {
    "duration": 6,
    "start_time": "2025-05-10T01:43:11.176Z"
   },
   {
    "duration": 21,
    "start_time": "2025-05-10T01:43:12.542Z"
   },
   {
    "duration": 2,
    "start_time": "2025-05-10T01:43:15.324Z"
   },
   {
    "duration": 7,
    "start_time": "2025-05-10T01:43:16.569Z"
   },
   {
    "duration": 3,
    "start_time": "2025-05-10T01:43:20.553Z"
   },
   {
    "duration": 6,
    "start_time": "2025-05-10T01:43:23.172Z"
   },
   {
    "duration": 4,
    "start_time": "2025-05-10T01:45:30.815Z"
   },
   {
    "duration": 4,
    "start_time": "2025-05-10T01:45:32.138Z"
   },
   {
    "duration": 3,
    "start_time": "2025-05-10T01:54:44.237Z"
   },
   {
    "duration": 333,
    "start_time": "2025-05-10T01:54:45.410Z"
   },
   {
    "duration": 3,
    "start_time": "2025-05-10T01:55:10.341Z"
   },
   {
    "duration": 10,
    "start_time": "2025-05-10T01:55:11.618Z"
   },
   {
    "duration": 11,
    "start_time": "2025-05-10T01:55:17.389Z"
   },
   {
    "duration": 3,
    "start_time": "2025-05-10T01:55:25.916Z"
   },
   {
    "duration": 10,
    "start_time": "2025-05-10T01:55:27.578Z"
   },
   {
    "duration": 12,
    "start_time": "2025-05-10T01:55:41.847Z"
   },
   {
    "duration": 11,
    "start_time": "2025-05-10T01:55:50.204Z"
   },
   {
    "duration": 3,
    "start_time": "2025-05-10T01:57:05.497Z"
   },
   {
    "duration": 10,
    "start_time": "2025-05-10T01:57:06.451Z"
   },
   {
    "duration": 10,
    "start_time": "2025-05-10T01:57:12.129Z"
   },
   {
    "duration": 10,
    "start_time": "2025-05-10T01:57:15.051Z"
   },
   {
    "duration": 5,
    "start_time": "2025-05-10T01:59:25.761Z"
   },
   {
    "duration": 4,
    "start_time": "2025-05-10T01:59:43.818Z"
   },
   {
    "duration": 3,
    "start_time": "2025-05-10T01:59:56.162Z"
   },
   {
    "duration": 117,
    "start_time": "2025-05-10T01:59:56.603Z"
   },
   {
    "duration": 9,
    "start_time": "2025-05-10T01:59:56.863Z"
   },
   {
    "duration": 22,
    "start_time": "2025-05-10T01:59:57.060Z"
   },
   {
    "duration": 5,
    "start_time": "2025-05-10T01:59:57.428Z"
   },
   {
    "duration": 38,
    "start_time": "2025-05-10T01:59:57.764Z"
   },
   {
    "duration": 5,
    "start_time": "2025-05-10T01:59:58.097Z"
   },
   {
    "duration": 5,
    "start_time": "2025-05-10T01:59:58.591Z"
   },
   {
    "duration": 4,
    "start_time": "2025-05-10T01:59:58.890Z"
   },
   {
    "duration": 19,
    "start_time": "2025-05-10T01:59:59.604Z"
   },
   {
    "duration": 6,
    "start_time": "2025-05-10T02:00:00.010Z"
   },
   {
    "duration": 22,
    "start_time": "2025-05-10T02:00:01.087Z"
   },
   {
    "duration": 2,
    "start_time": "2025-05-10T02:00:02.541Z"
   },
   {
    "duration": 4,
    "start_time": "2025-05-10T02:00:04.182Z"
   },
   {
    "duration": 4,
    "start_time": "2025-05-10T02:00:05.869Z"
   },
   {
    "duration": 5,
    "start_time": "2025-05-10T02:00:06.338Z"
   },
   {
    "duration": 3,
    "start_time": "2025-05-10T02:00:09.884Z"
   },
   {
    "duration": 4,
    "start_time": "2025-05-10T02:00:36.735Z"
   },
   {
    "duration": 4,
    "start_time": "2025-05-10T02:01:09.787Z"
   },
   {
    "duration": 5,
    "start_time": "2025-05-10T02:03:18.792Z"
   },
   {
    "duration": 4,
    "start_time": "2025-05-10T02:03:30.443Z"
   },
   {
    "duration": 4,
    "start_time": "2025-05-10T02:03:56.898Z"
   },
   {
    "duration": 4,
    "start_time": "2025-05-10T02:04:09.934Z"
   },
   {
    "duration": 3,
    "start_time": "2025-05-10T02:04:37.514Z"
   },
   {
    "duration": 3,
    "start_time": "2025-05-10T02:04:40.344Z"
   },
   {
    "duration": 15,
    "start_time": "2025-05-10T02:04:41.877Z"
   },
   {
    "duration": 3,
    "start_time": "2025-05-10T02:05:06.579Z"
   },
   {
    "duration": 11,
    "start_time": "2025-05-10T02:05:07.952Z"
   },
   {
    "duration": 3,
    "start_time": "2025-05-10T02:06:27.910Z"
   },
   {
    "duration": 14,
    "start_time": "2025-05-10T02:06:29.620Z"
   },
   {
    "duration": 3,
    "start_time": "2025-05-10T02:06:34.943Z"
   },
   {
    "duration": 15,
    "start_time": "2025-05-10T02:06:35.983Z"
   },
   {
    "duration": 3,
    "start_time": "2025-05-10T02:07:25.228Z"
   },
   {
    "duration": 14,
    "start_time": "2025-05-10T02:07:25.895Z"
   },
   {
    "duration": 3,
    "start_time": "2025-05-10T02:08:00.959Z"
   },
   {
    "duration": 14,
    "start_time": "2025-05-10T02:08:01.959Z"
   },
   {
    "duration": 3,
    "start_time": "2025-05-10T02:10:02.499Z"
   },
   {
    "duration": 3,
    "start_time": "2025-05-10T02:10:14.605Z"
   },
   {
    "duration": 14,
    "start_time": "2025-05-10T02:10:17.618Z"
   },
   {
    "duration": 4,
    "start_time": "2025-05-10T02:11:03.151Z"
   },
   {
    "duration": 4,
    "start_time": "2025-05-10T02:11:29.266Z"
   },
   {
    "duration": 14,
    "start_time": "2025-05-10T02:11:30.425Z"
   },
   {
    "duration": 4,
    "start_time": "2025-05-10T02:11:57.323Z"
   },
   {
    "duration": 14,
    "start_time": "2025-05-10T02:12:11.551Z"
   },
   {
    "duration": 12,
    "start_time": "2025-05-10T02:12:25.645Z"
   },
   {
    "duration": 18,
    "start_time": "2025-05-10T02:13:13.505Z"
   },
   {
    "duration": 4,
    "start_time": "2025-05-10T02:13:56.433Z"
   },
   {
    "duration": 2,
    "start_time": "2025-05-10T02:14:18.289Z"
   },
   {
    "duration": 20,
    "start_time": "2025-05-10T02:14:23.098Z"
   },
   {
    "duration": 7,
    "start_time": "2025-05-10T02:14:34.463Z"
   },
   {
    "duration": 18,
    "start_time": "2025-05-10T02:14:55.708Z"
   },
   {
    "duration": 10,
    "start_time": "2025-05-10T02:16:45.989Z"
   },
   {
    "duration": 3,
    "start_time": "2025-05-10T02:17:14.285Z"
   },
   {
    "duration": 11,
    "start_time": "2025-05-10T02:17:23.656Z"
   },
   {
    "duration": 13,
    "start_time": "2025-05-10T02:17:45.761Z"
   },
   {
    "duration": 3,
    "start_time": "2025-05-10T02:18:19.982Z"
   },
   {
    "duration": 4,
    "start_time": "2025-05-10T02:19:34.870Z"
   },
   {
    "duration": 46,
    "start_time": "2025-05-10T02:20:20.860Z"
   },
   {
    "duration": 3,
    "start_time": "2025-05-10T02:21:09.979Z"
   },
   {
    "duration": 25,
    "start_time": "2025-05-10T02:21:11.577Z"
   },
   {
    "duration": 3,
    "start_time": "2025-05-10T02:23:31.355Z"
   },
   {
    "duration": 11,
    "start_time": "2025-05-10T02:23:32.519Z"
   },
   {
    "duration": 11,
    "start_time": "2025-05-10T02:23:36.374Z"
   },
   {
    "duration": 3,
    "start_time": "2025-05-10T02:24:56.828Z"
   },
   {
    "duration": 10,
    "start_time": "2025-05-10T02:24:57.927Z"
   },
   {
    "duration": 3,
    "start_time": "2025-05-10T02:26:55.595Z"
   },
   {
    "duration": 11,
    "start_time": "2025-05-10T02:26:56.546Z"
   },
   {
    "duration": 11,
    "start_time": "2025-05-10T02:27:02.916Z"
   },
   {
    "duration": 2,
    "start_time": "2025-05-10T02:27:18.347Z"
   },
   {
    "duration": 120,
    "start_time": "2025-05-10T02:27:18.734Z"
   },
   {
    "duration": 9,
    "start_time": "2025-05-10T02:27:18.861Z"
   },
   {
    "duration": 23,
    "start_time": "2025-05-10T02:27:19.138Z"
   },
   {
    "duration": 5,
    "start_time": "2025-05-10T02:27:19.527Z"
   },
   {
    "duration": 36,
    "start_time": "2025-05-10T02:27:19.650Z"
   },
   {
    "duration": 5,
    "start_time": "2025-05-10T02:27:19.945Z"
   },
   {
    "duration": 4,
    "start_time": "2025-05-10T02:27:20.180Z"
   },
   {
    "duration": 3,
    "start_time": "2025-05-10T02:27:20.285Z"
   },
   {
    "duration": 21,
    "start_time": "2025-05-10T02:27:20.874Z"
   },
   {
    "duration": 8,
    "start_time": "2025-05-10T02:27:21.343Z"
   },
   {
    "duration": 20,
    "start_time": "2025-05-10T02:27:22.128Z"
   },
   {
    "duration": 4,
    "start_time": "2025-05-10T02:27:22.571Z"
   },
   {
    "duration": 4,
    "start_time": "2025-05-10T02:27:23.161Z"
   },
   {
    "duration": 3,
    "start_time": "2025-05-10T02:27:24.379Z"
   },
   {
    "duration": 5,
    "start_time": "2025-05-10T02:27:24.838Z"
   },
   {
    "duration": 3,
    "start_time": "2025-05-10T02:27:33.503Z"
   },
   {
    "duration": 12,
    "start_time": "2025-05-10T02:27:35.684Z"
   },
   {
    "duration": 12,
    "start_time": "2025-05-10T02:28:41.986Z"
   },
   {
    "duration": 271,
    "start_time": "2025-05-10T02:29:12.797Z"
   },
   {
    "duration": 11,
    "start_time": "2025-05-10T02:29:38.263Z"
   },
   {
    "duration": 4,
    "start_time": "2025-05-10T02:29:57.425Z"
   },
   {
    "duration": 4,
    "start_time": "2025-05-10T02:30:07.080Z"
   },
   {
    "duration": 9,
    "start_time": "2025-05-10T02:30:20.385Z"
   },
   {
    "duration": 19,
    "start_time": "2025-05-10T02:30:31.173Z"
   },
   {
    "duration": 3,
    "start_time": "2025-05-10T02:32:20.118Z"
   },
   {
    "duration": 11,
    "start_time": "2025-05-10T02:32:23.539Z"
   },
   {
    "duration": 3,
    "start_time": "2025-05-10T02:32:39.041Z"
   },
   {
    "duration": 11,
    "start_time": "2025-05-10T02:32:39.825Z"
   },
   {
    "duration": 11,
    "start_time": "2025-05-10T02:32:43.430Z"
   },
   {
    "duration": 3,
    "start_time": "2025-05-10T02:32:45.914Z"
   },
   {
    "duration": 11,
    "start_time": "2025-05-10T02:32:46.321Z"
   },
   {
    "duration": 3,
    "start_time": "2025-05-10T02:33:26.574Z"
   },
   {
    "duration": 11,
    "start_time": "2025-05-10T02:33:27.234Z"
   },
   {
    "duration": 3,
    "start_time": "2025-05-10T02:36:04.723Z"
   },
   {
    "duration": 11,
    "start_time": "2025-05-10T02:36:05.275Z"
   },
   {
    "duration": 3,
    "start_time": "2025-05-10T02:36:51.700Z"
   },
   {
    "duration": 11,
    "start_time": "2025-05-10T02:36:52.138Z"
   },
   {
    "duration": 3,
    "start_time": "2025-05-10T02:37:00.696Z"
   },
   {
    "duration": 112,
    "start_time": "2025-05-10T02:37:01.115Z"
   },
   {
    "duration": 9,
    "start_time": "2025-05-10T02:37:01.272Z"
   },
   {
    "duration": 22,
    "start_time": "2025-05-10T02:37:01.565Z"
   },
   {
    "duration": 7,
    "start_time": "2025-05-10T02:37:01.876Z"
   },
   {
    "duration": 36,
    "start_time": "2025-05-10T02:37:02.006Z"
   },
   {
    "duration": 5,
    "start_time": "2025-05-10T02:37:02.272Z"
   },
   {
    "duration": 4,
    "start_time": "2025-05-10T02:37:02.442Z"
   },
   {
    "duration": 4,
    "start_time": "2025-05-10T02:37:02.542Z"
   },
   {
    "duration": 17,
    "start_time": "2025-05-10T02:37:02.832Z"
   },
   {
    "duration": 7,
    "start_time": "2025-05-10T02:37:03.157Z"
   },
   {
    "duration": 24,
    "start_time": "2025-05-10T02:37:03.610Z"
   },
   {
    "duration": 3,
    "start_time": "2025-05-10T02:37:03.826Z"
   },
   {
    "duration": 4,
    "start_time": "2025-05-10T02:37:05.833Z"
   },
   {
    "duration": 3,
    "start_time": "2025-05-10T02:37:10.408Z"
   },
   {
    "duration": 4,
    "start_time": "2025-05-10T02:37:10.539Z"
   },
   {
    "duration": 3,
    "start_time": "2025-05-10T02:37:12.750Z"
   },
   {
    "duration": 10,
    "start_time": "2025-05-10T02:37:14.004Z"
   },
   {
    "duration": 3,
    "start_time": "2025-05-10T02:38:18.966Z"
   },
   {
    "duration": 11,
    "start_time": "2025-05-10T02:38:19.901Z"
   },
   {
    "duration": 19,
    "start_time": "2025-05-10T02:38:51.970Z"
   },
   {
    "duration": 25,
    "start_time": "2025-05-10T02:39:04.383Z"
   },
   {
    "duration": 22,
    "start_time": "2025-05-10T02:39:39.974Z"
   },
   {
    "duration": 3,
    "start_time": "2025-05-10T02:39:47.993Z"
   },
   {
    "duration": 20,
    "start_time": "2025-05-10T02:39:50.048Z"
   },
   {
    "duration": 23,
    "start_time": "2025-05-10T02:40:18.384Z"
   },
   {
    "duration": 12,
    "start_time": "2025-05-10T02:42:36.453Z"
   },
   {
    "duration": 3,
    "start_time": "2025-05-10T02:44:29.041Z"
   },
   {
    "duration": 14,
    "start_time": "2025-05-10T02:44:32.055Z"
   },
   {
    "duration": 11,
    "start_time": "2025-05-10T02:44:37.145Z"
   },
   {
    "duration": 11,
    "start_time": "2025-05-10T02:44:38.738Z"
   },
   {
    "duration": 11,
    "start_time": "2025-05-10T02:44:39.941Z"
   },
   {
    "duration": 4,
    "start_time": "2025-05-10T02:44:43.112Z"
   },
   {
    "duration": 3,
    "start_time": "2025-05-10T02:44:44.105Z"
   },
   {
    "duration": 3,
    "start_time": "2025-05-10T02:44:44.721Z"
   },
   {
    "duration": 3,
    "start_time": "2025-05-10T02:44:45.125Z"
   },
   {
    "duration": 3,
    "start_time": "2025-05-10T02:44:45.509Z"
   },
   {
    "duration": 10,
    "start_time": "2025-05-10T02:44:47.873Z"
   },
   {
    "duration": 11,
    "start_time": "2025-05-10T02:45:45.134Z"
   },
   {
    "duration": 11,
    "start_time": "2025-05-10T02:45:47.672Z"
   },
   {
    "duration": 10,
    "start_time": "2025-05-10T02:45:48.763Z"
   },
   {
    "duration": 11,
    "start_time": "2025-05-10T02:45:59.935Z"
   },
   {
    "duration": 19,
    "start_time": "2025-05-10T02:46:23.208Z"
   },
   {
    "duration": 20,
    "start_time": "2025-05-10T02:46:58.856Z"
   },
   {
    "duration": 3,
    "start_time": "2025-05-10T02:49:03.501Z"
   },
   {
    "duration": 3,
    "start_time": "2025-05-10T02:49:05.268Z"
   },
   {
    "duration": 20,
    "start_time": "2025-05-10T02:49:06.724Z"
   },
   {
    "duration": 11,
    "start_time": "2025-05-10T02:49:16.171Z"
   },
   {
    "duration": 2,
    "start_time": "2025-05-10T02:49:41.875Z"
   },
   {
    "duration": 11,
    "start_time": "2025-05-10T02:49:43.235Z"
   },
   {
    "duration": 3,
    "start_time": "2025-05-10T02:50:55.365Z"
   },
   {
    "duration": 55,
    "start_time": "2025-05-10T02:50:56.094Z"
   },
   {
    "duration": 54,
    "start_time": "2025-05-10T02:52:47.390Z"
   },
   {
    "duration": 4,
    "start_time": "2025-05-10T02:52:50.209Z"
   },
   {
    "duration": 56,
    "start_time": "2025-05-10T02:52:50.584Z"
   },
   {
    "duration": 4,
    "start_time": "2025-05-10T02:53:40.990Z"
   },
   {
    "duration": 11,
    "start_time": "2025-05-10T02:53:43.241Z"
   },
   {
    "duration": 3,
    "start_time": "2025-05-10T02:55:17.497Z"
   },
   {
    "duration": 25,
    "start_time": "2025-05-10T02:55:17.855Z"
   },
   {
    "duration": 22,
    "start_time": "2025-05-10T02:55:25.094Z"
   },
   {
    "duration": 2,
    "start_time": "2025-05-10T02:57:05.538Z"
   },
   {
    "duration": 21,
    "start_time": "2025-05-10T02:57:06.372Z"
   },
   {
    "duration": 19,
    "start_time": "2025-05-10T02:57:23.656Z"
   },
   {
    "duration": 3,
    "start_time": "2025-05-10T02:59:21.514Z"
   },
   {
    "duration": 10,
    "start_time": "2025-05-10T02:59:21.992Z"
   },
   {
    "duration": 2,
    "start_time": "2025-05-10T02:59:33.528Z"
   },
   {
    "duration": 112,
    "start_time": "2025-05-10T02:59:33.915Z"
   },
   {
    "duration": 9,
    "start_time": "2025-05-10T02:59:34.029Z"
   },
   {
    "duration": 22,
    "start_time": "2025-05-10T02:59:34.309Z"
   },
   {
    "duration": 7,
    "start_time": "2025-05-10T02:59:34.536Z"
   },
   {
    "duration": 38,
    "start_time": "2025-05-10T02:59:34.710Z"
   },
   {
    "duration": 4,
    "start_time": "2025-05-10T02:59:35.161Z"
   },
   {
    "duration": 5,
    "start_time": "2025-05-10T02:59:35.167Z"
   },
   {
    "duration": 4,
    "start_time": "2025-05-10T02:59:35.350Z"
   },
   {
    "duration": 18,
    "start_time": "2025-05-10T02:59:35.560Z"
   },
   {
    "duration": 6,
    "start_time": "2025-05-10T02:59:35.715Z"
   },
   {
    "duration": 20,
    "start_time": "2025-05-10T02:59:36.018Z"
   },
   {
    "duration": 3,
    "start_time": "2025-05-10T02:59:36.592Z"
   },
   {
    "duration": 4,
    "start_time": "2025-05-10T02:59:36.895Z"
   },
   {
    "duration": 3,
    "start_time": "2025-05-10T02:59:38.209Z"
   },
   {
    "duration": 5,
    "start_time": "2025-05-10T02:59:38.615Z"
   },
   {
    "duration": 3,
    "start_time": "2025-05-10T02:59:44.667Z"
   },
   {
    "duration": 11,
    "start_time": "2025-05-10T02:59:45.704Z"
   },
   {
    "duration": 2,
    "start_time": "2025-05-10T03:00:45.712Z"
   },
   {
    "duration": 10,
    "start_time": "2025-05-10T03:00:47.434Z"
   },
   {
    "duration": 19,
    "start_time": "2025-05-10T03:01:02.585Z"
   },
   {
    "duration": 11,
    "start_time": "2025-05-10T03:01:24.860Z"
   },
   {
    "duration": 3,
    "start_time": "2025-05-10T03:01:32.037Z"
   },
   {
    "duration": 12,
    "start_time": "2025-05-10T03:01:32.048Z"
   },
   {
    "duration": 11,
    "start_time": "2025-05-10T03:01:41.312Z"
   },
   {
    "duration": 3,
    "start_time": "2025-05-10T03:02:02.224Z"
   },
   {
    "duration": 115,
    "start_time": "2025-05-10T03:02:02.350Z"
   },
   {
    "duration": 10,
    "start_time": "2025-05-10T03:02:02.587Z"
   },
   {
    "duration": 22,
    "start_time": "2025-05-10T03:02:02.930Z"
   },
   {
    "duration": 7,
    "start_time": "2025-05-10T03:02:03.132Z"
   },
   {
    "duration": 38,
    "start_time": "2025-05-10T03:02:03.329Z"
   },
   {
    "duration": 4,
    "start_time": "2025-05-10T03:02:03.586Z"
   },
   {
    "duration": 4,
    "start_time": "2025-05-10T03:02:03.764Z"
   },
   {
    "duration": 3,
    "start_time": "2025-05-10T03:02:03.993Z"
   },
   {
    "duration": 17,
    "start_time": "2025-05-10T03:02:04.809Z"
   },
   {
    "duration": 6,
    "start_time": "2025-05-10T03:02:06.115Z"
   },
   {
    "duration": 20,
    "start_time": "2025-05-10T03:02:06.955Z"
   },
   {
    "duration": 3,
    "start_time": "2025-05-10T03:02:08.092Z"
   },
   {
    "duration": 3,
    "start_time": "2025-05-10T03:02:08.550Z"
   },
   {
    "duration": 4,
    "start_time": "2025-05-10T03:02:09.993Z"
   },
   {
    "duration": 5,
    "start_time": "2025-05-10T03:02:10.289Z"
   },
   {
    "duration": 2,
    "start_time": "2025-05-10T03:02:15.622Z"
   },
   {
    "duration": 11,
    "start_time": "2025-05-10T03:02:16.604Z"
   },
   {
    "duration": 315,
    "start_time": "2025-05-10T15:09:32.821Z"
   },
   {
    "duration": 136,
    "start_time": "2025-05-10T15:09:33.138Z"
   },
   {
    "duration": 12,
    "start_time": "2025-05-10T15:09:38.348Z"
   },
   {
    "duration": 23,
    "start_time": "2025-05-10T15:09:38.362Z"
   },
   {
    "duration": 5,
    "start_time": "2025-05-10T15:09:38.387Z"
   },
   {
    "duration": 38,
    "start_time": "2025-05-10T15:09:38.394Z"
   },
   {
    "duration": 5,
    "start_time": "2025-05-10T15:09:38.434Z"
   },
   {
    "duration": 4,
    "start_time": "2025-05-10T15:09:49.806Z"
   },
   {
    "duration": 3,
    "start_time": "2025-05-10T15:09:49.813Z"
   },
   {
    "duration": 17,
    "start_time": "2025-05-10T15:09:49.818Z"
   },
   {
    "duration": 7,
    "start_time": "2025-05-10T15:09:49.999Z"
   },
   {
    "duration": 20,
    "start_time": "2025-05-10T15:09:50.008Z"
   },
   {
    "duration": 3,
    "start_time": "2025-05-10T15:10:01.959Z"
   },
   {
    "duration": 5,
    "start_time": "2025-05-10T15:10:01.964Z"
   },
   {
    "duration": 3,
    "start_time": "2025-05-10T15:10:01.972Z"
   },
   {
    "duration": 4,
    "start_time": "2025-05-10T15:10:01.978Z"
   },
   {
    "duration": 3,
    "start_time": "2025-05-10T15:10:01.984Z"
   },
   {
    "duration": 11,
    "start_time": "2025-05-10T15:10:01.988Z"
   },
   {
    "duration": 2,
    "start_time": "2025-05-10T15:38:00.929Z"
   },
   {
    "duration": 11,
    "start_time": "2025-05-10T15:38:02.899Z"
   },
   {
    "duration": 6,
    "start_time": "2025-05-10T15:43:06.399Z"
   },
   {
    "duration": 6,
    "start_time": "2025-05-10T15:44:21.979Z"
   },
   {
    "duration": 10,
    "start_time": "2025-05-10T15:47:45.378Z"
   },
   {
    "duration": 12,
    "start_time": "2025-05-10T15:50:52.537Z"
   },
   {
    "duration": 3,
    "start_time": "2025-05-10T15:52:50.879Z"
   },
   {
    "duration": 11,
    "start_time": "2025-05-10T15:52:52.847Z"
   },
   {
    "duration": 314,
    "start_time": "2025-05-10T15:55:37.315Z"
   },
   {
    "duration": 117,
    "start_time": "2025-05-10T15:55:39.836Z"
   },
   {
    "duration": 12,
    "start_time": "2025-05-10T15:55:43.051Z"
   },
   {
    "duration": 25,
    "start_time": "2025-05-10T15:55:49.428Z"
   },
   {
    "duration": 6,
    "start_time": "2025-05-10T15:55:53.368Z"
   },
   {
    "duration": 38,
    "start_time": "2025-05-10T15:56:02.855Z"
   },
   {
    "duration": 5,
    "start_time": "2025-05-10T15:56:09.228Z"
   },
   {
    "duration": 5,
    "start_time": "2025-05-10T15:56:10.961Z"
   },
   {
    "duration": 4,
    "start_time": "2025-05-10T15:56:14.132Z"
   },
   {
    "duration": 17,
    "start_time": "2025-05-10T15:56:16.927Z"
   },
   {
    "duration": 7,
    "start_time": "2025-05-10T15:56:18.287Z"
   },
   {
    "duration": 25,
    "start_time": "2025-05-10T15:56:25.042Z"
   },
   {
    "duration": 5,
    "start_time": "2025-05-10T15:56:30.516Z"
   },
   {
    "duration": 4,
    "start_time": "2025-05-10T15:56:32.215Z"
   },
   {
    "duration": 3,
    "start_time": "2025-05-10T15:56:50.431Z"
   },
   {
    "duration": 5,
    "start_time": "2025-05-10T15:56:51.955Z"
   },
   {
    "duration": 3,
    "start_time": "2025-05-10T15:57:05.266Z"
   },
   {
    "duration": 10,
    "start_time": "2025-05-10T15:57:06.656Z"
   },
   {
    "duration": 3,
    "start_time": "2025-05-10T15:58:12.506Z"
   },
   {
    "duration": 10,
    "start_time": "2025-05-10T15:58:13.222Z"
   },
   {
    "duration": 3,
    "start_time": "2025-05-10T16:02:52.410Z"
   },
   {
    "duration": 11,
    "start_time": "2025-05-10T16:02:55.305Z"
   },
   {
    "duration": 3,
    "start_time": "2025-05-10T16:03:09.909Z"
   },
   {
    "duration": 10,
    "start_time": "2025-05-10T16:03:18.611Z"
   },
   {
    "duration": 3,
    "start_time": "2025-05-10T16:05:06.981Z"
   },
   {
    "duration": 3,
    "start_time": "2025-05-10T16:05:09.721Z"
   },
   {
    "duration": 18,
    "start_time": "2025-05-10T16:05:10.939Z"
   },
   {
    "duration": 3,
    "start_time": "2025-05-10T16:07:18.334Z"
   },
   {
    "duration": 11,
    "start_time": "2025-05-10T16:07:20.170Z"
   },
   {
    "duration": 13,
    "start_time": "2025-05-10T16:11:01.334Z"
   },
   {
    "duration": 3,
    "start_time": "2025-05-10T16:11:19.771Z"
   },
   {
    "duration": 17,
    "start_time": "2025-05-10T16:11:21.522Z"
   },
   {
    "duration": 15,
    "start_time": "2025-05-10T16:11:30.265Z"
   },
   {
    "duration": 3,
    "start_time": "2025-05-10T16:23:55.919Z"
   },
   {
    "duration": 3,
    "start_time": "2025-05-10T16:24:00.118Z"
   },
   {
    "duration": 16,
    "start_time": "2025-05-10T16:24:01.682Z"
   },
   {
    "duration": 6,
    "start_time": "2025-05-10T16:41:28.092Z"
   },
   {
    "duration": 189,
    "start_time": "2025-05-10T16:41:31.342Z"
   },
   {
    "duration": 4,
    "start_time": "2025-05-10T16:43:33.619Z"
   },
   {
    "duration": 4,
    "start_time": "2025-05-10T16:44:33.013Z"
   },
   {
    "duration": 5,
    "start_time": "2025-05-10T16:44:48.964Z"
   },
   {
    "duration": 3,
    "start_time": "2025-05-10T16:45:01.857Z"
   },
   {
    "duration": 3,
    "start_time": "2025-05-10T16:45:05.559Z"
   },
   {
    "duration": 12,
    "start_time": "2025-05-10T16:45:07.084Z"
   },
   {
    "duration": 8,
    "start_time": "2025-05-10T16:45:32.246Z"
   },
   {
    "duration": 3,
    "start_time": "2025-05-10T16:45:50.902Z"
   },
   {
    "duration": 11,
    "start_time": "2025-05-10T16:45:51.697Z"
   },
   {
    "duration": 5,
    "start_time": "2025-05-10T16:46:15.688Z"
   },
   {
    "duration": 11,
    "start_time": "2025-05-10T16:46:18.346Z"
   },
   {
    "duration": 7,
    "start_time": "2025-05-10T16:46:23.568Z"
   },
   {
    "duration": 5,
    "start_time": "2025-05-10T16:46:48.583Z"
   },
   {
    "duration": 3,
    "start_time": "2025-05-10T16:46:58.999Z"
   },
   {
    "duration": 2,
    "start_time": "2025-05-10T16:48:04.360Z"
   },
   {
    "duration": 21,
    "start_time": "2025-05-10T16:48:05.280Z"
   },
   {
    "duration": 20,
    "start_time": "2025-05-10T16:48:11.247Z"
   },
   {
    "duration": 3,
    "start_time": "2025-05-10T16:48:14.373Z"
   },
   {
    "duration": 21,
    "start_time": "2025-05-10T16:48:16.840Z"
   },
   {
    "duration": 3,
    "start_time": "2025-05-10T16:48:33.129Z"
   },
   {
    "duration": 2,
    "start_time": "2025-05-10T16:48:35.110Z"
   },
   {
    "duration": 13,
    "start_time": "2025-05-10T16:48:35.882Z"
   },
   {
    "duration": 2,
    "start_time": "2025-05-10T16:49:05.216Z"
   },
   {
    "duration": 4,
    "start_time": "2025-05-10T16:49:06.960Z"
   },
   {
    "duration": 2,
    "start_time": "2025-05-10T16:49:30.937Z"
   },
   {
    "duration": 7,
    "start_time": "2025-05-10T16:49:31.661Z"
   },
   {
    "duration": 5,
    "start_time": "2025-05-10T16:52:41.736Z"
   },
   {
    "duration": 3,
    "start_time": "2025-05-10T16:52:59.452Z"
   },
   {
    "duration": 7,
    "start_time": "2025-05-10T16:53:03.330Z"
   },
   {
    "duration": 7,
    "start_time": "2025-05-10T16:53:18.425Z"
   },
   {
    "duration": 2,
    "start_time": "2025-05-10T16:56:04.636Z"
   },
   {
    "duration": 3,
    "start_time": "2025-05-10T16:56:06.204Z"
   },
   {
    "duration": 3,
    "start_time": "2025-05-10T16:56:09.446Z"
   },
   {
    "duration": 4,
    "start_time": "2025-05-10T16:56:10.448Z"
   },
   {
    "duration": 7,
    "start_time": "2025-05-10T16:56:11.732Z"
   },
   {
    "duration": 2,
    "start_time": "2025-05-10T16:57:03.240Z"
   },
   {
    "duration": 3,
    "start_time": "2025-05-10T16:57:05.210Z"
   },
   {
    "duration": 7,
    "start_time": "2025-05-10T16:57:06.911Z"
   },
   {
    "duration": 5,
    "start_time": "2025-05-10T16:57:41.532Z"
   },
   {
    "duration": 5,
    "start_time": "2025-05-10T16:58:44.118Z"
   },
   {
    "duration": 4,
    "start_time": "2025-05-10T16:58:54.775Z"
   },
   {
    "duration": 4,
    "start_time": "2025-05-10T16:59:10.377Z"
   },
   {
    "duration": 4,
    "start_time": "2025-05-10T16:59:21.731Z"
   },
   {
    "duration": 4,
    "start_time": "2025-05-10T17:00:18.143Z"
   },
   {
    "duration": 3,
    "start_time": "2025-05-10T17:00:22.169Z"
   },
   {
    "duration": 11,
    "start_time": "2025-05-10T17:00:22.752Z"
   },
   {
    "duration": 3,
    "start_time": "2025-05-10T17:00:45.172Z"
   },
   {
    "duration": 3,
    "start_time": "2025-05-10T17:00:59.431Z"
   },
   {
    "duration": 3,
    "start_time": "2025-05-10T17:01:05.751Z"
   },
   {
    "duration": 3,
    "start_time": "2025-05-10T17:01:07.077Z"
   },
   {
    "duration": 3,
    "start_time": "2025-05-10T17:01:08.328Z"
   },
   {
    "duration": 4,
    "start_time": "2025-05-10T17:01:53.031Z"
   },
   {
    "duration": 371,
    "start_time": "2025-05-10T17:02:31.599Z"
   },
   {
    "duration": 20,
    "start_time": "2025-05-10T17:03:32.394Z"
   },
   {
    "duration": 6,
    "start_time": "2025-05-10T17:05:55.097Z"
   },
   {
    "duration": 3,
    "start_time": "2025-05-10T17:06:09.469Z"
   },
   {
    "duration": 4,
    "start_time": "2025-05-10T17:06:16.325Z"
   },
   {
    "duration": 4,
    "start_time": "2025-05-10T17:06:35.137Z"
   },
   {
    "duration": 4,
    "start_time": "2025-05-10T17:06:44.298Z"
   },
   {
    "duration": 5,
    "start_time": "2025-05-10T17:07:14.865Z"
   },
   {
    "duration": 4,
    "start_time": "2025-05-10T17:07:25.848Z"
   },
   {
    "duration": 5,
    "start_time": "2025-05-10T17:07:48.922Z"
   },
   {
    "duration": 3,
    "start_time": "2025-05-10T17:07:54.347Z"
   },
   {
    "duration": 4,
    "start_time": "2025-05-10T17:08:33.338Z"
   },
   {
    "duration": 3,
    "start_time": "2025-05-10T17:09:48.211Z"
   },
   {
    "duration": 5,
    "start_time": "2025-05-10T17:10:06.558Z"
   },
   {
    "duration": 5,
    "start_time": "2025-05-10T17:15:23.545Z"
   },
   {
    "duration": 5,
    "start_time": "2025-05-10T17:15:35.550Z"
   },
   {
    "duration": 4,
    "start_time": "2025-05-10T17:16:58.991Z"
   },
   {
    "duration": 4,
    "start_time": "2025-05-10T17:17:20.814Z"
   },
   {
    "duration": 6,
    "start_time": "2025-05-10T17:17:37.559Z"
   },
   {
    "duration": 5,
    "start_time": "2025-05-10T17:26:08.674Z"
   },
   {
    "duration": 4,
    "start_time": "2025-05-10T17:26:34.519Z"
   },
   {
    "duration": 5,
    "start_time": "2025-05-10T17:30:14.555Z"
   },
   {
    "duration": 4,
    "start_time": "2025-05-10T17:30:34.132Z"
   },
   {
    "duration": 4,
    "start_time": "2025-05-10T17:30:39.974Z"
   },
   {
    "duration": 3,
    "start_time": "2025-05-10T17:30:54.265Z"
   },
   {
    "duration": 5,
    "start_time": "2025-05-10T17:30:58.875Z"
   },
   {
    "duration": 28,
    "start_time": "2025-05-10T17:32:08.497Z"
   },
   {
    "duration": 5,
    "start_time": "2025-05-10T17:32:56.312Z"
   },
   {
    "duration": 12,
    "start_time": "2025-05-10T17:36:47.968Z"
   },
   {
    "duration": 4,
    "start_time": "2025-05-10T17:37:23.764Z"
   },
   {
    "duration": 4,
    "start_time": "2025-05-10T17:37:41.016Z"
   },
   {
    "duration": 4,
    "start_time": "2025-05-10T17:37:47.172Z"
   },
   {
    "duration": 14,
    "start_time": "2025-05-10T17:38:00.589Z"
   },
   {
    "duration": 12,
    "start_time": "2025-05-10T17:38:14.328Z"
   },
   {
    "duration": 6,
    "start_time": "2025-05-10T17:40:20.578Z"
   },
   {
    "duration": 16,
    "start_time": "2025-05-10T17:40:26.615Z"
   },
   {
    "duration": 138,
    "start_time": "2025-05-10T17:40:39.537Z"
   },
   {
    "duration": 4,
    "start_time": "2025-05-10T17:40:59.173Z"
   },
   {
    "duration": 35,
    "start_time": "2025-05-10T17:41:29.283Z"
   },
   {
    "duration": 12,
    "start_time": "2025-05-10T17:41:43.201Z"
   },
   {
    "duration": 4,
    "start_time": "2025-05-10T17:42:46.173Z"
   },
   {
    "duration": 125,
    "start_time": "2025-05-10T17:43:18.925Z"
   },
   {
    "duration": 4,
    "start_time": "2025-05-10T17:43:46.270Z"
   },
   {
    "duration": 4,
    "start_time": "2025-05-10T17:54:09.886Z"
   },
   {
    "duration": 4,
    "start_time": "2025-05-10T17:54:19.346Z"
   },
   {
    "duration": 265,
    "start_time": "2025-05-10T17:54:45.675Z"
   },
   {
    "duration": 118,
    "start_time": "2025-05-10T17:54:46.033Z"
   },
   {
    "duration": 13,
    "start_time": "2025-05-10T17:54:46.153Z"
   },
   {
    "duration": 24,
    "start_time": "2025-05-10T17:54:46.357Z"
   },
   {
    "duration": 5,
    "start_time": "2025-05-10T17:54:46.770Z"
   },
   {
    "duration": 38,
    "start_time": "2025-05-10T17:54:46.790Z"
   },
   {
    "duration": 4,
    "start_time": "2025-05-10T17:54:47.148Z"
   },
   {
    "duration": 4,
    "start_time": "2025-05-10T17:54:47.218Z"
   },
   {
    "duration": 4,
    "start_time": "2025-05-10T17:54:47.341Z"
   },
   {
    "duration": 17,
    "start_time": "2025-05-10T17:54:47.657Z"
   },
   {
    "duration": 7,
    "start_time": "2025-05-10T17:54:47.817Z"
   },
   {
    "duration": 30,
    "start_time": "2025-05-10T17:54:48.095Z"
   },
   {
    "duration": 3,
    "start_time": "2025-05-10T17:54:48.491Z"
   },
   {
    "duration": 4,
    "start_time": "2025-05-10T17:54:48.736Z"
   },
   {
    "duration": 3,
    "start_time": "2025-05-10T17:54:49.043Z"
   },
   {
    "duration": 4,
    "start_time": "2025-05-10T17:54:49.169Z"
   },
   {
    "duration": 3,
    "start_time": "2025-05-10T17:54:49.844Z"
   },
   {
    "duration": 16,
    "start_time": "2025-05-10T17:54:50.369Z"
   },
   {
    "duration": 5,
    "start_time": "2025-05-10T17:54:57.092Z"
   },
   {
    "duration": 4,
    "start_time": "2025-05-10T17:55:49.323Z"
   },
   {
    "duration": 5,
    "start_time": "2025-05-10T17:56:07.363Z"
   },
   {
    "duration": 4,
    "start_time": "2025-05-10T17:56:20.929Z"
   },
   {
    "duration": 4,
    "start_time": "2025-05-10T17:57:54.645Z"
   },
   {
    "duration": 4,
    "start_time": "2025-05-10T17:58:18.697Z"
   },
   {
    "duration": 4,
    "start_time": "2025-05-10T17:58:48.281Z"
   },
   {
    "duration": 5,
    "start_time": "2025-05-10T17:59:01.776Z"
   },
   {
    "duration": 4,
    "start_time": "2025-05-10T17:59:30.648Z"
   },
   {
    "duration": 4,
    "start_time": "2025-05-10T17:59:37.047Z"
   },
   {
    "duration": 5,
    "start_time": "2025-05-10T18:00:11.217Z"
   },
   {
    "duration": 4,
    "start_time": "2025-05-10T18:00:25.782Z"
   },
   {
    "duration": 3,
    "start_time": "2025-05-10T18:00:48.449Z"
   },
   {
    "duration": 4,
    "start_time": "2025-05-10T18:00:57.496Z"
   },
   {
    "duration": 3,
    "start_time": "2025-05-10T18:08:51.673Z"
   },
   {
    "duration": 4,
    "start_time": "2025-05-10T18:08:54.771Z"
   },
   {
    "duration": 91,
    "start_time": "2025-05-10T18:08:55.996Z"
   },
   {
    "duration": 3,
    "start_time": "2025-05-10T18:09:17.932Z"
   },
   {
    "duration": 3,
    "start_time": "2025-05-10T18:09:21.051Z"
   },
   {
    "duration": 466,
    "start_time": "2025-05-10T18:09:21.498Z"
   },
   {
    "duration": 4,
    "start_time": "2025-05-10T18:10:57.484Z"
   },
   {
    "duration": 3,
    "start_time": "2025-05-10T18:11:00.399Z"
   },
   {
    "duration": 49,
    "start_time": "2025-05-10T18:11:01.665Z"
   },
   {
    "duration": 4,
    "start_time": "2025-05-10T18:11:47.772Z"
   },
   {
    "duration": 4,
    "start_time": "2025-05-10T18:12:11.869Z"
   },
   {
    "duration": 2,
    "start_time": "2025-05-10T18:12:45.956Z"
   },
   {
    "duration": 2,
    "start_time": "2025-05-10T18:12:46.164Z"
   },
   {
    "duration": 3,
    "start_time": "2025-05-10T18:12:46.326Z"
   },
   {
    "duration": 2,
    "start_time": "2025-05-10T18:12:48.403Z"
   },
   {
    "duration": 115,
    "start_time": "2025-05-10T18:12:48.803Z"
   },
   {
    "duration": 8,
    "start_time": "2025-05-10T18:12:48.941Z"
   },
   {
    "duration": 22,
    "start_time": "2025-05-10T18:12:49.275Z"
   },
   {
    "duration": 5,
    "start_time": "2025-05-10T18:12:49.510Z"
   },
   {
    "duration": 40,
    "start_time": "2025-05-10T18:12:49.677Z"
   },
   {
    "duration": 5,
    "start_time": "2025-05-10T18:12:50.026Z"
   },
   {
    "duration": 4,
    "start_time": "2025-05-10T18:12:50.081Z"
   },
   {
    "duration": 4,
    "start_time": "2025-05-10T18:12:50.260Z"
   },
   {
    "duration": 17,
    "start_time": "2025-05-10T18:12:50.553Z"
   },
   {
    "duration": 6,
    "start_time": "2025-05-10T18:12:50.661Z"
   },
   {
    "duration": 21,
    "start_time": "2025-05-10T18:12:50.976Z"
   },
   {
    "duration": 3,
    "start_time": "2025-05-10T18:12:51.279Z"
   },
   {
    "duration": 4,
    "start_time": "2025-05-10T18:12:51.403Z"
   },
   {
    "duration": 3,
    "start_time": "2025-05-10T18:12:51.670Z"
   },
   {
    "duration": 5,
    "start_time": "2025-05-10T18:12:51.891Z"
   },
   {
    "duration": 3,
    "start_time": "2025-05-10T18:12:52.117Z"
   },
   {
    "duration": 16,
    "start_time": "2025-05-10T18:12:52.299Z"
   },
   {
    "duration": 4,
    "start_time": "2025-05-10T18:12:52.551Z"
   },
   {
    "duration": 46,
    "start_time": "2025-05-10T18:12:52.846Z"
   },
   {
    "duration": 4,
    "start_time": "2025-05-10T18:13:50.930Z"
   },
   {
    "duration": 4,
    "start_time": "2025-05-10T18:17:56.658Z"
   },
   {
    "duration": 3,
    "start_time": "2025-05-10T18:18:00.527Z"
   },
   {
    "duration": 46,
    "start_time": "2025-05-10T18:18:03.111Z"
   },
   {
    "duration": 3,
    "start_time": "2025-05-10T18:18:37.190Z"
   },
   {
    "duration": 4,
    "start_time": "2025-05-10T18:18:42.491Z"
   },
   {
    "duration": 4,
    "start_time": "2025-05-10T18:18:43.837Z"
   },
   {
    "duration": 46,
    "start_time": "2025-05-10T18:18:44.638Z"
   },
   {
    "duration": 3,
    "start_time": "2025-05-10T18:18:54.464Z"
   },
   {
    "duration": 4,
    "start_time": "2025-05-10T18:19:06.939Z"
   },
   {
    "duration": 4,
    "start_time": "2025-05-10T18:19:19.566Z"
   },
   {
    "duration": 3,
    "start_time": "2025-05-10T18:19:20.494Z"
   },
   {
    "duration": 4,
    "start_time": "2025-05-10T18:20:25.263Z"
   },
   {
    "duration": 4,
    "start_time": "2025-05-10T18:20:28.908Z"
   },
   {
    "duration": 48,
    "start_time": "2025-05-10T18:20:29.618Z"
   },
   {
    "duration": 11,
    "start_time": "2025-05-10T18:21:01.047Z"
   },
   {
    "duration": 45,
    "start_time": "2025-05-10T18:21:17.550Z"
   },
   {
    "duration": 12,
    "start_time": "2025-05-10T18:21:55.149Z"
   },
   {
    "duration": 4,
    "start_time": "2025-05-10T18:22:36.421Z"
   },
   {
    "duration": 47,
    "start_time": "2025-05-10T18:22:39.363Z"
   },
   {
    "duration": 13,
    "start_time": "2025-05-10T18:22:51.681Z"
   },
   {
    "duration": 4,
    "start_time": "2025-05-10T18:24:53.422Z"
   },
   {
    "duration": 4,
    "start_time": "2025-05-10T18:24:55.799Z"
   },
   {
    "duration": 22,
    "start_time": "2025-05-10T18:24:58.038Z"
   },
   {
    "duration": 3,
    "start_time": "2025-05-10T18:25:26.381Z"
   },
   {
    "duration": 3,
    "start_time": "2025-05-10T18:25:43.853Z"
   },
   {
    "duration": 3,
    "start_time": "2025-05-10T18:25:47.432Z"
   },
   {
    "duration": 17,
    "start_time": "2025-05-10T18:25:49.360Z"
   },
   {
    "duration": 3,
    "start_time": "2025-05-10T18:26:17.809Z"
   },
   {
    "duration": 3,
    "start_time": "2025-05-10T18:26:19.679Z"
   },
   {
    "duration": 18,
    "start_time": "2025-05-10T18:26:21.486Z"
   },
   {
    "duration": 3,
    "start_time": "2025-05-10T18:26:44.518Z"
   },
   {
    "duration": 4,
    "start_time": "2025-05-10T18:26:47.194Z"
   },
   {
    "duration": 186,
    "start_time": "2025-05-10T18:26:47.612Z"
   },
   {
    "duration": 44,
    "start_time": "2025-05-10T18:27:25.886Z"
   },
   {
    "duration": 39,
    "start_time": "2025-05-10T18:27:37.086Z"
   },
   {
    "duration": 43,
    "start_time": "2025-05-10T18:28:10.233Z"
   },
   {
    "duration": 45,
    "start_time": "2025-05-10T18:28:16.137Z"
   },
   {
    "duration": 38,
    "start_time": "2025-05-10T18:28:38.591Z"
   },
   {
    "duration": 45,
    "start_time": "2025-05-10T18:29:08.185Z"
   },
   {
    "duration": 12,
    "start_time": "2025-05-10T18:29:18.757Z"
   },
   {
    "duration": 4,
    "start_time": "2025-05-10T18:36:54.311Z"
   },
   {
    "duration": 54,
    "start_time": "2025-05-10T18:36:58.730Z"
   },
   {
    "duration": 3,
    "start_time": "2025-05-10T18:40:00.124Z"
   },
   {
    "duration": 3,
    "start_time": "2025-05-10T18:40:02.114Z"
   },
   {
    "duration": 55,
    "start_time": "2025-05-10T18:40:02.767Z"
   },
   {
    "duration": 3,
    "start_time": "2025-05-10T18:40:08.639Z"
   },
   {
    "duration": 4,
    "start_time": "2025-05-10T18:40:10.695Z"
   },
   {
    "duration": 54,
    "start_time": "2025-05-10T18:40:11.916Z"
   },
   {
    "duration": 44,
    "start_time": "2025-05-10T18:40:28.772Z"
   },
   {
    "duration": 37,
    "start_time": "2025-05-10T18:41:13.856Z"
   },
   {
    "duration": 4,
    "start_time": "2025-05-10T18:41:27.218Z"
   },
   {
    "duration": 3,
    "start_time": "2025-05-10T18:42:09.302Z"
   },
   {
    "duration": 3,
    "start_time": "2025-05-10T18:42:10.873Z"
   },
   {
    "duration": 16,
    "start_time": "2025-05-10T18:42:11.623Z"
   },
   {
    "duration": 37,
    "start_time": "2025-05-10T18:42:52.976Z"
   },
   {
    "duration": 29,
    "start_time": "2025-05-10T18:43:07.926Z"
   },
   {
    "duration": 27,
    "start_time": "2025-05-10T18:43:35.104Z"
   },
   {
    "duration": 5,
    "start_time": "2025-05-10T18:43:49.278Z"
   },
   {
    "duration": 3,
    "start_time": "2025-05-10T18:44:05.688Z"
   },
   {
    "duration": 3,
    "start_time": "2025-05-10T18:44:06.963Z"
   },
   {
    "duration": 17,
    "start_time": "2025-05-10T18:44:07.888Z"
   },
   {
    "duration": 4,
    "start_time": "2025-05-10T18:47:02.042Z"
   },
   {
    "duration": 4,
    "start_time": "2025-05-10T18:47:03.179Z"
   },
   {
    "duration": 17,
    "start_time": "2025-05-10T18:47:04.030Z"
   },
   {
    "duration": 5,
    "start_time": "2025-05-10T18:48:24.447Z"
   },
   {
    "duration": 4,
    "start_time": "2025-05-10T18:49:15.249Z"
   },
   {
    "duration": 4,
    "start_time": "2025-05-10T18:49:16.749Z"
   },
   {
    "duration": 17,
    "start_time": "2025-05-10T18:49:17.767Z"
   },
   {
    "duration": 5,
    "start_time": "2025-05-10T18:49:41.600Z"
   },
   {
    "duration": 3,
    "start_time": "2025-05-10T18:49:47.336Z"
   },
   {
    "duration": 4,
    "start_time": "2025-05-10T18:49:50.290Z"
   },
   {
    "duration": 47,
    "start_time": "2025-05-10T18:49:51.319Z"
   },
   {
    "duration": 3,
    "start_time": "2025-05-10T18:50:12.337Z"
   },
   {
    "duration": 3,
    "start_time": "2025-05-10T18:50:14.191Z"
   },
   {
    "duration": 17,
    "start_time": "2025-05-10T18:50:15.421Z"
   },
   {
    "duration": 6,
    "start_time": "2025-05-10T18:51:11.194Z"
   },
   {
    "duration": 3,
    "start_time": "2025-05-10T18:51:12.363Z"
   },
   {
    "duration": 7,
    "start_time": "2025-05-10T18:51:13.026Z"
   },
   {
    "duration": 3,
    "start_time": "2025-05-10T18:52:33.524Z"
   },
   {
    "duration": 4,
    "start_time": "2025-05-10T18:52:34.644Z"
   },
   {
    "duration": 7,
    "start_time": "2025-05-10T18:52:35.088Z"
   },
   {
    "duration": 3,
    "start_time": "2025-05-10T18:52:51.158Z"
   },
   {
    "duration": 3,
    "start_time": "2025-05-10T18:52:52.628Z"
   },
   {
    "duration": 8,
    "start_time": "2025-05-10T18:52:53.988Z"
   },
   {
    "duration": 4,
    "start_time": "2025-05-10T18:53:59.811Z"
   },
   {
    "duration": 3,
    "start_time": "2025-05-10T18:54:17.992Z"
   },
   {
    "duration": 4,
    "start_time": "2025-05-10T18:54:29.086Z"
   },
   {
    "duration": 6,
    "start_time": "2025-05-10T18:54:30.793Z"
   },
   {
    "duration": 7,
    "start_time": "2025-05-10T18:54:31.214Z"
   },
   {
    "duration": 3,
    "start_time": "2025-05-10T18:54:37.224Z"
   },
   {
    "duration": 7,
    "start_time": "2025-05-10T18:54:37.643Z"
   },
   {
    "duration": 4,
    "start_time": "2025-05-10T18:55:25.070Z"
   },
   {
    "duration": 4,
    "start_time": "2025-05-10T18:55:27.059Z"
   },
   {
    "duration": 3,
    "start_time": "2025-05-10T18:55:29.421Z"
   },
   {
    "duration": 7,
    "start_time": "2025-05-10T18:55:31.011Z"
   },
   {
    "duration": 366,
    "start_time": "2025-05-10T19:33:57.846Z"
   },
   {
    "duration": 141,
    "start_time": "2025-05-10T19:33:58.214Z"
   },
   {
    "duration": 13,
    "start_time": "2025-05-10T19:33:58.357Z"
   },
   {
    "duration": 23,
    "start_time": "2025-05-10T19:33:58.372Z"
   },
   {
    "duration": 27,
    "start_time": "2025-05-10T19:33:58.397Z"
   },
   {
    "duration": 38,
    "start_time": "2025-05-10T19:33:58.426Z"
   },
   {
    "duration": 4,
    "start_time": "2025-05-10T19:33:58.466Z"
   },
   {
    "duration": 4,
    "start_time": "2025-05-10T19:33:58.471Z"
   },
   {
    "duration": 4,
    "start_time": "2025-05-10T19:33:58.477Z"
   },
   {
    "duration": 48,
    "start_time": "2025-05-10T19:33:58.482Z"
   },
   {
    "duration": 6,
    "start_time": "2025-05-10T19:33:58.532Z"
   },
   {
    "duration": 20,
    "start_time": "2025-05-10T19:33:58.540Z"
   },
   {
    "duration": 3,
    "start_time": "2025-05-10T19:33:58.561Z"
   },
   {
    "duration": 3,
    "start_time": "2025-05-10T19:33:58.568Z"
   },
   {
    "duration": 3,
    "start_time": "2025-05-10T19:33:58.573Z"
   },
   {
    "duration": 5,
    "start_time": "2025-05-10T19:33:58.577Z"
   },
   {
    "duration": 3,
    "start_time": "2025-05-10T19:33:58.584Z"
   },
   {
    "duration": 52,
    "start_time": "2025-05-10T19:33:58.588Z"
   },
   {
    "duration": 3,
    "start_time": "2025-05-10T19:33:58.642Z"
   },
   {
    "duration": 7,
    "start_time": "2025-05-10T19:33:58.647Z"
   }
  ],
  "colab": {
   "provenance": []
  },
  "kernelspec": {
   "display_name": "Python 3 (ipykernel)",
   "language": "python",
   "name": "python3"
  },
  "language_info": {
   "codemirror_mode": {
    "name": "ipython",
    "version": 3
   },
   "file_extension": ".py",
   "mimetype": "text/x-python",
   "name": "python",
   "nbconvert_exporter": "python",
   "pygments_lexer": "ipython3",
   "version": "3.9.19"
  },
  "toc": {
   "base_numbering": 1,
   "nav_menu": {},
   "number_sections": true,
   "sideBar": true,
   "skip_h1_title": true,
   "title_cell": "Table of Contents",
   "title_sidebar": "Contents",
   "toc_cell": false,
   "toc_position": {},
   "toc_section_display": true,
   "toc_window_display": false
  }
 },
 "nbformat": 4,
 "nbformat_minor": 1
}
